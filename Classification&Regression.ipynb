{
  "nbformat": 4,
  "nbformat_minor": 0,
  "metadata": {
    "colab": {
      "name": "Classification&Regression.ipynb",
      "provenance": [],
      "collapsed_sections": [],
      "toc_visible": true
    },
    "kernelspec": {
      "name": "python3",
      "display_name": "Python 3"
    },
    "language_info": {
      "name": "python"
    },
    "widgets": {
      "application/vnd.jupyter.widget-state+json": {
        "98184397afd945d79d16a5dbd00c7ed0": {
          "model_module": "@jupyter-widgets/controls",
          "model_name": "HBoxModel",
          "model_module_version": "1.5.0",
          "state": {
            "_view_name": "HBoxView",
            "_dom_classes": [],
            "_model_name": "HBoxModel",
            "_view_module": "@jupyter-widgets/controls",
            "_model_module_version": "1.5.0",
            "_view_count": null,
            "_view_module_version": "1.5.0",
            "box_style": "",
            "layout": "IPY_MODEL_f8379f4bd30649cc9ed6bcc7f192f7b1",
            "_model_module": "@jupyter-widgets/controls",
            "children": [
              "IPY_MODEL_0db8a4c2f57944ce995906af01444551",
              "IPY_MODEL_f2cb528480f34477991ad202fa748441"
            ]
          }
        },
        "f8379f4bd30649cc9ed6bcc7f192f7b1": {
          "model_module": "@jupyter-widgets/base",
          "model_name": "LayoutModel",
          "model_module_version": "1.2.0",
          "state": {
            "_view_name": "LayoutView",
            "grid_template_rows": null,
            "right": null,
            "justify_content": null,
            "_view_module": "@jupyter-widgets/base",
            "overflow": null,
            "_model_module_version": "1.2.0",
            "_view_count": null,
            "flex_flow": null,
            "width": null,
            "min_width": null,
            "border": null,
            "align_items": null,
            "bottom": null,
            "_model_module": "@jupyter-widgets/base",
            "top": null,
            "grid_column": null,
            "overflow_y": null,
            "overflow_x": null,
            "grid_auto_flow": null,
            "grid_area": null,
            "grid_template_columns": null,
            "flex": null,
            "_model_name": "LayoutModel",
            "justify_items": null,
            "grid_row": null,
            "max_height": null,
            "align_content": null,
            "visibility": null,
            "align_self": null,
            "height": null,
            "min_height": null,
            "padding": null,
            "grid_auto_rows": null,
            "grid_gap": null,
            "max_width": null,
            "order": null,
            "_view_module_version": "1.2.0",
            "grid_template_areas": null,
            "object_position": null,
            "object_fit": null,
            "grid_auto_columns": null,
            "margin": null,
            "display": null,
            "left": null
          }
        },
        "0db8a4c2f57944ce995906af01444551": {
          "model_module": "@jupyter-widgets/controls",
          "model_name": "FloatProgressModel",
          "model_module_version": "1.5.0",
          "state": {
            "_view_name": "ProgressView",
            "style": "IPY_MODEL_70435227bd234971bfe75b2b95957402",
            "_dom_classes": [],
            "description": "100%",
            "_model_name": "FloatProgressModel",
            "bar_style": "success",
            "max": 1,
            "_view_module": "@jupyter-widgets/controls",
            "_model_module_version": "1.5.0",
            "value": 1,
            "_view_count": null,
            "_view_module_version": "1.5.0",
            "orientation": "horizontal",
            "min": 0,
            "description_tooltip": null,
            "_model_module": "@jupyter-widgets/controls",
            "layout": "IPY_MODEL_2050183ce6cf4715acbc4da0bfc4d7ea"
          }
        },
        "f2cb528480f34477991ad202fa748441": {
          "model_module": "@jupyter-widgets/controls",
          "model_name": "HTMLModel",
          "model_module_version": "1.5.0",
          "state": {
            "_view_name": "HTMLView",
            "style": "IPY_MODEL_56325049438d40769feeceb0c1453453",
            "_dom_classes": [],
            "description": "",
            "_model_name": "HTMLModel",
            "placeholder": "​",
            "_view_module": "@jupyter-widgets/controls",
            "_model_module_version": "1.5.0",
            "value": " 1/1 [12:21&lt;00:00, 741.10s/it]",
            "_view_count": null,
            "_view_module_version": "1.5.0",
            "description_tooltip": null,
            "_model_module": "@jupyter-widgets/controls",
            "layout": "IPY_MODEL_8f71e166afd64b05aab70a2d8e17a976"
          }
        },
        "70435227bd234971bfe75b2b95957402": {
          "model_module": "@jupyter-widgets/controls",
          "model_name": "ProgressStyleModel",
          "model_module_version": "1.5.0",
          "state": {
            "_view_name": "StyleView",
            "_model_name": "ProgressStyleModel",
            "description_width": "initial",
            "_view_module": "@jupyter-widgets/base",
            "_model_module_version": "1.5.0",
            "_view_count": null,
            "_view_module_version": "1.2.0",
            "bar_color": null,
            "_model_module": "@jupyter-widgets/controls"
          }
        },
        "2050183ce6cf4715acbc4da0bfc4d7ea": {
          "model_module": "@jupyter-widgets/base",
          "model_name": "LayoutModel",
          "model_module_version": "1.2.0",
          "state": {
            "_view_name": "LayoutView",
            "grid_template_rows": null,
            "right": null,
            "justify_content": null,
            "_view_module": "@jupyter-widgets/base",
            "overflow": null,
            "_model_module_version": "1.2.0",
            "_view_count": null,
            "flex_flow": null,
            "width": null,
            "min_width": null,
            "border": null,
            "align_items": null,
            "bottom": null,
            "_model_module": "@jupyter-widgets/base",
            "top": null,
            "grid_column": null,
            "overflow_y": null,
            "overflow_x": null,
            "grid_auto_flow": null,
            "grid_area": null,
            "grid_template_columns": null,
            "flex": null,
            "_model_name": "LayoutModel",
            "justify_items": null,
            "grid_row": null,
            "max_height": null,
            "align_content": null,
            "visibility": null,
            "align_self": null,
            "height": null,
            "min_height": null,
            "padding": null,
            "grid_auto_rows": null,
            "grid_gap": null,
            "max_width": null,
            "order": null,
            "_view_module_version": "1.2.0",
            "grid_template_areas": null,
            "object_position": null,
            "object_fit": null,
            "grid_auto_columns": null,
            "margin": null,
            "display": null,
            "left": null
          }
        },
        "56325049438d40769feeceb0c1453453": {
          "model_module": "@jupyter-widgets/controls",
          "model_name": "DescriptionStyleModel",
          "model_module_version": "1.5.0",
          "state": {
            "_view_name": "StyleView",
            "_model_name": "DescriptionStyleModel",
            "description_width": "",
            "_view_module": "@jupyter-widgets/base",
            "_model_module_version": "1.5.0",
            "_view_count": null,
            "_view_module_version": "1.2.0",
            "_model_module": "@jupyter-widgets/controls"
          }
        },
        "8f71e166afd64b05aab70a2d8e17a976": {
          "model_module": "@jupyter-widgets/base",
          "model_name": "LayoutModel",
          "model_module_version": "1.2.0",
          "state": {
            "_view_name": "LayoutView",
            "grid_template_rows": null,
            "right": null,
            "justify_content": null,
            "_view_module": "@jupyter-widgets/base",
            "overflow": null,
            "_model_module_version": "1.2.0",
            "_view_count": null,
            "flex_flow": null,
            "width": null,
            "min_width": null,
            "border": null,
            "align_items": null,
            "bottom": null,
            "_model_module": "@jupyter-widgets/base",
            "top": null,
            "grid_column": null,
            "overflow_y": null,
            "overflow_x": null,
            "grid_auto_flow": null,
            "grid_area": null,
            "grid_template_columns": null,
            "flex": null,
            "_model_name": "LayoutModel",
            "justify_items": null,
            "grid_row": null,
            "max_height": null,
            "align_content": null,
            "visibility": null,
            "align_self": null,
            "height": null,
            "min_height": null,
            "padding": null,
            "grid_auto_rows": null,
            "grid_gap": null,
            "max_width": null,
            "order": null,
            "_view_module_version": "1.2.0",
            "grid_template_areas": null,
            "object_position": null,
            "object_fit": null,
            "grid_auto_columns": null,
            "margin": null,
            "display": null,
            "left": null
          }
        },
        "7571058826ff483d960b7c7acc141fa9": {
          "model_module": "@jupyter-widgets/controls",
          "model_name": "HBoxModel",
          "model_module_version": "1.5.0",
          "state": {
            "_view_name": "HBoxView",
            "_dom_classes": [],
            "_model_name": "HBoxModel",
            "_view_module": "@jupyter-widgets/controls",
            "_model_module_version": "1.5.0",
            "_view_count": null,
            "_view_module_version": "1.5.0",
            "box_style": "",
            "layout": "IPY_MODEL_db9e096ecaea43878c60e48d339d58a6",
            "_model_module": "@jupyter-widgets/controls",
            "children": [
              "IPY_MODEL_5c6b24f5fc8142a0916a52fee72d56fd",
              "IPY_MODEL_6f1aaab205934a2f95fdd06e75bd608a"
            ]
          }
        },
        "db9e096ecaea43878c60e48d339d58a6": {
          "model_module": "@jupyter-widgets/base",
          "model_name": "LayoutModel",
          "model_module_version": "1.2.0",
          "state": {
            "_view_name": "LayoutView",
            "grid_template_rows": null,
            "right": null,
            "justify_content": null,
            "_view_module": "@jupyter-widgets/base",
            "overflow": null,
            "_model_module_version": "1.2.0",
            "_view_count": null,
            "flex_flow": null,
            "width": null,
            "min_width": null,
            "border": null,
            "align_items": null,
            "bottom": null,
            "_model_module": "@jupyter-widgets/base",
            "top": null,
            "grid_column": null,
            "overflow_y": null,
            "overflow_x": null,
            "grid_auto_flow": null,
            "grid_area": null,
            "grid_template_columns": null,
            "flex": null,
            "_model_name": "LayoutModel",
            "justify_items": null,
            "grid_row": null,
            "max_height": null,
            "align_content": null,
            "visibility": null,
            "align_self": null,
            "height": null,
            "min_height": null,
            "padding": null,
            "grid_auto_rows": null,
            "grid_gap": null,
            "max_width": null,
            "order": null,
            "_view_module_version": "1.2.0",
            "grid_template_areas": null,
            "object_position": null,
            "object_fit": null,
            "grid_auto_columns": null,
            "margin": null,
            "display": null,
            "left": null
          }
        },
        "5c6b24f5fc8142a0916a52fee72d56fd": {
          "model_module": "@jupyter-widgets/controls",
          "model_name": "FloatProgressModel",
          "model_module_version": "1.5.0",
          "state": {
            "_view_name": "ProgressView",
            "style": "IPY_MODEL_eebbc76e305240858bb4da16f643d4e7",
            "_dom_classes": [],
            "description": "100%",
            "_model_name": "FloatProgressModel",
            "bar_style": "success",
            "max": 1,
            "_view_module": "@jupyter-widgets/controls",
            "_model_module_version": "1.5.0",
            "value": 1,
            "_view_count": null,
            "_view_module_version": "1.5.0",
            "orientation": "horizontal",
            "min": 0,
            "description_tooltip": null,
            "_model_module": "@jupyter-widgets/controls",
            "layout": "IPY_MODEL_e8d0b54e20f14f488d83dc7744e1fdbd"
          }
        },
        "6f1aaab205934a2f95fdd06e75bd608a": {
          "model_module": "@jupyter-widgets/controls",
          "model_name": "HTMLModel",
          "model_module_version": "1.5.0",
          "state": {
            "_view_name": "HTMLView",
            "style": "IPY_MODEL_bd3605fba143407dbdf1b659c609435c",
            "_dom_classes": [],
            "description": "",
            "_model_name": "HTMLModel",
            "placeholder": "​",
            "_view_module": "@jupyter-widgets/controls",
            "_model_module_version": "1.5.0",
            "value": " 1/1 [6:37:26&lt;00:00, 23846.53s/it]",
            "_view_count": null,
            "_view_module_version": "1.5.0",
            "description_tooltip": null,
            "_model_module": "@jupyter-widgets/controls",
            "layout": "IPY_MODEL_a861a98f72cc4226b3cd7afa1c6fa03e"
          }
        },
        "eebbc76e305240858bb4da16f643d4e7": {
          "model_module": "@jupyter-widgets/controls",
          "model_name": "ProgressStyleModel",
          "model_module_version": "1.5.0",
          "state": {
            "_view_name": "StyleView",
            "_model_name": "ProgressStyleModel",
            "description_width": "initial",
            "_view_module": "@jupyter-widgets/base",
            "_model_module_version": "1.5.0",
            "_view_count": null,
            "_view_module_version": "1.2.0",
            "bar_color": null,
            "_model_module": "@jupyter-widgets/controls"
          }
        },
        "e8d0b54e20f14f488d83dc7744e1fdbd": {
          "model_module": "@jupyter-widgets/base",
          "model_name": "LayoutModel",
          "model_module_version": "1.2.0",
          "state": {
            "_view_name": "LayoutView",
            "grid_template_rows": null,
            "right": null,
            "justify_content": null,
            "_view_module": "@jupyter-widgets/base",
            "overflow": null,
            "_model_module_version": "1.2.0",
            "_view_count": null,
            "flex_flow": null,
            "width": null,
            "min_width": null,
            "border": null,
            "align_items": null,
            "bottom": null,
            "_model_module": "@jupyter-widgets/base",
            "top": null,
            "grid_column": null,
            "overflow_y": null,
            "overflow_x": null,
            "grid_auto_flow": null,
            "grid_area": null,
            "grid_template_columns": null,
            "flex": null,
            "_model_name": "LayoutModel",
            "justify_items": null,
            "grid_row": null,
            "max_height": null,
            "align_content": null,
            "visibility": null,
            "align_self": null,
            "height": null,
            "min_height": null,
            "padding": null,
            "grid_auto_rows": null,
            "grid_gap": null,
            "max_width": null,
            "order": null,
            "_view_module_version": "1.2.0",
            "grid_template_areas": null,
            "object_position": null,
            "object_fit": null,
            "grid_auto_columns": null,
            "margin": null,
            "display": null,
            "left": null
          }
        },
        "bd3605fba143407dbdf1b659c609435c": {
          "model_module": "@jupyter-widgets/controls",
          "model_name": "DescriptionStyleModel",
          "model_module_version": "1.5.0",
          "state": {
            "_view_name": "StyleView",
            "_model_name": "DescriptionStyleModel",
            "description_width": "",
            "_view_module": "@jupyter-widgets/base",
            "_model_module_version": "1.5.0",
            "_view_count": null,
            "_view_module_version": "1.2.0",
            "_model_module": "@jupyter-widgets/controls"
          }
        },
        "a861a98f72cc4226b3cd7afa1c6fa03e": {
          "model_module": "@jupyter-widgets/base",
          "model_name": "LayoutModel",
          "model_module_version": "1.2.0",
          "state": {
            "_view_name": "LayoutView",
            "grid_template_rows": null,
            "right": null,
            "justify_content": null,
            "_view_module": "@jupyter-widgets/base",
            "overflow": null,
            "_model_module_version": "1.2.0",
            "_view_count": null,
            "flex_flow": null,
            "width": null,
            "min_width": null,
            "border": null,
            "align_items": null,
            "bottom": null,
            "_model_module": "@jupyter-widgets/base",
            "top": null,
            "grid_column": null,
            "overflow_y": null,
            "overflow_x": null,
            "grid_auto_flow": null,
            "grid_area": null,
            "grid_template_columns": null,
            "flex": null,
            "_model_name": "LayoutModel",
            "justify_items": null,
            "grid_row": null,
            "max_height": null,
            "align_content": null,
            "visibility": null,
            "align_self": null,
            "height": null,
            "min_height": null,
            "padding": null,
            "grid_auto_rows": null,
            "grid_gap": null,
            "max_width": null,
            "order": null,
            "_view_module_version": "1.2.0",
            "grid_template_areas": null,
            "object_position": null,
            "object_fit": null,
            "grid_auto_columns": null,
            "margin": null,
            "display": null,
            "left": null
          }
        }
      }
    }
  },
  "cells": [
    {
      "cell_type": "code",
      "metadata": {
        "colab": {
          "base_uri": "https://localhost:8080/"
        },
        "id": "KVRBh6cFYmSv",
        "outputId": "409021c3-c85a-49b3-d5e7-f243b155a00e"
      },
      "source": [
        "!unzip /content/0753aae4bec411eb.zip"
      ],
      "execution_count": null,
      "outputs": [
        {
          "output_type": "stream",
          "text": [
            "Archive:  /content/0753aae4bec411eb.zip\n",
            "  inflating: sample submission.csv   \n",
            "  inflating: Test.csv                \n",
            "  inflating: Train.csv               \n"
          ],
          "name": "stdout"
        }
      ]
    },
    {
      "cell_type": "code",
      "metadata": {
        "id": "k1KOfyl1ZRIc"
      },
      "source": [
        "import pandas as pd\n",
        "train_data = pd.read_csv(\"/content/Train.csv\")\n",
        "\n",
        "test_data =  pd.read_csv(\"/content/Test.csv\")\n"
      ],
      "execution_count": null,
      "outputs": []
    },
    {
      "cell_type": "code",
      "metadata": {
        "colab": {
          "base_uri": "https://localhost:8080/"
        },
        "id": "ZDs5ntZiZcNM",
        "outputId": "1e19ab2a-589c-4c90-958e-1646934af722"
      },
      "source": [
        "!pip install catboost"
      ],
      "execution_count": null,
      "outputs": [
        {
          "output_type": "stream",
          "text": [
            "Requirement already satisfied: catboost in /usr/local/lib/python3.7/dist-packages (0.26)\n",
            "Requirement already satisfied: scipy in /usr/local/lib/python3.7/dist-packages (from catboost) (1.4.1)\n",
            "Requirement already satisfied: plotly in /usr/local/lib/python3.7/dist-packages (from catboost) (4.4.1)\n",
            "Requirement already satisfied: matplotlib in /usr/local/lib/python3.7/dist-packages (from catboost) (3.2.2)\n",
            "Requirement already satisfied: six in /usr/local/lib/python3.7/dist-packages (from catboost) (1.15.0)\n",
            "Requirement already satisfied: graphviz in /usr/local/lib/python3.7/dist-packages (from catboost) (0.10.1)\n",
            "Requirement already satisfied: pandas>=0.24.0 in /usr/local/lib/python3.7/dist-packages (from catboost) (1.1.5)\n",
            "Requirement already satisfied: numpy>=1.16.0 in /usr/local/lib/python3.7/dist-packages (from catboost) (1.19.5)\n",
            "Requirement already satisfied: retrying>=1.3.3 in /usr/local/lib/python3.7/dist-packages (from plotly->catboost) (1.3.3)\n",
            "Requirement already satisfied: kiwisolver>=1.0.1 in /usr/local/lib/python3.7/dist-packages (from matplotlib->catboost) (1.3.1)\n",
            "Requirement already satisfied: python-dateutil>=2.1 in /usr/local/lib/python3.7/dist-packages (from matplotlib->catboost) (2.8.1)\n",
            "Requirement already satisfied: pyparsing!=2.0.4,!=2.1.2,!=2.1.6,>=2.0.1 in /usr/local/lib/python3.7/dist-packages (from matplotlib->catboost) (2.4.7)\n",
            "Requirement already satisfied: cycler>=0.10 in /usr/local/lib/python3.7/dist-packages (from matplotlib->catboost) (0.10.0)\n",
            "Requirement already satisfied: pytz>=2017.2 in /usr/local/lib/python3.7/dist-packages (from pandas>=0.24.0->catboost) (2018.9)\n"
          ],
          "name": "stdout"
        }
      ]
    },
    {
      "cell_type": "code",
      "metadata": {
        "id": "vYKohKTn_Xw4"
      },
      "source": [
        "import pandas as pd\n",
        "import matplotlib.pyplot as plt\n",
        "import numpy as np\n",
        "from matplotlib.pylab import rcParams\n",
        "rcParams['figure.figsize'] = 15,15\n",
        "import seaborn as sns\n",
        "import os\n",
        "import xgboost as xgb\n",
        "import lightgbm as lgb\n",
        "from catboost import CatBoostClassifier\n",
        "from sklearn.model_selection import train_test_split,StratifiedShuffleSplit,StratifiedKFold\n",
        "from sklearn.preprocessing import LabelEncoder\n",
        "from sklearn.metrics import roc_auc_score,accuracy_score ,confusion_matrix\n",
        "from sklearn.preprocessing import KBinsDiscretizer\n",
        "from sklearn.preprocessing import RobustScaler\n",
        "import warnings\n",
        "warnings.filterwarnings(\"ignore\")\n",
        "from tqdm.notebook import tqdm ,tnrange\n",
        "\n",
        "from catboost import CatBoostRegressor"
      ],
      "execution_count": null,
      "outputs": []
    },
    {
      "cell_type": "markdown",
      "metadata": {
        "id": "Ql9GfqfDBhqk"
      },
      "source": [
        "Some Helper Functions From various Kaggle Kernels"
      ]
    },
    {
      "cell_type": "code",
      "metadata": {
        "id": "TaxGZEEyZfMA"
      },
      "source": [
        "def nullColumns(train_data):\n",
        "    list_of_nullcolumns =[]\n",
        "    for column in train_data.columns: \n",
        "        total= train_data[column].isna().sum()\n",
        "        try:\n",
        "            if total !=0:\n",
        "                print('Total Na values is {0} for column {1}' .format(total, column))\n",
        "                list_of_nullcolumns.append(column)\n",
        "        except: \n",
        "            print(column,\"-----\",total)\n",
        "    print('\\n')\n",
        "    return list_of_nullcolumns\n",
        "\n",
        "\n",
        "def percentMissingFeature(data):\n",
        "    data_na = (data.isnull().sum() / len(data)) * 100\n",
        "    data_na = data_na.drop(data_na[data_na == 0].index).sort_values(ascending=False)[:30]\n",
        "    missing_data = pd.DataFrame({'Missing Ratio' :data_na})\n",
        "    return data_na\n",
        "\n",
        "\n",
        "def plotMissingFeature(data_na):\n",
        "    f, ax = plt.subplots(figsize=(15, 12))\n",
        "    plt.xticks(rotation='90')\n",
        "    if(data_na.empty ==False):\n",
        "        sns.barplot(x=data_na.index, y=data_na)\n",
        "        plt.xlabel('Features', fontsize=15)\n",
        "        plt.ylabel('Percent of missing values', fontsize=15)\n",
        "        plt.title('Percent missing data by feature', fontsize=15)"
      ],
      "execution_count": null,
      "outputs": []
    },
    {
      "cell_type": "code",
      "metadata": {
        "id": "Np8lp6VnBe0z"
      },
      "source": [
        "def feature_importance(model, X_train):\n",
        "    fI = model.feature_importances_\n",
        "    print(fI)\n",
        "    names = X_train.columns.values\n",
        "    ticks = [i for i in range(len(names))]\n",
        "    plt.bar(ticks, fI)\n",
        "    plt.xticks(ticks, names,rotation = 90)\n",
        "    plt.show()"
      ],
      "execution_count": null,
      "outputs": []
    },
    {
      "cell_type": "code",
      "metadata": {
        "colab": {
          "base_uri": "https://localhost:8080/"
        },
        "id": "oOcf0JwEZsyN",
        "outputId": "02045a72-9d62-4f8a-d6ad-8e3ba1de0e9f"
      },
      "source": [
        "print('train data')\n",
        "print(nullColumns(train_data))\n",
        "print(percentMissingFeature(train_data))\n",
        "print('\\n')\n",
        "print('test_data')\n",
        "print(nullColumns(test_data))\n",
        "print(percentMissingFeature(test_data))"
      ],
      "execution_count": null,
      "outputs": [
        {
          "output_type": "stream",
          "text": [
            "train data\n",
            "Total Na values is 3336 for column BiasInfluentialFactor\n",
            "\n",
            "\n",
            "['BiasInfluentialFactor']\n",
            "BiasInfluentialFactor    24.448516\n",
            "dtype: float64\n",
            "\n",
            "\n",
            "test_data\n",
            "\n",
            "\n",
            "[]\n",
            "Series([], dtype: float64)\n"
          ],
          "name": "stdout"
        }
      ]
    },
    {
      "cell_type": "markdown",
      "metadata": {
        "id": "l9oou8kq_tKg"
      },
      "source": [
        "We'll Predict the 3336 values using a LightGBM Classifier"
      ]
    },
    {
      "cell_type": "code",
      "metadata": {
        "id": "CRnVhm6AZ9zP"
      },
      "source": [
        "test_data = train_data.loc[train_data.BiasInfluentialFactor.isnull()]\n"
      ],
      "execution_count": null,
      "outputs": []
    },
    {
      "cell_type": "code",
      "metadata": {
        "id": "fvVfhWiwauoo"
      },
      "source": [
        "train_data = train_data.loc[train_data.BiasInfluentialFactor.notnull()]\n"
      ],
      "execution_count": null,
      "outputs": []
    },
    {
      "cell_type": "markdown",
      "metadata": {
        "id": "D4Gqdqh6_5Xr"
      },
      "source": [
        "Dropping EmpID&Emp Name from the feature Lists"
      ]
    },
    {
      "cell_type": "code",
      "metadata": {
        "id": "bsyG26e8bQ5H"
      },
      "source": [
        "train_data.drop(columns = ['EmpID','EmpName'],inplace = True)\n",
        "test_data.drop(columns = ['EmpID','EmpName'],inplace = True)"
      ],
      "execution_count": null,
      "outputs": []
    },
    {
      "cell_type": "markdown",
      "metadata": {
        "id": "QdehMWGDAC1T"
      },
      "source": [
        "Specifying caagorical and continuous features for cummulative  label encoding"
      ]
    },
    {
      "cell_type": "code",
      "metadata": {
        "id": "kd4nhtSnbYsL"
      },
      "source": [
        "cat_features = ['LanguageOfCommunication','Gender', 'JobProfileIDApplyingFor','GraduationYear','HighestDegree', 'DegreeBranch', 'GraduatingInstitute','MartialStatus','CurrentDesignation','CurrentCompanyType','DepartmentInCompany']\n",
        "\n",
        "cont_features = []\n",
        "\n",
        "label = 'FitmentPercent'"
      ],
      "execution_count": null,
      "outputs": []
    },
    {
      "cell_type": "code",
      "metadata": {
        "id": "dc9JRbZ1fmoA"
      },
      "source": [
        "def encode_cat_cols(train, test, cat_cols): #target\n",
        "    train_df = train_data.copy()\n",
        "    test_df = test_data.copy()\n",
        "    # Making a dictionary to store all the labelencoders for categroical columns to transform them later.\n",
        "    le_dict = {}\n",
        "\n",
        "    for col in cat_cols:\n",
        "          le = LabelEncoder()\n",
        "          le.fit(train_df[col].unique().tolist() + test_df[col].unique().tolist())\n",
        "          train_df[col] = le.transform(train_df[[col]])\n",
        "          test_df[col] = le.transform(test_df[[col]])\n",
        "          le_dict[col] = le\n",
        "#     train_df['Vehicle_Age'] = train_df['Vehicle_Age'].map({'< 1 Year':1,'1-2 Year':2,'> 2 Years':3})\n",
        "#     test_df['Vehicle_Age'] = test_df['Vehicle_Age'].map({'< 1 Year':1,'1-2 Year':2,'> 2 Years':3})\n",
        "    # le = LabelEncoder()\n",
        "    # train_df[label] = le.fit_transform(train_df[[label]])\n",
        "    # le_dict[label] = le\n",
        "    return train_df, test_df, le_dict"
      ],
      "execution_count": null,
      "outputs": []
    },
    {
      "cell_type": "markdown",
      "metadata": {
        "id": "zQsxbrMrDd2m"
      },
      "source": [
        "***see the name of the actual test set is \"test_dff\"***\n",
        "\n",
        "\n",
        "*we'll use the trained model for predicting the values for actual test*"
      ]
    },
    {
      "cell_type": "code",
      "metadata": {
        "id": "eFEoT146f7Ou"
      },
      "source": [
        "\n",
        "train_df, test_dff, le_dict = encode_cat_cols(train_data,test_data,cat_features)"
      ],
      "execution_count": null,
      "outputs": []
    },
    {
      "cell_type": "code",
      "metadata": {
        "colab": {
          "base_uri": "https://localhost:8080/",
          "height": 211
        },
        "id": "a_84uQqYh96f",
        "outputId": "e68b7fcf-7531-41a3-8d83-59aa04245696"
      },
      "source": [
        "train_df.head()"
      ],
      "execution_count": null,
      "outputs": [
        {
          "output_type": "execute_result",
          "data": {
            "text/html": [
              "<div>\n",
              "<style scoped>\n",
              "    .dataframe tbody tr th:only-of-type {\n",
              "        vertical-align: middle;\n",
              "    }\n",
              "\n",
              "    .dataframe tbody tr th {\n",
              "        vertical-align: top;\n",
              "    }\n",
              "\n",
              "    .dataframe thead th {\n",
              "        text-align: right;\n",
              "    }\n",
              "</style>\n",
              "<table border=\"1\" class=\"dataframe\">\n",
              "  <thead>\n",
              "    <tr style=\"text-align: right;\">\n",
              "      <th></th>\n",
              "      <th>LanguageOfCommunication</th>\n",
              "      <th>Age</th>\n",
              "      <th>Gender</th>\n",
              "      <th>JobProfileIDApplyingFor</th>\n",
              "      <th>HighestDegree</th>\n",
              "      <th>DegreeBranch</th>\n",
              "      <th>GraduatingInstitute</th>\n",
              "      <th>LatestDegreeCGPA</th>\n",
              "      <th>YearsOfExperince</th>\n",
              "      <th>GraduationYear</th>\n",
              "      <th>CurrentCTC</th>\n",
              "      <th>ExpectedCTC</th>\n",
              "      <th>MartialStatus</th>\n",
              "      <th>EmpScore</th>\n",
              "      <th>CurrentDesignation</th>\n",
              "      <th>CurrentCompanyType</th>\n",
              "      <th>DepartmentInCompany</th>\n",
              "      <th>TotalLeavesTaken</th>\n",
              "      <th>BiasInfluentialFactor</th>\n",
              "      <th>FitmentPercent</th>\n",
              "    </tr>\n",
              "  </thead>\n",
              "  <tbody>\n",
              "    <tr>\n",
              "      <th>0</th>\n",
              "      <td>0</td>\n",
              "      <td>35</td>\n",
              "      <td>1</td>\n",
              "      <td>3</td>\n",
              "      <td>0</td>\n",
              "      <td>2</td>\n",
              "      <td>0</td>\n",
              "      <td>7</td>\n",
              "      <td>12</td>\n",
              "      <td>0</td>\n",
              "      <td>21</td>\n",
              "      <td>26</td>\n",
              "      <td>0</td>\n",
              "      <td>5</td>\n",
              "      <td>7</td>\n",
              "      <td>0</td>\n",
              "      <td>1</td>\n",
              "      <td>20</td>\n",
              "      <td>YearsOfExperince</td>\n",
              "      <td>95.40</td>\n",
              "    </tr>\n",
              "    <tr>\n",
              "      <th>2</th>\n",
              "      <td>0</td>\n",
              "      <td>36</td>\n",
              "      <td>0</td>\n",
              "      <td>4</td>\n",
              "      <td>7</td>\n",
              "      <td>1</td>\n",
              "      <td>0</td>\n",
              "      <td>6</td>\n",
              "      <td>6</td>\n",
              "      <td>6</td>\n",
              "      <td>15</td>\n",
              "      <td>24</td>\n",
              "      <td>1</td>\n",
              "      <td>5</td>\n",
              "      <td>5</td>\n",
              "      <td>1</td>\n",
              "      <td>2</td>\n",
              "      <td>19</td>\n",
              "      <td>Gender</td>\n",
              "      <td>91.26</td>\n",
              "    </tr>\n",
              "    <tr>\n",
              "      <th>3</th>\n",
              "      <td>0</td>\n",
              "      <td>29</td>\n",
              "      <td>0</td>\n",
              "      <td>4</td>\n",
              "      <td>1</td>\n",
              "      <td>5</td>\n",
              "      <td>1</td>\n",
              "      <td>5</td>\n",
              "      <td>6</td>\n",
              "      <td>6</td>\n",
              "      <td>16</td>\n",
              "      <td>24</td>\n",
              "      <td>0</td>\n",
              "      <td>5</td>\n",
              "      <td>5</td>\n",
              "      <td>2</td>\n",
              "      <td>4</td>\n",
              "      <td>16</td>\n",
              "      <td>Gender</td>\n",
              "      <td>72.29</td>\n",
              "    </tr>\n",
              "    <tr>\n",
              "      <th>4</th>\n",
              "      <td>0</td>\n",
              "      <td>25</td>\n",
              "      <td>1</td>\n",
              "      <td>0</td>\n",
              "      <td>2</td>\n",
              "      <td>1</td>\n",
              "      <td>2</td>\n",
              "      <td>8</td>\n",
              "      <td>2</td>\n",
              "      <td>10</td>\n",
              "      <td>24</td>\n",
              "      <td>32</td>\n",
              "      <td>0</td>\n",
              "      <td>5</td>\n",
              "      <td>5</td>\n",
              "      <td>0</td>\n",
              "      <td>2</td>\n",
              "      <td>10</td>\n",
              "      <td>DegreeBranch</td>\n",
              "      <td>86.34</td>\n",
              "    </tr>\n",
              "    <tr>\n",
              "      <th>5</th>\n",
              "      <td>2</td>\n",
              "      <td>35</td>\n",
              "      <td>1</td>\n",
              "      <td>7</td>\n",
              "      <td>1</td>\n",
              "      <td>1</td>\n",
              "      <td>1</td>\n",
              "      <td>9</td>\n",
              "      <td>12</td>\n",
              "      <td>0</td>\n",
              "      <td>25</td>\n",
              "      <td>29</td>\n",
              "      <td>0</td>\n",
              "      <td>4</td>\n",
              "      <td>3</td>\n",
              "      <td>1</td>\n",
              "      <td>2</td>\n",
              "      <td>10</td>\n",
              "      <td>YearsOfExperince</td>\n",
              "      <td>93.23</td>\n",
              "    </tr>\n",
              "  </tbody>\n",
              "</table>\n",
              "</div>"
            ],
            "text/plain": [
              "   LanguageOfCommunication  Age  ...  BiasInfluentialFactor  FitmentPercent\n",
              "0                        0   35  ...       YearsOfExperince           95.40\n",
              "2                        0   36  ...                 Gender           91.26\n",
              "3                        0   29  ...                 Gender           72.29\n",
              "4                        0   25  ...           DegreeBranch           86.34\n",
              "5                        2   35  ...       YearsOfExperince           93.23\n",
              "\n",
              "[5 rows x 20 columns]"
            ]
          },
          "metadata": {
            "tags": []
          },
          "execution_count": 12
        }
      ]
    },
    {
      "cell_type": "markdown",
      "metadata": {
        "id": "ljbcBOXGA4Vu"
      },
      "source": [
        "DIfferent Set of Discretizations were done."
      ]
    },
    {
      "cell_type": "code",
      "metadata": {
        "id": "2IpZusKrgQri"
      },
      "source": [
        "# gpa_discretizer = KBinsDiscretizer(n_bins=5, encode='ordinal', strategy='quantile')\n",
        "# train_df['LatestDegreeCGPA'] =gpa_discretizer.fit_transform(train_df['LatestDegreeCGPA'].values.reshape(-1,1)).astype(int)\n",
        "# age_discretizer = KBinsDiscretizer(n_bins=10, encode='ordinal', strategy='quantile')\n",
        "# train_df['Age'] =age_discretizer.fit_transform(train_df['Age'].values.reshape(-1,1)).astype(int)\n",
        "# yoe_discretizer = KBinsDiscretizer(n_bins=10, encode='ordinal', strategy='quantile')\n",
        "# train_df['YearsOfExperince'] =yoe_discretizer.fit_transform(train_df['YearsOfExperince'].values.reshape(-1,1)).astype(int)\n",
        "# CTC_discretizer = KBinsDiscretizer(n_bins=15, encode='ordinal', strategy='quantile')\n",
        "# train_df['CurrentCTC'] =CTC_discretizer.fit_transform(train_df['CurrentCTC'].values.reshape(-1,1)).astype(int)\n",
        "# ECTC_discretizer = KBinsDiscretizer(n_bins=15, encode='ordinal', strategy='quantile')\n",
        "# train_df['ExpectedCTC'] =ECTC_discretizer.fit_transform(train_df['ExpectedCTC'].values.reshape(-1,1)).astype(int)\n",
        "# Leaves_discretizer = KBinsDiscretizer(n_bins=10, encode='ordinal', strategy='quantile')\n",
        "# train_df['TotalLeavesTaken'] =Leaves_discretizer.fit_transform(train_df['TotalLeavesTaken'].values.reshape(-1,1)).astype(int)\n",
        "# GYdiscretizer = KBinsDiscretizer(n_bins=10, encode='ordinal', strategy='quantile')\n",
        "# train_df['GraduationYear'] =GYdiscretizer.fit_transform(train_df['GraduationYear'].values.reshape(-1,1)).astype(int)"
      ],
      "execution_count": null,
      "outputs": []
    },
    {
      "cell_type": "code",
      "metadata": {
        "id": "z_y4GcSmioIf"
      },
      "source": [
        "import numpy as np\n",
        "from sklearn.model_selection import train_test_split"
      ],
      "execution_count": null,
      "outputs": []
    },
    {
      "cell_type": "code",
      "metadata": {
        "colab": {
          "base_uri": "https://localhost:8080/",
          "height": 211
        },
        "id": "kcQ7CNbamBbq",
        "outputId": "e0dbe550-8e97-486c-fcb5-d62c0e1a72ca"
      },
      "source": [
        "train_df.head()"
      ],
      "execution_count": null,
      "outputs": [
        {
          "output_type": "execute_result",
          "data": {
            "text/html": [
              "<div>\n",
              "<style scoped>\n",
              "    .dataframe tbody tr th:only-of-type {\n",
              "        vertical-align: middle;\n",
              "    }\n",
              "\n",
              "    .dataframe tbody tr th {\n",
              "        vertical-align: top;\n",
              "    }\n",
              "\n",
              "    .dataframe thead th {\n",
              "        text-align: right;\n",
              "    }\n",
              "</style>\n",
              "<table border=\"1\" class=\"dataframe\">\n",
              "  <thead>\n",
              "    <tr style=\"text-align: right;\">\n",
              "      <th></th>\n",
              "      <th>LanguageOfCommunication</th>\n",
              "      <th>Age</th>\n",
              "      <th>Gender</th>\n",
              "      <th>JobProfileIDApplyingFor</th>\n",
              "      <th>HighestDegree</th>\n",
              "      <th>DegreeBranch</th>\n",
              "      <th>GraduatingInstitute</th>\n",
              "      <th>LatestDegreeCGPA</th>\n",
              "      <th>YearsOfExperince</th>\n",
              "      <th>GraduationYear</th>\n",
              "      <th>CurrentCTC</th>\n",
              "      <th>ExpectedCTC</th>\n",
              "      <th>MartialStatus</th>\n",
              "      <th>EmpScore</th>\n",
              "      <th>CurrentDesignation</th>\n",
              "      <th>CurrentCompanyType</th>\n",
              "      <th>DepartmentInCompany</th>\n",
              "      <th>TotalLeavesTaken</th>\n",
              "      <th>BiasInfluentialFactor</th>\n",
              "      <th>FitmentPercent</th>\n",
              "    </tr>\n",
              "  </thead>\n",
              "  <tbody>\n",
              "    <tr>\n",
              "      <th>0</th>\n",
              "      <td>0</td>\n",
              "      <td>35</td>\n",
              "      <td>1</td>\n",
              "      <td>3</td>\n",
              "      <td>0</td>\n",
              "      <td>2</td>\n",
              "      <td>0</td>\n",
              "      <td>7</td>\n",
              "      <td>12</td>\n",
              "      <td>0</td>\n",
              "      <td>21</td>\n",
              "      <td>26</td>\n",
              "      <td>0</td>\n",
              "      <td>5</td>\n",
              "      <td>7</td>\n",
              "      <td>0</td>\n",
              "      <td>1</td>\n",
              "      <td>20</td>\n",
              "      <td>YearsOfExperince</td>\n",
              "      <td>95.40</td>\n",
              "    </tr>\n",
              "    <tr>\n",
              "      <th>2</th>\n",
              "      <td>0</td>\n",
              "      <td>36</td>\n",
              "      <td>0</td>\n",
              "      <td>4</td>\n",
              "      <td>7</td>\n",
              "      <td>1</td>\n",
              "      <td>0</td>\n",
              "      <td>6</td>\n",
              "      <td>6</td>\n",
              "      <td>6</td>\n",
              "      <td>15</td>\n",
              "      <td>24</td>\n",
              "      <td>1</td>\n",
              "      <td>5</td>\n",
              "      <td>5</td>\n",
              "      <td>1</td>\n",
              "      <td>2</td>\n",
              "      <td>19</td>\n",
              "      <td>Gender</td>\n",
              "      <td>91.26</td>\n",
              "    </tr>\n",
              "    <tr>\n",
              "      <th>3</th>\n",
              "      <td>0</td>\n",
              "      <td>29</td>\n",
              "      <td>0</td>\n",
              "      <td>4</td>\n",
              "      <td>1</td>\n",
              "      <td>5</td>\n",
              "      <td>1</td>\n",
              "      <td>5</td>\n",
              "      <td>6</td>\n",
              "      <td>6</td>\n",
              "      <td>16</td>\n",
              "      <td>24</td>\n",
              "      <td>0</td>\n",
              "      <td>5</td>\n",
              "      <td>5</td>\n",
              "      <td>2</td>\n",
              "      <td>4</td>\n",
              "      <td>16</td>\n",
              "      <td>Gender</td>\n",
              "      <td>72.29</td>\n",
              "    </tr>\n",
              "    <tr>\n",
              "      <th>4</th>\n",
              "      <td>0</td>\n",
              "      <td>25</td>\n",
              "      <td>1</td>\n",
              "      <td>0</td>\n",
              "      <td>2</td>\n",
              "      <td>1</td>\n",
              "      <td>2</td>\n",
              "      <td>8</td>\n",
              "      <td>2</td>\n",
              "      <td>10</td>\n",
              "      <td>24</td>\n",
              "      <td>32</td>\n",
              "      <td>0</td>\n",
              "      <td>5</td>\n",
              "      <td>5</td>\n",
              "      <td>0</td>\n",
              "      <td>2</td>\n",
              "      <td>10</td>\n",
              "      <td>DegreeBranch</td>\n",
              "      <td>86.34</td>\n",
              "    </tr>\n",
              "    <tr>\n",
              "      <th>5</th>\n",
              "      <td>2</td>\n",
              "      <td>35</td>\n",
              "      <td>1</td>\n",
              "      <td>7</td>\n",
              "      <td>1</td>\n",
              "      <td>1</td>\n",
              "      <td>1</td>\n",
              "      <td>9</td>\n",
              "      <td>12</td>\n",
              "      <td>0</td>\n",
              "      <td>25</td>\n",
              "      <td>29</td>\n",
              "      <td>0</td>\n",
              "      <td>4</td>\n",
              "      <td>3</td>\n",
              "      <td>1</td>\n",
              "      <td>2</td>\n",
              "      <td>10</td>\n",
              "      <td>YearsOfExperince</td>\n",
              "      <td>93.23</td>\n",
              "    </tr>\n",
              "  </tbody>\n",
              "</table>\n",
              "</div>"
            ],
            "text/plain": [
              "   LanguageOfCommunication  Age  ...  BiasInfluentialFactor  FitmentPercent\n",
              "0                        0   35  ...       YearsOfExperince           95.40\n",
              "2                        0   36  ...                 Gender           91.26\n",
              "3                        0   29  ...                 Gender           72.29\n",
              "4                        0   25  ...           DegreeBranch           86.34\n",
              "5                        2   35  ...       YearsOfExperince           93.23\n",
              "\n",
              "[5 rows x 20 columns]"
            ]
          },
          "metadata": {
            "tags": []
          },
          "execution_count": 15
        }
      ]
    },
    {
      "cell_type": "code",
      "metadata": {
        "id": "hyA6SgP1mQjH"
      },
      "source": [
        "le = LabelEncoder()\n",
        "train_df[\"BiasInfluentialFactor\"] = le.fit_transform(train_df[[\"BiasInfluentialFactor\"]])"
      ],
      "execution_count": null,
      "outputs": []
    },
    {
      "cell_type": "code",
      "metadata": {
        "id": "uEW6InIrhX5e",
        "colab": {
          "base_uri": "https://localhost:8080/",
          "height": 211
        },
        "outputId": "357050cf-dcca-48a0-d933-9ca7f976cc1d"
      },
      "source": [
        "train_df.head()"
      ],
      "execution_count": null,
      "outputs": [
        {
          "output_type": "execute_result",
          "data": {
            "text/html": [
              "<div>\n",
              "<style scoped>\n",
              "    .dataframe tbody tr th:only-of-type {\n",
              "        vertical-align: middle;\n",
              "    }\n",
              "\n",
              "    .dataframe tbody tr th {\n",
              "        vertical-align: top;\n",
              "    }\n",
              "\n",
              "    .dataframe thead th {\n",
              "        text-align: right;\n",
              "    }\n",
              "</style>\n",
              "<table border=\"1\" class=\"dataframe\">\n",
              "  <thead>\n",
              "    <tr style=\"text-align: right;\">\n",
              "      <th></th>\n",
              "      <th>LanguageOfCommunication</th>\n",
              "      <th>Age</th>\n",
              "      <th>Gender</th>\n",
              "      <th>JobProfileIDApplyingFor</th>\n",
              "      <th>HighestDegree</th>\n",
              "      <th>DegreeBranch</th>\n",
              "      <th>GraduatingInstitute</th>\n",
              "      <th>LatestDegreeCGPA</th>\n",
              "      <th>YearsOfExperince</th>\n",
              "      <th>GraduationYear</th>\n",
              "      <th>CurrentCTC</th>\n",
              "      <th>ExpectedCTC</th>\n",
              "      <th>MartialStatus</th>\n",
              "      <th>EmpScore</th>\n",
              "      <th>CurrentDesignation</th>\n",
              "      <th>CurrentCompanyType</th>\n",
              "      <th>DepartmentInCompany</th>\n",
              "      <th>TotalLeavesTaken</th>\n",
              "      <th>BiasInfluentialFactor</th>\n",
              "      <th>FitmentPercent</th>\n",
              "    </tr>\n",
              "  </thead>\n",
              "  <tbody>\n",
              "    <tr>\n",
              "      <th>0</th>\n",
              "      <td>0</td>\n",
              "      <td>35</td>\n",
              "      <td>1</td>\n",
              "      <td>3</td>\n",
              "      <td>0</td>\n",
              "      <td>2</td>\n",
              "      <td>0</td>\n",
              "      <td>7</td>\n",
              "      <td>12</td>\n",
              "      <td>0</td>\n",
              "      <td>21</td>\n",
              "      <td>26</td>\n",
              "      <td>0</td>\n",
              "      <td>5</td>\n",
              "      <td>7</td>\n",
              "      <td>0</td>\n",
              "      <td>1</td>\n",
              "      <td>20</td>\n",
              "      <td>8</td>\n",
              "      <td>95.40</td>\n",
              "    </tr>\n",
              "    <tr>\n",
              "      <th>2</th>\n",
              "      <td>0</td>\n",
              "      <td>36</td>\n",
              "      <td>0</td>\n",
              "      <td>4</td>\n",
              "      <td>7</td>\n",
              "      <td>1</td>\n",
              "      <td>0</td>\n",
              "      <td>6</td>\n",
              "      <td>6</td>\n",
              "      <td>6</td>\n",
              "      <td>15</td>\n",
              "      <td>24</td>\n",
              "      <td>1</td>\n",
              "      <td>5</td>\n",
              "      <td>5</td>\n",
              "      <td>1</td>\n",
              "      <td>2</td>\n",
              "      <td>19</td>\n",
              "      <td>4</td>\n",
              "      <td>91.26</td>\n",
              "    </tr>\n",
              "    <tr>\n",
              "      <th>3</th>\n",
              "      <td>0</td>\n",
              "      <td>29</td>\n",
              "      <td>0</td>\n",
              "      <td>4</td>\n",
              "      <td>1</td>\n",
              "      <td>5</td>\n",
              "      <td>1</td>\n",
              "      <td>5</td>\n",
              "      <td>6</td>\n",
              "      <td>6</td>\n",
              "      <td>16</td>\n",
              "      <td>24</td>\n",
              "      <td>0</td>\n",
              "      <td>5</td>\n",
              "      <td>5</td>\n",
              "      <td>2</td>\n",
              "      <td>4</td>\n",
              "      <td>16</td>\n",
              "      <td>4</td>\n",
              "      <td>72.29</td>\n",
              "    </tr>\n",
              "    <tr>\n",
              "      <th>4</th>\n",
              "      <td>0</td>\n",
              "      <td>25</td>\n",
              "      <td>1</td>\n",
              "      <td>0</td>\n",
              "      <td>2</td>\n",
              "      <td>1</td>\n",
              "      <td>2</td>\n",
              "      <td>8</td>\n",
              "      <td>2</td>\n",
              "      <td>10</td>\n",
              "      <td>24</td>\n",
              "      <td>32</td>\n",
              "      <td>0</td>\n",
              "      <td>5</td>\n",
              "      <td>5</td>\n",
              "      <td>0</td>\n",
              "      <td>2</td>\n",
              "      <td>10</td>\n",
              "      <td>1</td>\n",
              "      <td>86.34</td>\n",
              "    </tr>\n",
              "    <tr>\n",
              "      <th>5</th>\n",
              "      <td>2</td>\n",
              "      <td>35</td>\n",
              "      <td>1</td>\n",
              "      <td>7</td>\n",
              "      <td>1</td>\n",
              "      <td>1</td>\n",
              "      <td>1</td>\n",
              "      <td>9</td>\n",
              "      <td>12</td>\n",
              "      <td>0</td>\n",
              "      <td>25</td>\n",
              "      <td>29</td>\n",
              "      <td>0</td>\n",
              "      <td>4</td>\n",
              "      <td>3</td>\n",
              "      <td>1</td>\n",
              "      <td>2</td>\n",
              "      <td>10</td>\n",
              "      <td>8</td>\n",
              "      <td>93.23</td>\n",
              "    </tr>\n",
              "  </tbody>\n",
              "</table>\n",
              "</div>"
            ],
            "text/plain": [
              "   LanguageOfCommunication  Age  ...  BiasInfluentialFactor  FitmentPercent\n",
              "0                        0   35  ...                      8           95.40\n",
              "2                        0   36  ...                      4           91.26\n",
              "3                        0   29  ...                      4           72.29\n",
              "4                        0   25  ...                      1           86.34\n",
              "5                        2   35  ...                      8           93.23\n",
              "\n",
              "[5 rows x 20 columns]"
            ]
          },
          "metadata": {
            "tags": []
          },
          "execution_count": 17
        }
      ]
    },
    {
      "cell_type": "code",
      "metadata": {
        "id": "Dd6ThthviprJ"
      },
      "source": [
        "target = train_df['BiasInfluentialFactor']\n"
      ],
      "execution_count": null,
      "outputs": []
    },
    {
      "cell_type": "code",
      "metadata": {
        "colab": {
          "base_uri": "https://localhost:8080/",
          "height": 211
        },
        "id": "kilZ5L77ipmk",
        "outputId": "bb7e7696-212d-4bab-8069-def479e205e1"
      },
      "source": [
        "train_df.head()"
      ],
      "execution_count": null,
      "outputs": [
        {
          "output_type": "execute_result",
          "data": {
            "text/html": [
              "<div>\n",
              "<style scoped>\n",
              "    .dataframe tbody tr th:only-of-type {\n",
              "        vertical-align: middle;\n",
              "    }\n",
              "\n",
              "    .dataframe tbody tr th {\n",
              "        vertical-align: top;\n",
              "    }\n",
              "\n",
              "    .dataframe thead th {\n",
              "        text-align: right;\n",
              "    }\n",
              "</style>\n",
              "<table border=\"1\" class=\"dataframe\">\n",
              "  <thead>\n",
              "    <tr style=\"text-align: right;\">\n",
              "      <th></th>\n",
              "      <th>LanguageOfCommunication</th>\n",
              "      <th>Age</th>\n",
              "      <th>Gender</th>\n",
              "      <th>JobProfileIDApplyingFor</th>\n",
              "      <th>HighestDegree</th>\n",
              "      <th>DegreeBranch</th>\n",
              "      <th>GraduatingInstitute</th>\n",
              "      <th>LatestDegreeCGPA</th>\n",
              "      <th>YearsOfExperince</th>\n",
              "      <th>GraduationYear</th>\n",
              "      <th>CurrentCTC</th>\n",
              "      <th>ExpectedCTC</th>\n",
              "      <th>MartialStatus</th>\n",
              "      <th>EmpScore</th>\n",
              "      <th>CurrentDesignation</th>\n",
              "      <th>CurrentCompanyType</th>\n",
              "      <th>DepartmentInCompany</th>\n",
              "      <th>TotalLeavesTaken</th>\n",
              "      <th>BiasInfluentialFactor</th>\n",
              "      <th>FitmentPercent</th>\n",
              "    </tr>\n",
              "  </thead>\n",
              "  <tbody>\n",
              "    <tr>\n",
              "      <th>0</th>\n",
              "      <td>0</td>\n",
              "      <td>35</td>\n",
              "      <td>1</td>\n",
              "      <td>3</td>\n",
              "      <td>0</td>\n",
              "      <td>2</td>\n",
              "      <td>0</td>\n",
              "      <td>7</td>\n",
              "      <td>12</td>\n",
              "      <td>0</td>\n",
              "      <td>21</td>\n",
              "      <td>26</td>\n",
              "      <td>0</td>\n",
              "      <td>5</td>\n",
              "      <td>7</td>\n",
              "      <td>0</td>\n",
              "      <td>1</td>\n",
              "      <td>20</td>\n",
              "      <td>8</td>\n",
              "      <td>95.40</td>\n",
              "    </tr>\n",
              "    <tr>\n",
              "      <th>2</th>\n",
              "      <td>0</td>\n",
              "      <td>36</td>\n",
              "      <td>0</td>\n",
              "      <td>4</td>\n",
              "      <td>7</td>\n",
              "      <td>1</td>\n",
              "      <td>0</td>\n",
              "      <td>6</td>\n",
              "      <td>6</td>\n",
              "      <td>6</td>\n",
              "      <td>15</td>\n",
              "      <td>24</td>\n",
              "      <td>1</td>\n",
              "      <td>5</td>\n",
              "      <td>5</td>\n",
              "      <td>1</td>\n",
              "      <td>2</td>\n",
              "      <td>19</td>\n",
              "      <td>4</td>\n",
              "      <td>91.26</td>\n",
              "    </tr>\n",
              "    <tr>\n",
              "      <th>3</th>\n",
              "      <td>0</td>\n",
              "      <td>29</td>\n",
              "      <td>0</td>\n",
              "      <td>4</td>\n",
              "      <td>1</td>\n",
              "      <td>5</td>\n",
              "      <td>1</td>\n",
              "      <td>5</td>\n",
              "      <td>6</td>\n",
              "      <td>6</td>\n",
              "      <td>16</td>\n",
              "      <td>24</td>\n",
              "      <td>0</td>\n",
              "      <td>5</td>\n",
              "      <td>5</td>\n",
              "      <td>2</td>\n",
              "      <td>4</td>\n",
              "      <td>16</td>\n",
              "      <td>4</td>\n",
              "      <td>72.29</td>\n",
              "    </tr>\n",
              "    <tr>\n",
              "      <th>4</th>\n",
              "      <td>0</td>\n",
              "      <td>25</td>\n",
              "      <td>1</td>\n",
              "      <td>0</td>\n",
              "      <td>2</td>\n",
              "      <td>1</td>\n",
              "      <td>2</td>\n",
              "      <td>8</td>\n",
              "      <td>2</td>\n",
              "      <td>10</td>\n",
              "      <td>24</td>\n",
              "      <td>32</td>\n",
              "      <td>0</td>\n",
              "      <td>5</td>\n",
              "      <td>5</td>\n",
              "      <td>0</td>\n",
              "      <td>2</td>\n",
              "      <td>10</td>\n",
              "      <td>1</td>\n",
              "      <td>86.34</td>\n",
              "    </tr>\n",
              "    <tr>\n",
              "      <th>5</th>\n",
              "      <td>2</td>\n",
              "      <td>35</td>\n",
              "      <td>1</td>\n",
              "      <td>7</td>\n",
              "      <td>1</td>\n",
              "      <td>1</td>\n",
              "      <td>1</td>\n",
              "      <td>9</td>\n",
              "      <td>12</td>\n",
              "      <td>0</td>\n",
              "      <td>25</td>\n",
              "      <td>29</td>\n",
              "      <td>0</td>\n",
              "      <td>4</td>\n",
              "      <td>3</td>\n",
              "      <td>1</td>\n",
              "      <td>2</td>\n",
              "      <td>10</td>\n",
              "      <td>8</td>\n",
              "      <td>93.23</td>\n",
              "    </tr>\n",
              "  </tbody>\n",
              "</table>\n",
              "</div>"
            ],
            "text/plain": [
              "   LanguageOfCommunication  Age  ...  BiasInfluentialFactor  FitmentPercent\n",
              "0                        0   35  ...                      8           95.40\n",
              "2                        0   36  ...                      4           91.26\n",
              "3                        0   29  ...                      4           72.29\n",
              "4                        0   25  ...                      1           86.34\n",
              "5                        2   35  ...                      8           93.23\n",
              "\n",
              "[5 rows x 20 columns]"
            ]
          },
          "metadata": {
            "tags": []
          },
          "execution_count": 19
        }
      ]
    },
    {
      "cell_type": "code",
      "metadata": {
        "id": "0JVNnT1Zipii"
      },
      "source": [
        "test_size = 0.20\n",
        "\n"
      ],
      "execution_count": null,
      "outputs": []
    },
    {
      "cell_type": "markdown",
      "metadata": {
        "id": "tbelB9AkBwIH"
      },
      "source": [
        "Train:95%\n",
        "Test: 5%"
      ]
    },
    {
      "cell_type": "code",
      "metadata": {
        "id": "C-ejWc1FsLf-"
      },
      "source": [
        "train_df, test_df, target, Y_test = train_test_split (train_df.drop(columns=['BiasInfluentialFactor']), train_df['BiasInfluentialFactor'], test_size = 0.05, random_state=42)"
      ],
      "execution_count": null,
      "outputs": []
    },
    {
      "cell_type": "code",
      "metadata": {
        "colab": {
          "base_uri": "https://localhost:8080/",
          "height": 211
        },
        "id": "0thEnx3afZFY",
        "outputId": "9d52a95d-e8e2-4769-e24b-1db996bed055"
      },
      "source": [
        "train_df.head()"
      ],
      "execution_count": null,
      "outputs": [
        {
          "output_type": "execute_result",
          "data": {
            "text/html": [
              "<div>\n",
              "<style scoped>\n",
              "    .dataframe tbody tr th:only-of-type {\n",
              "        vertical-align: middle;\n",
              "    }\n",
              "\n",
              "    .dataframe tbody tr th {\n",
              "        vertical-align: top;\n",
              "    }\n",
              "\n",
              "    .dataframe thead th {\n",
              "        text-align: right;\n",
              "    }\n",
              "</style>\n",
              "<table border=\"1\" class=\"dataframe\">\n",
              "  <thead>\n",
              "    <tr style=\"text-align: right;\">\n",
              "      <th></th>\n",
              "      <th>LanguageOfCommunication</th>\n",
              "      <th>Age</th>\n",
              "      <th>Gender</th>\n",
              "      <th>JobProfileIDApplyingFor</th>\n",
              "      <th>HighestDegree</th>\n",
              "      <th>DegreeBranch</th>\n",
              "      <th>GraduatingInstitute</th>\n",
              "      <th>LatestDegreeCGPA</th>\n",
              "      <th>YearsOfExperince</th>\n",
              "      <th>GraduationYear</th>\n",
              "      <th>CurrentCTC</th>\n",
              "      <th>ExpectedCTC</th>\n",
              "      <th>MartialStatus</th>\n",
              "      <th>EmpScore</th>\n",
              "      <th>CurrentDesignation</th>\n",
              "      <th>CurrentCompanyType</th>\n",
              "      <th>DepartmentInCompany</th>\n",
              "      <th>TotalLeavesTaken</th>\n",
              "      <th>FitmentPercent</th>\n",
              "    </tr>\n",
              "  </thead>\n",
              "  <tbody>\n",
              "    <tr>\n",
              "      <th>11805</th>\n",
              "      <td>0</td>\n",
              "      <td>33</td>\n",
              "      <td>1</td>\n",
              "      <td>4</td>\n",
              "      <td>2</td>\n",
              "      <td>1</td>\n",
              "      <td>1</td>\n",
              "      <td>4</td>\n",
              "      <td>10</td>\n",
              "      <td>2</td>\n",
              "      <td>27</td>\n",
              "      <td>34</td>\n",
              "      <td>0</td>\n",
              "      <td>4</td>\n",
              "      <td>1</td>\n",
              "      <td>0</td>\n",
              "      <td>2</td>\n",
              "      <td>15</td>\n",
              "      <td>86.66</td>\n",
              "    </tr>\n",
              "    <tr>\n",
              "      <th>6732</th>\n",
              "      <td>0</td>\n",
              "      <td>28</td>\n",
              "      <td>2</td>\n",
              "      <td>2</td>\n",
              "      <td>0</td>\n",
              "      <td>5</td>\n",
              "      <td>1</td>\n",
              "      <td>7</td>\n",
              "      <td>5</td>\n",
              "      <td>7</td>\n",
              "      <td>9</td>\n",
              "      <td>17</td>\n",
              "      <td>0</td>\n",
              "      <td>3</td>\n",
              "      <td>4</td>\n",
              "      <td>0</td>\n",
              "      <td>1</td>\n",
              "      <td>11</td>\n",
              "      <td>68.53</td>\n",
              "    </tr>\n",
              "    <tr>\n",
              "      <th>5769</th>\n",
              "      <td>0</td>\n",
              "      <td>34</td>\n",
              "      <td>1</td>\n",
              "      <td>3</td>\n",
              "      <td>0</td>\n",
              "      <td>4</td>\n",
              "      <td>0</td>\n",
              "      <td>9</td>\n",
              "      <td>11</td>\n",
              "      <td>1</td>\n",
              "      <td>28</td>\n",
              "      <td>37</td>\n",
              "      <td>0</td>\n",
              "      <td>4</td>\n",
              "      <td>5</td>\n",
              "      <td>0</td>\n",
              "      <td>3</td>\n",
              "      <td>17</td>\n",
              "      <td>91.12</td>\n",
              "    </tr>\n",
              "    <tr>\n",
              "      <th>7992</th>\n",
              "      <td>0</td>\n",
              "      <td>24</td>\n",
              "      <td>0</td>\n",
              "      <td>5</td>\n",
              "      <td>1</td>\n",
              "      <td>4</td>\n",
              "      <td>0</td>\n",
              "      <td>8</td>\n",
              "      <td>1</td>\n",
              "      <td>11</td>\n",
              "      <td>11</td>\n",
              "      <td>19</td>\n",
              "      <td>0</td>\n",
              "      <td>4</td>\n",
              "      <td>7</td>\n",
              "      <td>2</td>\n",
              "      <td>2</td>\n",
              "      <td>17</td>\n",
              "      <td>85.89</td>\n",
              "    </tr>\n",
              "    <tr>\n",
              "      <th>1791</th>\n",
              "      <td>1</td>\n",
              "      <td>35</td>\n",
              "      <td>1</td>\n",
              "      <td>4</td>\n",
              "      <td>2</td>\n",
              "      <td>1</td>\n",
              "      <td>1</td>\n",
              "      <td>7</td>\n",
              "      <td>12</td>\n",
              "      <td>0</td>\n",
              "      <td>24</td>\n",
              "      <td>31</td>\n",
              "      <td>1</td>\n",
              "      <td>3</td>\n",
              "      <td>5</td>\n",
              "      <td>2</td>\n",
              "      <td>0</td>\n",
              "      <td>17</td>\n",
              "      <td>83.38</td>\n",
              "    </tr>\n",
              "  </tbody>\n",
              "</table>\n",
              "</div>"
            ],
            "text/plain": [
              "       LanguageOfCommunication  Age  ...  TotalLeavesTaken  FitmentPercent\n",
              "11805                        0   33  ...                15           86.66\n",
              "6732                         0   28  ...                11           68.53\n",
              "5769                         0   34  ...                17           91.12\n",
              "7992                         0   24  ...                17           85.89\n",
              "1791                         1   35  ...                17           83.38\n",
              "\n",
              "[5 rows x 19 columns]"
            ]
          },
          "metadata": {
            "tags": []
          },
          "execution_count": 22
        }
      ]
    },
    {
      "cell_type": "code",
      "metadata": {
        "colab": {
          "base_uri": "https://localhost:8080/",
          "height": 211
        },
        "id": "JWH6zrMefemQ",
        "outputId": "b8bacaf5-759b-4d79-e96b-fa306ea1b734"
      },
      "source": [
        "test_df.head()"
      ],
      "execution_count": null,
      "outputs": [
        {
          "output_type": "execute_result",
          "data": {
            "text/html": [
              "<div>\n",
              "<style scoped>\n",
              "    .dataframe tbody tr th:only-of-type {\n",
              "        vertical-align: middle;\n",
              "    }\n",
              "\n",
              "    .dataframe tbody tr th {\n",
              "        vertical-align: top;\n",
              "    }\n",
              "\n",
              "    .dataframe thead th {\n",
              "        text-align: right;\n",
              "    }\n",
              "</style>\n",
              "<table border=\"1\" class=\"dataframe\">\n",
              "  <thead>\n",
              "    <tr style=\"text-align: right;\">\n",
              "      <th></th>\n",
              "      <th>LanguageOfCommunication</th>\n",
              "      <th>Age</th>\n",
              "      <th>Gender</th>\n",
              "      <th>JobProfileIDApplyingFor</th>\n",
              "      <th>HighestDegree</th>\n",
              "      <th>DegreeBranch</th>\n",
              "      <th>GraduatingInstitute</th>\n",
              "      <th>LatestDegreeCGPA</th>\n",
              "      <th>YearsOfExperince</th>\n",
              "      <th>GraduationYear</th>\n",
              "      <th>CurrentCTC</th>\n",
              "      <th>ExpectedCTC</th>\n",
              "      <th>MartialStatus</th>\n",
              "      <th>EmpScore</th>\n",
              "      <th>CurrentDesignation</th>\n",
              "      <th>CurrentCompanyType</th>\n",
              "      <th>DepartmentInCompany</th>\n",
              "      <th>TotalLeavesTaken</th>\n",
              "      <th>FitmentPercent</th>\n",
              "    </tr>\n",
              "  </thead>\n",
              "  <tbody>\n",
              "    <tr>\n",
              "      <th>13542</th>\n",
              "      <td>1</td>\n",
              "      <td>31</td>\n",
              "      <td>1</td>\n",
              "      <td>3</td>\n",
              "      <td>0</td>\n",
              "      <td>0</td>\n",
              "      <td>1</td>\n",
              "      <td>10</td>\n",
              "      <td>8</td>\n",
              "      <td>4</td>\n",
              "      <td>20</td>\n",
              "      <td>26</td>\n",
              "      <td>1</td>\n",
              "      <td>3</td>\n",
              "      <td>1</td>\n",
              "      <td>2</td>\n",
              "      <td>2</td>\n",
              "      <td>13</td>\n",
              "      <td>80.36</td>\n",
              "    </tr>\n",
              "    <tr>\n",
              "      <th>7692</th>\n",
              "      <td>0</td>\n",
              "      <td>26</td>\n",
              "      <td>1</td>\n",
              "      <td>4</td>\n",
              "      <td>0</td>\n",
              "      <td>1</td>\n",
              "      <td>0</td>\n",
              "      <td>9</td>\n",
              "      <td>3</td>\n",
              "      <td>9</td>\n",
              "      <td>20</td>\n",
              "      <td>25</td>\n",
              "      <td>0</td>\n",
              "      <td>3</td>\n",
              "      <td>0</td>\n",
              "      <td>1</td>\n",
              "      <td>2</td>\n",
              "      <td>6</td>\n",
              "      <td>94.25</td>\n",
              "    </tr>\n",
              "    <tr>\n",
              "      <th>431</th>\n",
              "      <td>0</td>\n",
              "      <td>34</td>\n",
              "      <td>1</td>\n",
              "      <td>3</td>\n",
              "      <td>2</td>\n",
              "      <td>5</td>\n",
              "      <td>1</td>\n",
              "      <td>9</td>\n",
              "      <td>11</td>\n",
              "      <td>1</td>\n",
              "      <td>19</td>\n",
              "      <td>28</td>\n",
              "      <td>0</td>\n",
              "      <td>3</td>\n",
              "      <td>7</td>\n",
              "      <td>0</td>\n",
              "      <td>3</td>\n",
              "      <td>9</td>\n",
              "      <td>69.45</td>\n",
              "    </tr>\n",
              "    <tr>\n",
              "      <th>11977</th>\n",
              "      <td>1</td>\n",
              "      <td>24</td>\n",
              "      <td>1</td>\n",
              "      <td>3</td>\n",
              "      <td>3</td>\n",
              "      <td>5</td>\n",
              "      <td>1</td>\n",
              "      <td>5</td>\n",
              "      <td>1</td>\n",
              "      <td>11</td>\n",
              "      <td>7</td>\n",
              "      <td>11</td>\n",
              "      <td>1</td>\n",
              "      <td>3</td>\n",
              "      <td>4</td>\n",
              "      <td>2</td>\n",
              "      <td>1</td>\n",
              "      <td>10</td>\n",
              "      <td>79.85</td>\n",
              "    </tr>\n",
              "    <tr>\n",
              "      <th>11303</th>\n",
              "      <td>2</td>\n",
              "      <td>31</td>\n",
              "      <td>0</td>\n",
              "      <td>3</td>\n",
              "      <td>4</td>\n",
              "      <td>1</td>\n",
              "      <td>2</td>\n",
              "      <td>7</td>\n",
              "      <td>5</td>\n",
              "      <td>7</td>\n",
              "      <td>25</td>\n",
              "      <td>35</td>\n",
              "      <td>1</td>\n",
              "      <td>3</td>\n",
              "      <td>5</td>\n",
              "      <td>2</td>\n",
              "      <td>1</td>\n",
              "      <td>16</td>\n",
              "      <td>72.78</td>\n",
              "    </tr>\n",
              "  </tbody>\n",
              "</table>\n",
              "</div>"
            ],
            "text/plain": [
              "       LanguageOfCommunication  Age  ...  TotalLeavesTaken  FitmentPercent\n",
              "13542                        1   31  ...                13           80.36\n",
              "7692                         0   26  ...                 6           94.25\n",
              "431                          0   34  ...                 9           69.45\n",
              "11977                        1   24  ...                10           79.85\n",
              "11303                        2   31  ...                16           72.78\n",
              "\n",
              "[5 rows x 19 columns]"
            ]
          },
          "metadata": {
            "tags": []
          },
          "execution_count": 23
        }
      ]
    },
    {
      "cell_type": "markdown",
      "metadata": {
        "id": "RG8HgTzICOeL"
      },
      "source": [
        "Storing the fitment foor later use"
      ]
    },
    {
      "cell_type": "code",
      "metadata": {
        "id": "KjNooNJ5uC_T"
      },
      "source": [
        "fitment_train = train_df.FitmentPercent.values\n",
        "fitment_test = test_df.FitmentPercent.values"
      ],
      "execution_count": null,
      "outputs": []
    },
    {
      "cell_type": "code",
      "metadata": {
        "id": "_6p7w13UfhvI"
      },
      "source": [
        "train_df.drop(columns = ['FitmentPercent'],inplace=True)\n",
        "test_df.drop(columns = ['FitmentPercent'],inplace=True)"
      ],
      "execution_count": null,
      "outputs": []
    },
    {
      "cell_type": "markdown",
      "metadata": {
        "id": "nOuyDBdXCXOw"
      },
      "source": [
        "Normaziling the continuous features performed better than binning them in both Classification and regression"
      ]
    },
    {
      "cell_type": "code",
      "metadata": {
        "id": "uFilB_mHFc4Z"
      },
      "source": [
        "train_df['Age'] = np.log(train_df['Age'])\n",
        "train_df['CurrentCTC'] = np.log(train_df['CurrentCTC'])\n",
        "train_df['ExpectedCTC'] = np.log(train_df['ExpectedCTC'])\n",
        "train_df['TotalLeavesTaken'] = np.log(train_df['TotalLeavesTaken'])\n",
        "test_df['Age'] = np.log(test_df['Age'])\n",
        "test_df['CurrentCTC'] = np.log(test_df['CurrentCTC'])\n",
        "test_df['ExpectedCTC'] = np.log(test_df['ExpectedCTC'])\n",
        "test_df['TotalLeavesTaken'] = np.log(test_df['TotalLeavesTaken'])\n"
      ],
      "execution_count": null,
      "outputs": []
    },
    {
      "cell_type": "code",
      "metadata": {
        "id": "FrZp3kxXFyOT"
      },
      "source": [
        "train_df['YearsOfExperince'] = np.log(train_df['YearsOfExperince'])\n",
        "test_df['YearsOfExperince'] = np.log(test_df['YearsOfExperince'])\n",
        "\n"
      ],
      "execution_count": null,
      "outputs": []
    },
    {
      "cell_type": "code",
      "metadata": {
        "id": "UzudYfP11Q8g"
      },
      "source": [
        "import tensorflow\n",
        "import keras\n",
        "from tensorflow.keras.utils import to_categorical"
      ],
      "execution_count": null,
      "outputs": []
    },
    {
      "cell_type": "markdown",
      "metadata": {
        "id": "E_AgVT59DILQ"
      },
      "source": [
        "Using 5F StratifiedShuffleSplit split with LightGBM"
      ]
    },
    {
      "cell_type": "code",
      "metadata": {
        "colab": {
          "base_uri": "https://localhost:8080/",
          "height": 1000,
          "referenced_widgets": [
            "98184397afd945d79d16a5dbd00c7ed0",
            "f8379f4bd30649cc9ed6bcc7f192f7b1",
            "0db8a4c2f57944ce995906af01444551",
            "f2cb528480f34477991ad202fa748441",
            "70435227bd234971bfe75b2b95957402",
            "2050183ce6cf4715acbc4da0bfc4d7ea",
            "56325049438d40769feeceb0c1453453",
            "8f71e166afd64b05aab70a2d8e17a976"
          ]
        },
        "id": "xk7wAitcipbj",
        "outputId": "011ca08b-549c-4a25-b159-af7c71ba0cd5"
      },
      "source": [
        "probs_lgb = np.zeros(shape=(len(test_df),))\n",
        "\n",
        "scores = []\n",
        "\n",
        "avg_loss = []\n",
        "\n",
        "seeds = [1]\n",
        "\n",
        "for seed in tnrange(len(seeds)):\n",
        "    \n",
        "    print(' ')\n",
        "    \n",
        "    print('#'*100)\n",
        "    \n",
        "    print('Seed',seeds[seed])\n",
        "\n",
        "    X_train_cv,y_train_cv = train_df.copy(), target.copy()\n",
        "\n",
        "    sssf = StratifiedShuffleSplit(n_splits=5, test_size = test_size ,random_state=seed)\n",
        "    \n",
        "    for i, (idxT, idxV) in enumerate(sssf.split(X_train_cv, y_train_cv)):\n",
        "\n",
        "        print('Fold',i)\n",
        "\n",
        "        print(' rows of train =',len(idxT),'rows of holdout =',len(idxV))\n",
        "\n",
        "        clf = lgb.LGBMClassifier(boosting_type='gbdt',\n",
        "                                 n_estimators=10000,\n",
        "                                 max_depth=10,\n",
        "                                 learning_rate=0.02,\n",
        "                                 subsample=0.9,\n",
        "                                 colsample_bytree=0.4,\n",
        "                                 objective ='multiclass',\n",
        "                                 random_state = 1,\n",
        "                                 importance_type='gain',\n",
        "                                 reg_alpha=2,\n",
        "                                 reg_lambda=2\n",
        "                                 #cat_features=cat_features\n",
        "                                )        \n",
        "        \n",
        "        h = clf.fit(X_train_cv.iloc[idxT], y_train_cv.iloc[idxT], \n",
        "                    eval_set=[(X_train_cv.iloc[idxV],y_train_cv.iloc[idxV])],\n",
        "                    verbose=100,eval_metric=['multi_logloss'],\n",
        "                    early_stopping_rounds=100)\n",
        "        probs_oof = clf.predict_proba(X_train_cv.iloc[idxV])\n",
        "        \n",
        "        probs_lgb +=clf.predict_proba(test_df)[:,1]\n",
        "        \n",
        "        roc = roc_auc_score(to_categorical(y_train_cv.iloc[idxV]),probs_oof,multi_class='ovr')\n",
        "\n",
        "        scores.append(roc)\n",
        "\n",
        "        avg_loss.append(clf.best_score_['valid_0']['multi_logloss'])\n",
        "\n",
        "        print ('LGB Val OOF AUC=',roc)\n",
        "\n",
        "        print('#'*100)\n",
        "\n",
        "        if i==0:\n",
        "            feature_importance(clf,X_train_cv)\n",
        "\n",
        "print(\"Log Loss Stats {0:.8f},{1:.8f}\".format(np.array(avg_loss).mean(), np.array(avg_loss).std()))\n",
        "\n",
        "print('%.8f (%.8f)' % (np.array(scores).mean(), np.array(scores).std()))"
      ],
      "execution_count": null,
      "outputs": [
        {
          "output_type": "display_data",
          "data": {
            "application/vnd.jupyter.widget-view+json": {
              "model_id": "98184397afd945d79d16a5dbd00c7ed0",
              "version_minor": 0,
              "version_major": 2
            },
            "text/plain": [
              "HBox(children=(FloatProgress(value=0.0, max=1.0), HTML(value='')))"
            ]
          },
          "metadata": {
            "tags": []
          }
        },
        {
          "output_type": "stream",
          "text": [
            " \n",
            "####################################################################################################\n",
            "Seed 1\n",
            "Fold 0\n",
            " rows of train = 7834 rows of holdout = 1959\n",
            "Training until validation scores don't improve for 100 rounds.\n",
            "[100]\tvalid_0's multi_logloss: 0.922623\tvalid_0's multi_logloss: 0.922623\n",
            "[200]\tvalid_0's multi_logloss: 0.59077\tvalid_0's multi_logloss: 0.59077\n",
            "[300]\tvalid_0's multi_logloss: 0.431886\tvalid_0's multi_logloss: 0.431886\n",
            "[400]\tvalid_0's multi_logloss: 0.357374\tvalid_0's multi_logloss: 0.357374\n",
            "[500]\tvalid_0's multi_logloss: 0.31574\tvalid_0's multi_logloss: 0.31574\n",
            "[600]\tvalid_0's multi_logloss: 0.292061\tvalid_0's multi_logloss: 0.292061\n",
            "[700]\tvalid_0's multi_logloss: 0.277654\tvalid_0's multi_logloss: 0.277654\n",
            "[800]\tvalid_0's multi_logloss: 0.268368\tvalid_0's multi_logloss: 0.268368\n",
            "[900]\tvalid_0's multi_logloss: 0.262275\tvalid_0's multi_logloss: 0.262275\n",
            "[1000]\tvalid_0's multi_logloss: 0.258445\tvalid_0's multi_logloss: 0.258445\n",
            "[1100]\tvalid_0's multi_logloss: 0.256186\tvalid_0's multi_logloss: 0.256186\n",
            "[1200]\tvalid_0's multi_logloss: 0.254687\tvalid_0's multi_logloss: 0.254687\n",
            "[1300]\tvalid_0's multi_logloss: 0.253811\tvalid_0's multi_logloss: 0.253811\n",
            "[1400]\tvalid_0's multi_logloss: 0.253507\tvalid_0's multi_logloss: 0.253507\n",
            "[1500]\tvalid_0's multi_logloss: 0.253534\tvalid_0's multi_logloss: 0.253534\n",
            "[1600]\tvalid_0's multi_logloss: 0.253502\tvalid_0's multi_logloss: 0.253502\n",
            "Early stopping, best iteration is:\n",
            "[1541]\tvalid_0's multi_logloss: 0.253393\tvalid_0's multi_logloss: 0.253393\n",
            "LGB Val OOF AUC= 0.9872420418161045\n",
            "####################################################################################################\n",
            "[   386.99290568  19146.09656167 149794.90114311   2586.60670156\n",
            "  56276.17954394 100251.92719739    647.59739522  19879.90103822\n",
            "  61191.48293939  38381.59005679  47392.52449953  17273.01608427\n",
            "   3053.74709097  53890.38196404   2166.06820619  76028.92792389\n",
            "   1855.15565752   5121.86773919]\n"
          ],
          "name": "stdout"
        },
        {
          "output_type": "display_data",
          "data": {
            "image/png": "[encoded data removed]",
            "text/plain": [
              "<Figure size 1080x1080 with 1 Axes>"
            ]
          },
          "metadata": {
            "tags": [],
            "needs_background": "light"
          }
        },
        {
          "output_type": "stream",
          "text": [
            "Fold 1\n",
            " rows of train = 7834 rows of holdout = 1959\n",
            "Training until validation scores don't improve for 100 rounds.\n",
            "[100]\tvalid_0's multi_logloss: 0.915667\tvalid_0's multi_logloss: 0.915667\n",
            "[200]\tvalid_0's multi_logloss: 0.58173\tvalid_0's multi_logloss: 0.58173\n",
            "[300]\tvalid_0's multi_logloss: 0.423066\tvalid_0's multi_logloss: 0.423066\n",
            "[400]\tvalid_0's multi_logloss: 0.350079\tvalid_0's multi_logloss: 0.350079\n",
            "[500]\tvalid_0's multi_logloss: 0.308984\tvalid_0's multi_logloss: 0.308984\n",
            "[600]\tvalid_0's multi_logloss: 0.28607\tvalid_0's multi_logloss: 0.28607\n",
            "[700]\tvalid_0's multi_logloss: 0.272885\tvalid_0's multi_logloss: 0.272885\n",
            "[800]\tvalid_0's multi_logloss: 0.263974\tvalid_0's multi_logloss: 0.263974\n",
            "[900]\tvalid_0's multi_logloss: 0.258112\tvalid_0's multi_logloss: 0.258112\n",
            "[1000]\tvalid_0's multi_logloss: 0.254689\tvalid_0's multi_logloss: 0.254689\n",
            "[1100]\tvalid_0's multi_logloss: 0.252881\tvalid_0's multi_logloss: 0.252881\n",
            "[1200]\tvalid_0's multi_logloss: 0.251637\tvalid_0's multi_logloss: 0.251637\n",
            "[1300]\tvalid_0's multi_logloss: 0.251192\tvalid_0's multi_logloss: 0.251192\n",
            "[1400]\tvalid_0's multi_logloss: 0.251007\tvalid_0's multi_logloss: 0.251007\n",
            "[1500]\tvalid_0's multi_logloss: 0.250953\tvalid_0's multi_logloss: 0.250953\n",
            "Early stopping, best iteration is:\n",
            "[1499]\tvalid_0's multi_logloss: 0.250938\tvalid_0's multi_logloss: 0.250938\n",
            "LGB Val OOF AUC= 0.986610974495627\n",
            "####################################################################################################\n",
            "Fold 2\n",
            " rows of train = 7834 rows of holdout = 1959\n",
            "Training until validation scores don't improve for 100 rounds.\n",
            "[100]\tvalid_0's multi_logloss: 0.920423\tvalid_0's multi_logloss: 0.920423\n",
            "[200]\tvalid_0's multi_logloss: 0.588102\tvalid_0's multi_logloss: 0.588102\n",
            "[300]\tvalid_0's multi_logloss: 0.428529\tvalid_0's multi_logloss: 0.428529\n",
            "[400]\tvalid_0's multi_logloss: 0.3547\tvalid_0's multi_logloss: 0.3547\n",
            "[500]\tvalid_0's multi_logloss: 0.311953\tvalid_0's multi_logloss: 0.311953\n",
            "[600]\tvalid_0's multi_logloss: 0.287836\tvalid_0's multi_logloss: 0.287836\n",
            "[700]\tvalid_0's multi_logloss: 0.274394\tvalid_0's multi_logloss: 0.274394\n",
            "[800]\tvalid_0's multi_logloss: 0.265253\tvalid_0's multi_logloss: 0.265253\n",
            "[900]\tvalid_0's multi_logloss: 0.259314\tvalid_0's multi_logloss: 0.259314\n",
            "[1000]\tvalid_0's multi_logloss: 0.255591\tvalid_0's multi_logloss: 0.255591\n",
            "[1100]\tvalid_0's multi_logloss: 0.253882\tvalid_0's multi_logloss: 0.253882\n",
            "[1200]\tvalid_0's multi_logloss: 0.252891\tvalid_0's multi_logloss: 0.252891\n",
            "[1300]\tvalid_0's multi_logloss: 0.252565\tvalid_0's multi_logloss: 0.252565\n",
            "[1400]\tvalid_0's multi_logloss: 0.252306\tvalid_0's multi_logloss: 0.252306\n",
            "[1500]\tvalid_0's multi_logloss: 0.252297\tvalid_0's multi_logloss: 0.252297\n",
            "Early stopping, best iteration is:\n",
            "[1442]\tvalid_0's multi_logloss: 0.252249\tvalid_0's multi_logloss: 0.252249\n",
            "LGB Val OOF AUC= 0.9869710719369509\n",
            "####################################################################################################\n",
            "Fold 3\n",
            " rows of train = 7834 rows of holdout = 1959\n",
            "Training until validation scores don't improve for 100 rounds.\n",
            "[100]\tvalid_0's multi_logloss: 0.922769\tvalid_0's multi_logloss: 0.922769\n",
            "[200]\tvalid_0's multi_logloss: 0.591111\tvalid_0's multi_logloss: 0.591111\n",
            "[300]\tvalid_0's multi_logloss: 0.432535\tvalid_0's multi_logloss: 0.432535\n",
            "[400]\tvalid_0's multi_logloss: 0.359229\tvalid_0's multi_logloss: 0.359229\n",
            "[500]\tvalid_0's multi_logloss: 0.318208\tvalid_0's multi_logloss: 0.318208\n",
            "[600]\tvalid_0's multi_logloss: 0.295536\tvalid_0's multi_logloss: 0.295536\n",
            "[700]\tvalid_0's multi_logloss: 0.28235\tvalid_0's multi_logloss: 0.28235\n",
            "[800]\tvalid_0's multi_logloss: 0.274059\tvalid_0's multi_logloss: 0.274059\n",
            "[900]\tvalid_0's multi_logloss: 0.269018\tvalid_0's multi_logloss: 0.269018\n",
            "[1000]\tvalid_0's multi_logloss: 0.265969\tvalid_0's multi_logloss: 0.265969\n",
            "[1100]\tvalid_0's multi_logloss: 0.264389\tvalid_0's multi_logloss: 0.264389\n",
            "[1200]\tvalid_0's multi_logloss: 0.26314\tvalid_0's multi_logloss: 0.26314\n",
            "[1300]\tvalid_0's multi_logloss: 0.262845\tvalid_0's multi_logloss: 0.262845\n",
            "Early stopping, best iteration is:\n",
            "[1286]\tvalid_0's multi_logloss: 0.262788\tvalid_0's multi_logloss: 0.262788\n",
            "LGB Val OOF AUC= 0.9855219118913424\n",
            "####################################################################################################\n",
            "Fold 4\n",
            " rows of train = 7834 rows of holdout = 1959\n",
            "Training until validation scores don't improve for 100 rounds.\n",
            "[100]\tvalid_0's multi_logloss: 0.926997\tvalid_0's multi_logloss: 0.926997\n",
            "[200]\tvalid_0's multi_logloss: 0.594838\tvalid_0's multi_logloss: 0.594838\n",
            "[300]\tvalid_0's multi_logloss: 0.434716\tvalid_0's multi_logloss: 0.434716\n",
            "[400]\tvalid_0's multi_logloss: 0.359383\tvalid_0's multi_logloss: 0.359383\n",
            "[500]\tvalid_0's multi_logloss: 0.316867\tvalid_0's multi_logloss: 0.316867\n",
            "[600]\tvalid_0's multi_logloss: 0.292442\tvalid_0's multi_logloss: 0.292442\n",
            "[700]\tvalid_0's multi_logloss: 0.278119\tvalid_0's multi_logloss: 0.278119\n",
            "[800]\tvalid_0's multi_logloss: 0.268765\tvalid_0's multi_logloss: 0.268765\n",
            "[900]\tvalid_0's multi_logloss: 0.262434\tvalid_0's multi_logloss: 0.262434\n",
            "[1000]\tvalid_0's multi_logloss: 0.258591\tvalid_0's multi_logloss: 0.258591\n",
            "[1100]\tvalid_0's multi_logloss: 0.256317\tvalid_0's multi_logloss: 0.256317\n",
            "[1200]\tvalid_0's multi_logloss: 0.254693\tvalid_0's multi_logloss: 0.254693\n",
            "[1300]\tvalid_0's multi_logloss: 0.253643\tvalid_0's multi_logloss: 0.253643\n",
            "[1400]\tvalid_0's multi_logloss: 0.253216\tvalid_0's multi_logloss: 0.253216\n",
            "[1500]\tvalid_0's multi_logloss: 0.253135\tvalid_0's multi_logloss: 0.253135\n",
            "[1600]\tvalid_0's multi_logloss: 0.253133\tvalid_0's multi_logloss: 0.253133\n",
            "Early stopping, best iteration is:\n",
            "[1532]\tvalid_0's multi_logloss: 0.253038\tvalid_0's multi_logloss: 0.253038\n",
            "LGB Val OOF AUC= 0.9868515895045101\n",
            "####################################################################################################\n",
            "\n",
            "Log Loss Stats 0.25448106,0.00423795\n",
            "0.98663952 (0.00059461)\n"
          ],
          "name": "stdout"
        }
      ]
    },
    {
      "cell_type": "code",
      "metadata": {
        "colab": {
          "base_uri": "https://localhost:8080/",
          "height": 211
        },
        "id": "VjHV2putgMNE",
        "outputId": "9c204e28-6b6f-4f18-9a6d-b678b6521b3a"
      },
      "source": [
        "train_df.head()"
      ],
      "execution_count": null,
      "outputs": [
        {
          "output_type": "execute_result",
          "data": {
            "text/html": [
              "<div>\n",
              "<style scoped>\n",
              "    .dataframe tbody tr th:only-of-type {\n",
              "        vertical-align: middle;\n",
              "    }\n",
              "\n",
              "    .dataframe tbody tr th {\n",
              "        vertical-align: top;\n",
              "    }\n",
              "\n",
              "    .dataframe thead th {\n",
              "        text-align: right;\n",
              "    }\n",
              "</style>\n",
              "<table border=\"1\" class=\"dataframe\">\n",
              "  <thead>\n",
              "    <tr style=\"text-align: right;\">\n",
              "      <th></th>\n",
              "      <th>LanguageOfCommunication</th>\n",
              "      <th>Age</th>\n",
              "      <th>Gender</th>\n",
              "      <th>JobProfileIDApplyingFor</th>\n",
              "      <th>HighestDegree</th>\n",
              "      <th>DegreeBranch</th>\n",
              "      <th>GraduatingInstitute</th>\n",
              "      <th>LatestDegreeCGPA</th>\n",
              "      <th>YearsOfExperince</th>\n",
              "      <th>GraduationYear</th>\n",
              "      <th>CurrentCTC</th>\n",
              "      <th>ExpectedCTC</th>\n",
              "      <th>MartialStatus</th>\n",
              "      <th>EmpScore</th>\n",
              "      <th>CurrentDesignation</th>\n",
              "      <th>CurrentCompanyType</th>\n",
              "      <th>DepartmentInCompany</th>\n",
              "      <th>TotalLeavesTaken</th>\n",
              "    </tr>\n",
              "  </thead>\n",
              "  <tbody>\n",
              "    <tr>\n",
              "      <th>11805</th>\n",
              "      <td>0</td>\n",
              "      <td>3.496508</td>\n",
              "      <td>1</td>\n",
              "      <td>4</td>\n",
              "      <td>2</td>\n",
              "      <td>1</td>\n",
              "      <td>1</td>\n",
              "      <td>4</td>\n",
              "      <td>2.302585</td>\n",
              "      <td>2</td>\n",
              "      <td>3.295837</td>\n",
              "      <td>3.526361</td>\n",
              "      <td>0</td>\n",
              "      <td>4</td>\n",
              "      <td>1</td>\n",
              "      <td>0</td>\n",
              "      <td>2</td>\n",
              "      <td>2.708050</td>\n",
              "    </tr>\n",
              "    <tr>\n",
              "      <th>6732</th>\n",
              "      <td>0</td>\n",
              "      <td>3.332205</td>\n",
              "      <td>2</td>\n",
              "      <td>2</td>\n",
              "      <td>0</td>\n",
              "      <td>5</td>\n",
              "      <td>1</td>\n",
              "      <td>7</td>\n",
              "      <td>1.609438</td>\n",
              "      <td>7</td>\n",
              "      <td>2.197225</td>\n",
              "      <td>2.833213</td>\n",
              "      <td>0</td>\n",
              "      <td>3</td>\n",
              "      <td>4</td>\n",
              "      <td>0</td>\n",
              "      <td>1</td>\n",
              "      <td>2.397895</td>\n",
              "    </tr>\n",
              "    <tr>\n",
              "      <th>5769</th>\n",
              "      <td>0</td>\n",
              "      <td>3.526361</td>\n",
              "      <td>1</td>\n",
              "      <td>3</td>\n",
              "      <td>0</td>\n",
              "      <td>4</td>\n",
              "      <td>0</td>\n",
              "      <td>9</td>\n",
              "      <td>2.397895</td>\n",
              "      <td>1</td>\n",
              "      <td>3.332205</td>\n",
              "      <td>3.610918</td>\n",
              "      <td>0</td>\n",
              "      <td>4</td>\n",
              "      <td>5</td>\n",
              "      <td>0</td>\n",
              "      <td>3</td>\n",
              "      <td>2.833213</td>\n",
              "    </tr>\n",
              "    <tr>\n",
              "      <th>7992</th>\n",
              "      <td>0</td>\n",
              "      <td>3.178054</td>\n",
              "      <td>0</td>\n",
              "      <td>5</td>\n",
              "      <td>1</td>\n",
              "      <td>4</td>\n",
              "      <td>0</td>\n",
              "      <td>8</td>\n",
              "      <td>0.000000</td>\n",
              "      <td>11</td>\n",
              "      <td>2.397895</td>\n",
              "      <td>2.944439</td>\n",
              "      <td>0</td>\n",
              "      <td>4</td>\n",
              "      <td>7</td>\n",
              "      <td>2</td>\n",
              "      <td>2</td>\n",
              "      <td>2.833213</td>\n",
              "    </tr>\n",
              "    <tr>\n",
              "      <th>1791</th>\n",
              "      <td>1</td>\n",
              "      <td>3.555348</td>\n",
              "      <td>1</td>\n",
              "      <td>4</td>\n",
              "      <td>2</td>\n",
              "      <td>1</td>\n",
              "      <td>1</td>\n",
              "      <td>7</td>\n",
              "      <td>2.484907</td>\n",
              "      <td>0</td>\n",
              "      <td>3.178054</td>\n",
              "      <td>3.433987</td>\n",
              "      <td>1</td>\n",
              "      <td>3</td>\n",
              "      <td>5</td>\n",
              "      <td>2</td>\n",
              "      <td>0</td>\n",
              "      <td>2.833213</td>\n",
              "    </tr>\n",
              "  </tbody>\n",
              "</table>\n",
              "</div>"
            ],
            "text/plain": [
              "       LanguageOfCommunication       Age  ...  DepartmentInCompany  TotalLeavesTaken\n",
              "11805                        0  3.496508  ...                    2          2.708050\n",
              "6732                         0  3.332205  ...                    1          2.397895\n",
              "5769                         0  3.526361  ...                    3          2.833213\n",
              "7992                         0  3.178054  ...                    2          2.833213\n",
              "1791                         1  3.555348  ...                    0          2.833213\n",
              "\n",
              "[5 rows x 18 columns]"
            ]
          },
          "metadata": {
            "tags": []
          },
          "execution_count": 30
        }
      ]
    },
    {
      "cell_type": "code",
      "metadata": {
        "id": "nw4LLgOpvBYX"
      },
      "source": [
        "testt_fitment = test_dff.FitmentPercent.values"
      ],
      "execution_count": null,
      "outputs": []
    },
    {
      "cell_type": "code",
      "metadata": {
        "id": "VFsaM9qYgTFF"
      },
      "source": [
        "test_dff.drop(columns = ['FitmentPercent'],inplace=True)"
      ],
      "execution_count": null,
      "outputs": []
    },
    {
      "cell_type": "code",
      "metadata": {
        "colab": {
          "base_uri": "https://localhost:8080/",
          "height": 411
        },
        "id": "-9eI0D1pfIw-",
        "outputId": "b4156021-2429-422a-e508-3b89aef2593e"
      },
      "source": [
        "test_dff"
      ],
      "execution_count": null,
      "outputs": [
        {
          "output_type": "execute_result",
          "data": {
            "text/html": [
              "<div>\n",
              "<style scoped>\n",
              "    .dataframe tbody tr th:only-of-type {\n",
              "        vertical-align: middle;\n",
              "    }\n",
              "\n",
              "    .dataframe tbody tr th {\n",
              "        vertical-align: top;\n",
              "    }\n",
              "\n",
              "    .dataframe thead th {\n",
              "        text-align: right;\n",
              "    }\n",
              "</style>\n",
              "<table border=\"1\" class=\"dataframe\">\n",
              "  <thead>\n",
              "    <tr style=\"text-align: right;\">\n",
              "      <th></th>\n",
              "      <th>LanguageOfCommunication</th>\n",
              "      <th>Age</th>\n",
              "      <th>Gender</th>\n",
              "      <th>JobProfileIDApplyingFor</th>\n",
              "      <th>HighestDegree</th>\n",
              "      <th>DegreeBranch</th>\n",
              "      <th>GraduatingInstitute</th>\n",
              "      <th>LatestDegreeCGPA</th>\n",
              "      <th>YearsOfExperince</th>\n",
              "      <th>GraduationYear</th>\n",
              "      <th>CurrentCTC</th>\n",
              "      <th>ExpectedCTC</th>\n",
              "      <th>MartialStatus</th>\n",
              "      <th>EmpScore</th>\n",
              "      <th>CurrentDesignation</th>\n",
              "      <th>CurrentCompanyType</th>\n",
              "      <th>DepartmentInCompany</th>\n",
              "      <th>TotalLeavesTaken</th>\n",
              "      <th>BiasInfluentialFactor</th>\n",
              "    </tr>\n",
              "  </thead>\n",
              "  <tbody>\n",
              "    <tr>\n",
              "      <th>1</th>\n",
              "      <td>0</td>\n",
              "      <td>26</td>\n",
              "      <td>1</td>\n",
              "      <td>4</td>\n",
              "      <td>0</td>\n",
              "      <td>0</td>\n",
              "      <td>2</td>\n",
              "      <td>7</td>\n",
              "      <td>3</td>\n",
              "      <td>9</td>\n",
              "      <td>15</td>\n",
              "      <td>19</td>\n",
              "      <td>0</td>\n",
              "      <td>5</td>\n",
              "      <td>0</td>\n",
              "      <td>1</td>\n",
              "      <td>2</td>\n",
              "      <td>6</td>\n",
              "      <td>NaN</td>\n",
              "    </tr>\n",
              "    <tr>\n",
              "      <th>10</th>\n",
              "      <td>1</td>\n",
              "      <td>29</td>\n",
              "      <td>1</td>\n",
              "      <td>3</td>\n",
              "      <td>0</td>\n",
              "      <td>0</td>\n",
              "      <td>0</td>\n",
              "      <td>7</td>\n",
              "      <td>6</td>\n",
              "      <td>6</td>\n",
              "      <td>9</td>\n",
              "      <td>16</td>\n",
              "      <td>0</td>\n",
              "      <td>3</td>\n",
              "      <td>4</td>\n",
              "      <td>0</td>\n",
              "      <td>3</td>\n",
              "      <td>6</td>\n",
              "      <td>NaN</td>\n",
              "    </tr>\n",
              "    <tr>\n",
              "      <th>13</th>\n",
              "      <td>1</td>\n",
              "      <td>27</td>\n",
              "      <td>1</td>\n",
              "      <td>3</td>\n",
              "      <td>0</td>\n",
              "      <td>1</td>\n",
              "      <td>0</td>\n",
              "      <td>5</td>\n",
              "      <td>4</td>\n",
              "      <td>8</td>\n",
              "      <td>17</td>\n",
              "      <td>26</td>\n",
              "      <td>0</td>\n",
              "      <td>2</td>\n",
              "      <td>4</td>\n",
              "      <td>0</td>\n",
              "      <td>2</td>\n",
              "      <td>20</td>\n",
              "      <td>NaN</td>\n",
              "    </tr>\n",
              "    <tr>\n",
              "      <th>17</th>\n",
              "      <td>0</td>\n",
              "      <td>34</td>\n",
              "      <td>1</td>\n",
              "      <td>2</td>\n",
              "      <td>4</td>\n",
              "      <td>2</td>\n",
              "      <td>1</td>\n",
              "      <td>7</td>\n",
              "      <td>8</td>\n",
              "      <td>4</td>\n",
              "      <td>12</td>\n",
              "      <td>18</td>\n",
              "      <td>0</td>\n",
              "      <td>5</td>\n",
              "      <td>7</td>\n",
              "      <td>0</td>\n",
              "      <td>1</td>\n",
              "      <td>16</td>\n",
              "      <td>NaN</td>\n",
              "    </tr>\n",
              "    <tr>\n",
              "      <th>22</th>\n",
              "      <td>2</td>\n",
              "      <td>34</td>\n",
              "      <td>1</td>\n",
              "      <td>4</td>\n",
              "      <td>0</td>\n",
              "      <td>4</td>\n",
              "      <td>0</td>\n",
              "      <td>7</td>\n",
              "      <td>11</td>\n",
              "      <td>1</td>\n",
              "      <td>9</td>\n",
              "      <td>15</td>\n",
              "      <td>0</td>\n",
              "      <td>3</td>\n",
              "      <td>7</td>\n",
              "      <td>0</td>\n",
              "      <td>3</td>\n",
              "      <td>18</td>\n",
              "      <td>NaN</td>\n",
              "    </tr>\n",
              "    <tr>\n",
              "      <th>...</th>\n",
              "      <td>...</td>\n",
              "      <td>...</td>\n",
              "      <td>...</td>\n",
              "      <td>...</td>\n",
              "      <td>...</td>\n",
              "      <td>...</td>\n",
              "      <td>...</td>\n",
              "      <td>...</td>\n",
              "      <td>...</td>\n",
              "      <td>...</td>\n",
              "      <td>...</td>\n",
              "      <td>...</td>\n",
              "      <td>...</td>\n",
              "      <td>...</td>\n",
              "      <td>...</td>\n",
              "      <td>...</td>\n",
              "      <td>...</td>\n",
              "      <td>...</td>\n",
              "      <td>...</td>\n",
              "    </tr>\n",
              "    <tr>\n",
              "      <th>13630</th>\n",
              "      <td>1</td>\n",
              "      <td>40</td>\n",
              "      <td>1</td>\n",
              "      <td>4</td>\n",
              "      <td>7</td>\n",
              "      <td>4</td>\n",
              "      <td>1</td>\n",
              "      <td>8</td>\n",
              "      <td>10</td>\n",
              "      <td>2</td>\n",
              "      <td>29</td>\n",
              "      <td>34</td>\n",
              "      <td>1</td>\n",
              "      <td>3</td>\n",
              "      <td>4</td>\n",
              "      <td>1</td>\n",
              "      <td>2</td>\n",
              "      <td>7</td>\n",
              "      <td>NaN</td>\n",
              "    </tr>\n",
              "    <tr>\n",
              "      <th>13631</th>\n",
              "      <td>0</td>\n",
              "      <td>33</td>\n",
              "      <td>1</td>\n",
              "      <td>3</td>\n",
              "      <td>7</td>\n",
              "      <td>0</td>\n",
              "      <td>1</td>\n",
              "      <td>8</td>\n",
              "      <td>3</td>\n",
              "      <td>9</td>\n",
              "      <td>7</td>\n",
              "      <td>16</td>\n",
              "      <td>1</td>\n",
              "      <td>3</td>\n",
              "      <td>4</td>\n",
              "      <td>1</td>\n",
              "      <td>2</td>\n",
              "      <td>19</td>\n",
              "      <td>NaN</td>\n",
              "    </tr>\n",
              "    <tr>\n",
              "      <th>13633</th>\n",
              "      <td>0</td>\n",
              "      <td>32</td>\n",
              "      <td>2</td>\n",
              "      <td>6</td>\n",
              "      <td>0</td>\n",
              "      <td>5</td>\n",
              "      <td>0</td>\n",
              "      <td>5</td>\n",
              "      <td>9</td>\n",
              "      <td>3</td>\n",
              "      <td>16</td>\n",
              "      <td>20</td>\n",
              "      <td>0</td>\n",
              "      <td>3</td>\n",
              "      <td>3</td>\n",
              "      <td>1</td>\n",
              "      <td>1</td>\n",
              "      <td>10</td>\n",
              "      <td>NaN</td>\n",
              "    </tr>\n",
              "    <tr>\n",
              "      <th>13635</th>\n",
              "      <td>0</td>\n",
              "      <td>35</td>\n",
              "      <td>1</td>\n",
              "      <td>3</td>\n",
              "      <td>7</td>\n",
              "      <td>0</td>\n",
              "      <td>1</td>\n",
              "      <td>5</td>\n",
              "      <td>5</td>\n",
              "      <td>7</td>\n",
              "      <td>11</td>\n",
              "      <td>19</td>\n",
              "      <td>0</td>\n",
              "      <td>5</td>\n",
              "      <td>5</td>\n",
              "      <td>1</td>\n",
              "      <td>4</td>\n",
              "      <td>10</td>\n",
              "      <td>NaN</td>\n",
              "    </tr>\n",
              "    <tr>\n",
              "      <th>13641</th>\n",
              "      <td>2</td>\n",
              "      <td>29</td>\n",
              "      <td>2</td>\n",
              "      <td>4</td>\n",
              "      <td>2</td>\n",
              "      <td>1</td>\n",
              "      <td>0</td>\n",
              "      <td>7</td>\n",
              "      <td>6</td>\n",
              "      <td>6</td>\n",
              "      <td>22</td>\n",
              "      <td>28</td>\n",
              "      <td>0</td>\n",
              "      <td>4</td>\n",
              "      <td>7</td>\n",
              "      <td>2</td>\n",
              "      <td>0</td>\n",
              "      <td>14</td>\n",
              "      <td>NaN</td>\n",
              "    </tr>\n",
              "  </tbody>\n",
              "</table>\n",
              "<p>3336 rows × 19 columns</p>\n",
              "</div>"
            ],
            "text/plain": [
              "       LanguageOfCommunication  Age  ...  TotalLeavesTaken  BiasInfluentialFactor\n",
              "1                            0   26  ...                 6                    NaN\n",
              "10                           1   29  ...                 6                    NaN\n",
              "13                           1   27  ...                20                    NaN\n",
              "17                           0   34  ...                16                    NaN\n",
              "22                           2   34  ...                18                    NaN\n",
              "...                        ...  ...  ...               ...                    ...\n",
              "13630                        1   40  ...                 7                    NaN\n",
              "13631                        0   33  ...                19                    NaN\n",
              "13633                        0   32  ...                10                    NaN\n",
              "13635                        0   35  ...                10                    NaN\n",
              "13641                        2   29  ...                14                    NaN\n",
              "\n",
              "[3336 rows x 19 columns]"
            ]
          },
          "metadata": {
            "tags": []
          },
          "execution_count": 33
        }
      ]
    },
    {
      "cell_type": "code",
      "metadata": {
        "id": "oiL5-_CzbBtN"
      },
      "source": [
        "test_dff.drop(columns=['BiasInfluentialFactor'],inplace=True)"
      ],
      "execution_count": null,
      "outputs": []
    },
    {
      "cell_type": "code",
      "metadata": {
        "id": "SM7yH_KnbBis"
      },
      "source": [
        "# # gpa_discretizer = KBinsDiscretizer(n_bins=5, encode='ordinal', strategy='quantile')\n",
        "# # train_df['LatestDegreeCGPA'] =gpa_discretizer.fit_transform(train_df['LatestDegreeCGPA'].values.reshape(-1,1)).astype(int)\n",
        "# # age_discretizer = KBinsDiscretizer(n_bins=10, encode='ordinal', strategy='quantile')\n",
        "# test_dff['Age'] =age_discretizer.fit_transform(test_dff['Age'].values.reshape(-1,1)).astype(int)\n",
        "# # yoe_discretizer = KBinsDiscretizer(n_bins=10, encode='ordinal', strategy='quantile')\n",
        "# test_dff['YearsOfExperince'] =yoe_discretizer.fit_transform(test_dff['YearsOfExperince'].values.reshape(-1,1)).astype(int)\n",
        "# # CTC_discretizer = KBinsDiscretizer(n_bins=15, encode='ordinal', strategy='quantile')\n",
        "# test_dff['CurrentCTC'] =CTC_discretizer.fit_transform(test_dff['CurrentCTC'].values.reshape(-1,1)).astype(int)\n",
        "# # ECTC_discretizer = KBinsDiscretizer(n_bins=15, encode='ordinal', strategy='quantile')\n",
        "# test_dff['ExpectedCTC'] =ECTC_discretizer.fit_transform(test_dff['ExpectedCTC'].values.reshape(-1,1)).astype(int)\n",
        "# # Leaves_discretizer = KBinsDiscretizer(n_bins=10, encode='ordinal', strategy='quantile')\n",
        "# test_dff['TotalLeavesTaken'] =Leaves_discretizer.fit_transform(test_dff['TotalLeavesTaken'].values.reshape(-1,1)).astype(int)\n",
        "# # GYdiscretizer = KBinsDiscretizer(n_bins=10, encode='ordinal', strategy='quantile')\n",
        "# # test_dff['GraduationYear'] =GYdiscretizer.fit_transform(test_dff['GraduationYear'].values.reshape(-1,1)).astype(int)"
      ],
      "execution_count": null,
      "outputs": []
    },
    {
      "cell_type": "code",
      "metadata": {
        "colab": {
          "base_uri": "https://localhost:8080/",
          "height": 411
        },
        "id": "ROK7KDCCc5WA",
        "outputId": "e50c94db-ece8-449f-fba7-0c9150e13d76"
      },
      "source": [
        "test_dff"
      ],
      "execution_count": null,
      "outputs": [
        {
          "output_type": "execute_result",
          "data": {
            "text/html": [
              "<div>\n",
              "<style scoped>\n",
              "    .dataframe tbody tr th:only-of-type {\n",
              "        vertical-align: middle;\n",
              "    }\n",
              "\n",
              "    .dataframe tbody tr th {\n",
              "        vertical-align: top;\n",
              "    }\n",
              "\n",
              "    .dataframe thead th {\n",
              "        text-align: right;\n",
              "    }\n",
              "</style>\n",
              "<table border=\"1\" class=\"dataframe\">\n",
              "  <thead>\n",
              "    <tr style=\"text-align: right;\">\n",
              "      <th></th>\n",
              "      <th>LanguageOfCommunication</th>\n",
              "      <th>Age</th>\n",
              "      <th>Gender</th>\n",
              "      <th>JobProfileIDApplyingFor</th>\n",
              "      <th>HighestDegree</th>\n",
              "      <th>DegreeBranch</th>\n",
              "      <th>GraduatingInstitute</th>\n",
              "      <th>LatestDegreeCGPA</th>\n",
              "      <th>YearsOfExperince</th>\n",
              "      <th>GraduationYear</th>\n",
              "      <th>CurrentCTC</th>\n",
              "      <th>ExpectedCTC</th>\n",
              "      <th>MartialStatus</th>\n",
              "      <th>EmpScore</th>\n",
              "      <th>CurrentDesignation</th>\n",
              "      <th>CurrentCompanyType</th>\n",
              "      <th>DepartmentInCompany</th>\n",
              "      <th>TotalLeavesTaken</th>\n",
              "    </tr>\n",
              "  </thead>\n",
              "  <tbody>\n",
              "    <tr>\n",
              "      <th>1</th>\n",
              "      <td>0</td>\n",
              "      <td>26</td>\n",
              "      <td>1</td>\n",
              "      <td>4</td>\n",
              "      <td>0</td>\n",
              "      <td>0</td>\n",
              "      <td>2</td>\n",
              "      <td>7</td>\n",
              "      <td>3</td>\n",
              "      <td>9</td>\n",
              "      <td>15</td>\n",
              "      <td>19</td>\n",
              "      <td>0</td>\n",
              "      <td>5</td>\n",
              "      <td>0</td>\n",
              "      <td>1</td>\n",
              "      <td>2</td>\n",
              "      <td>6</td>\n",
              "    </tr>\n",
              "    <tr>\n",
              "      <th>10</th>\n",
              "      <td>1</td>\n",
              "      <td>29</td>\n",
              "      <td>1</td>\n",
              "      <td>3</td>\n",
              "      <td>0</td>\n",
              "      <td>0</td>\n",
              "      <td>0</td>\n",
              "      <td>7</td>\n",
              "      <td>6</td>\n",
              "      <td>6</td>\n",
              "      <td>9</td>\n",
              "      <td>16</td>\n",
              "      <td>0</td>\n",
              "      <td>3</td>\n",
              "      <td>4</td>\n",
              "      <td>0</td>\n",
              "      <td>3</td>\n",
              "      <td>6</td>\n",
              "    </tr>\n",
              "    <tr>\n",
              "      <th>13</th>\n",
              "      <td>1</td>\n",
              "      <td>27</td>\n",
              "      <td>1</td>\n",
              "      <td>3</td>\n",
              "      <td>0</td>\n",
              "      <td>1</td>\n",
              "      <td>0</td>\n",
              "      <td>5</td>\n",
              "      <td>4</td>\n",
              "      <td>8</td>\n",
              "      <td>17</td>\n",
              "      <td>26</td>\n",
              "      <td>0</td>\n",
              "      <td>2</td>\n",
              "      <td>4</td>\n",
              "      <td>0</td>\n",
              "      <td>2</td>\n",
              "      <td>20</td>\n",
              "    </tr>\n",
              "    <tr>\n",
              "      <th>17</th>\n",
              "      <td>0</td>\n",
              "      <td>34</td>\n",
              "      <td>1</td>\n",
              "      <td>2</td>\n",
              "      <td>4</td>\n",
              "      <td>2</td>\n",
              "      <td>1</td>\n",
              "      <td>7</td>\n",
              "      <td>8</td>\n",
              "      <td>4</td>\n",
              "      <td>12</td>\n",
              "      <td>18</td>\n",
              "      <td>0</td>\n",
              "      <td>5</td>\n",
              "      <td>7</td>\n",
              "      <td>0</td>\n",
              "      <td>1</td>\n",
              "      <td>16</td>\n",
              "    </tr>\n",
              "    <tr>\n",
              "      <th>22</th>\n",
              "      <td>2</td>\n",
              "      <td>34</td>\n",
              "      <td>1</td>\n",
              "      <td>4</td>\n",
              "      <td>0</td>\n",
              "      <td>4</td>\n",
              "      <td>0</td>\n",
              "      <td>7</td>\n",
              "      <td>11</td>\n",
              "      <td>1</td>\n",
              "      <td>9</td>\n",
              "      <td>15</td>\n",
              "      <td>0</td>\n",
              "      <td>3</td>\n",
              "      <td>7</td>\n",
              "      <td>0</td>\n",
              "      <td>3</td>\n",
              "      <td>18</td>\n",
              "    </tr>\n",
              "    <tr>\n",
              "      <th>...</th>\n",
              "      <td>...</td>\n",
              "      <td>...</td>\n",
              "      <td>...</td>\n",
              "      <td>...</td>\n",
              "      <td>...</td>\n",
              "      <td>...</td>\n",
              "      <td>...</td>\n",
              "      <td>...</td>\n",
              "      <td>...</td>\n",
              "      <td>...</td>\n",
              "      <td>...</td>\n",
              "      <td>...</td>\n",
              "      <td>...</td>\n",
              "      <td>...</td>\n",
              "      <td>...</td>\n",
              "      <td>...</td>\n",
              "      <td>...</td>\n",
              "      <td>...</td>\n",
              "    </tr>\n",
              "    <tr>\n",
              "      <th>13630</th>\n",
              "      <td>1</td>\n",
              "      <td>40</td>\n",
              "      <td>1</td>\n",
              "      <td>4</td>\n",
              "      <td>7</td>\n",
              "      <td>4</td>\n",
              "      <td>1</td>\n",
              "      <td>8</td>\n",
              "      <td>10</td>\n",
              "      <td>2</td>\n",
              "      <td>29</td>\n",
              "      <td>34</td>\n",
              "      <td>1</td>\n",
              "      <td>3</td>\n",
              "      <td>4</td>\n",
              "      <td>1</td>\n",
              "      <td>2</td>\n",
              "      <td>7</td>\n",
              "    </tr>\n",
              "    <tr>\n",
              "      <th>13631</th>\n",
              "      <td>0</td>\n",
              "      <td>33</td>\n",
              "      <td>1</td>\n",
              "      <td>3</td>\n",
              "      <td>7</td>\n",
              "      <td>0</td>\n",
              "      <td>1</td>\n",
              "      <td>8</td>\n",
              "      <td>3</td>\n",
              "      <td>9</td>\n",
              "      <td>7</td>\n",
              "      <td>16</td>\n",
              "      <td>1</td>\n",
              "      <td>3</td>\n",
              "      <td>4</td>\n",
              "      <td>1</td>\n",
              "      <td>2</td>\n",
              "      <td>19</td>\n",
              "    </tr>\n",
              "    <tr>\n",
              "      <th>13633</th>\n",
              "      <td>0</td>\n",
              "      <td>32</td>\n",
              "      <td>2</td>\n",
              "      <td>6</td>\n",
              "      <td>0</td>\n",
              "      <td>5</td>\n",
              "      <td>0</td>\n",
              "      <td>5</td>\n",
              "      <td>9</td>\n",
              "      <td>3</td>\n",
              "      <td>16</td>\n",
              "      <td>20</td>\n",
              "      <td>0</td>\n",
              "      <td>3</td>\n",
              "      <td>3</td>\n",
              "      <td>1</td>\n",
              "      <td>1</td>\n",
              "      <td>10</td>\n",
              "    </tr>\n",
              "    <tr>\n",
              "      <th>13635</th>\n",
              "      <td>0</td>\n",
              "      <td>35</td>\n",
              "      <td>1</td>\n",
              "      <td>3</td>\n",
              "      <td>7</td>\n",
              "      <td>0</td>\n",
              "      <td>1</td>\n",
              "      <td>5</td>\n",
              "      <td>5</td>\n",
              "      <td>7</td>\n",
              "      <td>11</td>\n",
              "      <td>19</td>\n",
              "      <td>0</td>\n",
              "      <td>5</td>\n",
              "      <td>5</td>\n",
              "      <td>1</td>\n",
              "      <td>4</td>\n",
              "      <td>10</td>\n",
              "    </tr>\n",
              "    <tr>\n",
              "      <th>13641</th>\n",
              "      <td>2</td>\n",
              "      <td>29</td>\n",
              "      <td>2</td>\n",
              "      <td>4</td>\n",
              "      <td>2</td>\n",
              "      <td>1</td>\n",
              "      <td>0</td>\n",
              "      <td>7</td>\n",
              "      <td>6</td>\n",
              "      <td>6</td>\n",
              "      <td>22</td>\n",
              "      <td>28</td>\n",
              "      <td>0</td>\n",
              "      <td>4</td>\n",
              "      <td>7</td>\n",
              "      <td>2</td>\n",
              "      <td>0</td>\n",
              "      <td>14</td>\n",
              "    </tr>\n",
              "  </tbody>\n",
              "</table>\n",
              "<p>3336 rows × 18 columns</p>\n",
              "</div>"
            ],
            "text/plain": [
              "       LanguageOfCommunication  Age  ...  DepartmentInCompany  TotalLeavesTaken\n",
              "1                            0   26  ...                    2                 6\n",
              "10                           1   29  ...                    3                 6\n",
              "13                           1   27  ...                    2                20\n",
              "17                           0   34  ...                    1                16\n",
              "22                           2   34  ...                    3                18\n",
              "...                        ...  ...  ...                  ...               ...\n",
              "13630                        1   40  ...                    2                 7\n",
              "13631                        0   33  ...                    2                19\n",
              "13633                        0   32  ...                    1                10\n",
              "13635                        0   35  ...                    4                10\n",
              "13641                        2   29  ...                    0                14\n",
              "\n",
              "[3336 rows x 18 columns]"
            ]
          },
          "metadata": {
            "tags": []
          },
          "execution_count": 36
        }
      ]
    },
    {
      "cell_type": "code",
      "metadata": {
        "colab": {
          "base_uri": "https://localhost:8080/"
        },
        "id": "ZyY8L4m5c5Sq",
        "outputId": "b575d2f6-65da-4ebb-9b43-6c0fbb9484a2"
      },
      "source": [
        "test_dff.shape"
      ],
      "execution_count": null,
      "outputs": [
        {
          "output_type": "execute_result",
          "data": {
            "text/plain": [
              "(3336, 18)"
            ]
          },
          "metadata": {
            "tags": []
          },
          "execution_count": 37
        }
      ]
    },
    {
      "cell_type": "code",
      "metadata": {
        "colab": {
          "base_uri": "https://localhost:8080/"
        },
        "id": "rQLt2Tg6c5Pf",
        "outputId": "a5517cc8-b9d6-4d79-ac52-238127a9bb60"
      },
      "source": [
        "train_df.shape"
      ],
      "execution_count": null,
      "outputs": [
        {
          "output_type": "execute_result",
          "data": {
            "text/plain": [
              "(9793, 18)"
            ]
          },
          "metadata": {
            "tags": []
          },
          "execution_count": 38
        }
      ]
    },
    {
      "cell_type": "code",
      "metadata": {
        "colab": {
          "base_uri": "https://localhost:8080/",
          "height": 411
        },
        "id": "4_mqs1EFHq8D",
        "outputId": "28dadf40-9ab6-41a0-c06f-4e3c7a0bf4c3"
      },
      "source": [
        "train_df"
      ],
      "execution_count": null,
      "outputs": [
        {
          "output_type": "execute_result",
          "data": {
            "text/html": [
              "<div>\n",
              "<style scoped>\n",
              "    .dataframe tbody tr th:only-of-type {\n",
              "        vertical-align: middle;\n",
              "    }\n",
              "\n",
              "    .dataframe tbody tr th {\n",
              "        vertical-align: top;\n",
              "    }\n",
              "\n",
              "    .dataframe thead th {\n",
              "        text-align: right;\n",
              "    }\n",
              "</style>\n",
              "<table border=\"1\" class=\"dataframe\">\n",
              "  <thead>\n",
              "    <tr style=\"text-align: right;\">\n",
              "      <th></th>\n",
              "      <th>LanguageOfCommunication</th>\n",
              "      <th>Age</th>\n",
              "      <th>Gender</th>\n",
              "      <th>JobProfileIDApplyingFor</th>\n",
              "      <th>HighestDegree</th>\n",
              "      <th>DegreeBranch</th>\n",
              "      <th>GraduatingInstitute</th>\n",
              "      <th>LatestDegreeCGPA</th>\n",
              "      <th>YearsOfExperince</th>\n",
              "      <th>GraduationYear</th>\n",
              "      <th>CurrentCTC</th>\n",
              "      <th>ExpectedCTC</th>\n",
              "      <th>MartialStatus</th>\n",
              "      <th>EmpScore</th>\n",
              "      <th>CurrentDesignation</th>\n",
              "      <th>CurrentCompanyType</th>\n",
              "      <th>DepartmentInCompany</th>\n",
              "      <th>TotalLeavesTaken</th>\n",
              "    </tr>\n",
              "  </thead>\n",
              "  <tbody>\n",
              "    <tr>\n",
              "      <th>11805</th>\n",
              "      <td>0</td>\n",
              "      <td>3.496508</td>\n",
              "      <td>1</td>\n",
              "      <td>4</td>\n",
              "      <td>2</td>\n",
              "      <td>1</td>\n",
              "      <td>1</td>\n",
              "      <td>4</td>\n",
              "      <td>2.302585</td>\n",
              "      <td>2</td>\n",
              "      <td>3.295837</td>\n",
              "      <td>3.526361</td>\n",
              "      <td>0</td>\n",
              "      <td>4</td>\n",
              "      <td>1</td>\n",
              "      <td>0</td>\n",
              "      <td>2</td>\n",
              "      <td>2.708050</td>\n",
              "    </tr>\n",
              "    <tr>\n",
              "      <th>6732</th>\n",
              "      <td>0</td>\n",
              "      <td>3.332205</td>\n",
              "      <td>2</td>\n",
              "      <td>2</td>\n",
              "      <td>0</td>\n",
              "      <td>5</td>\n",
              "      <td>1</td>\n",
              "      <td>7</td>\n",
              "      <td>1.609438</td>\n",
              "      <td>7</td>\n",
              "      <td>2.197225</td>\n",
              "      <td>2.833213</td>\n",
              "      <td>0</td>\n",
              "      <td>3</td>\n",
              "      <td>4</td>\n",
              "      <td>0</td>\n",
              "      <td>1</td>\n",
              "      <td>2.397895</td>\n",
              "    </tr>\n",
              "    <tr>\n",
              "      <th>5769</th>\n",
              "      <td>0</td>\n",
              "      <td>3.526361</td>\n",
              "      <td>1</td>\n",
              "      <td>3</td>\n",
              "      <td>0</td>\n",
              "      <td>4</td>\n",
              "      <td>0</td>\n",
              "      <td>9</td>\n",
              "      <td>2.397895</td>\n",
              "      <td>1</td>\n",
              "      <td>3.332205</td>\n",
              "      <td>3.610918</td>\n",
              "      <td>0</td>\n",
              "      <td>4</td>\n",
              "      <td>5</td>\n",
              "      <td>0</td>\n",
              "      <td>3</td>\n",
              "      <td>2.833213</td>\n",
              "    </tr>\n",
              "    <tr>\n",
              "      <th>7992</th>\n",
              "      <td>0</td>\n",
              "      <td>3.178054</td>\n",
              "      <td>0</td>\n",
              "      <td>5</td>\n",
              "      <td>1</td>\n",
              "      <td>4</td>\n",
              "      <td>0</td>\n",
              "      <td>8</td>\n",
              "      <td>0.000000</td>\n",
              "      <td>11</td>\n",
              "      <td>2.397895</td>\n",
              "      <td>2.944439</td>\n",
              "      <td>0</td>\n",
              "      <td>4</td>\n",
              "      <td>7</td>\n",
              "      <td>2</td>\n",
              "      <td>2</td>\n",
              "      <td>2.833213</td>\n",
              "    </tr>\n",
              "    <tr>\n",
              "      <th>1791</th>\n",
              "      <td>1</td>\n",
              "      <td>3.555348</td>\n",
              "      <td>1</td>\n",
              "      <td>4</td>\n",
              "      <td>2</td>\n",
              "      <td>1</td>\n",
              "      <td>1</td>\n",
              "      <td>7</td>\n",
              "      <td>2.484907</td>\n",
              "      <td>0</td>\n",
              "      <td>3.178054</td>\n",
              "      <td>3.433987</td>\n",
              "      <td>1</td>\n",
              "      <td>3</td>\n",
              "      <td>5</td>\n",
              "      <td>2</td>\n",
              "      <td>0</td>\n",
              "      <td>2.833213</td>\n",
              "    </tr>\n",
              "    <tr>\n",
              "      <th>...</th>\n",
              "      <td>...</td>\n",
              "      <td>...</td>\n",
              "      <td>...</td>\n",
              "      <td>...</td>\n",
              "      <td>...</td>\n",
              "      <td>...</td>\n",
              "      <td>...</td>\n",
              "      <td>...</td>\n",
              "      <td>...</td>\n",
              "      <td>...</td>\n",
              "      <td>...</td>\n",
              "      <td>...</td>\n",
              "      <td>...</td>\n",
              "      <td>...</td>\n",
              "      <td>...</td>\n",
              "      <td>...</td>\n",
              "      <td>...</td>\n",
              "      <td>...</td>\n",
              "    </tr>\n",
              "    <tr>\n",
              "      <th>7590</th>\n",
              "      <td>1</td>\n",
              "      <td>3.526361</td>\n",
              "      <td>0</td>\n",
              "      <td>7</td>\n",
              "      <td>6</td>\n",
              "      <td>1</td>\n",
              "      <td>0</td>\n",
              "      <td>8</td>\n",
              "      <td>2.079442</td>\n",
              "      <td>4</td>\n",
              "      <td>3.178054</td>\n",
              "      <td>3.496508</td>\n",
              "      <td>0</td>\n",
              "      <td>4</td>\n",
              "      <td>3</td>\n",
              "      <td>2</td>\n",
              "      <td>2</td>\n",
              "      <td>2.708050</td>\n",
              "    </tr>\n",
              "    <tr>\n",
              "      <th>6890</th>\n",
              "      <td>0</td>\n",
              "      <td>3.332205</td>\n",
              "      <td>1</td>\n",
              "      <td>4</td>\n",
              "      <td>0</td>\n",
              "      <td>4</td>\n",
              "      <td>1</td>\n",
              "      <td>6</td>\n",
              "      <td>1.609438</td>\n",
              "      <td>7</td>\n",
              "      <td>3.332205</td>\n",
              "      <td>3.637586</td>\n",
              "      <td>0</td>\n",
              "      <td>3</td>\n",
              "      <td>0</td>\n",
              "      <td>2</td>\n",
              "      <td>4</td>\n",
              "      <td>2.197225</td>\n",
              "    </tr>\n",
              "    <tr>\n",
              "      <th>7146</th>\n",
              "      <td>1</td>\n",
              "      <td>3.433987</td>\n",
              "      <td>1</td>\n",
              "      <td>1</td>\n",
              "      <td>7</td>\n",
              "      <td>1</td>\n",
              "      <td>1</td>\n",
              "      <td>8</td>\n",
              "      <td>0.000000</td>\n",
              "      <td>11</td>\n",
              "      <td>3.091042</td>\n",
              "      <td>3.465736</td>\n",
              "      <td>0</td>\n",
              "      <td>4</td>\n",
              "      <td>5</td>\n",
              "      <td>2</td>\n",
              "      <td>2</td>\n",
              "      <td>2.639057</td>\n",
              "    </tr>\n",
              "    <tr>\n",
              "      <th>1137</th>\n",
              "      <td>1</td>\n",
              "      <td>3.610918</td>\n",
              "      <td>1</td>\n",
              "      <td>3</td>\n",
              "      <td>4</td>\n",
              "      <td>1</td>\n",
              "      <td>2</td>\n",
              "      <td>8</td>\n",
              "      <td>2.397895</td>\n",
              "      <td>1</td>\n",
              "      <td>3.178054</td>\n",
              "      <td>3.465736</td>\n",
              "      <td>0</td>\n",
              "      <td>3</td>\n",
              "      <td>5</td>\n",
              "      <td>2</td>\n",
              "      <td>2</td>\n",
              "      <td>2.890372</td>\n",
              "    </tr>\n",
              "    <tr>\n",
              "      <th>9587</th>\n",
              "      <td>0</td>\n",
              "      <td>3.496508</td>\n",
              "      <td>0</td>\n",
              "      <td>3</td>\n",
              "      <td>1</td>\n",
              "      <td>1</td>\n",
              "      <td>2</td>\n",
              "      <td>8</td>\n",
              "      <td>2.302585</td>\n",
              "      <td>2</td>\n",
              "      <td>3.218876</td>\n",
              "      <td>3.433987</td>\n",
              "      <td>0</td>\n",
              "      <td>1</td>\n",
              "      <td>5</td>\n",
              "      <td>1</td>\n",
              "      <td>1</td>\n",
              "      <td>2.890372</td>\n",
              "    </tr>\n",
              "  </tbody>\n",
              "</table>\n",
              "<p>9793 rows × 18 columns</p>\n",
              "</div>"
            ],
            "text/plain": [
              "       LanguageOfCommunication       Age  ...  DepartmentInCompany  TotalLeavesTaken\n",
              "11805                        0  3.496508  ...                    2          2.708050\n",
              "6732                         0  3.332205  ...                    1          2.397895\n",
              "5769                         0  3.526361  ...                    3          2.833213\n",
              "7992                         0  3.178054  ...                    2          2.833213\n",
              "1791                         1  3.555348  ...                    0          2.833213\n",
              "...                        ...       ...  ...                  ...               ...\n",
              "7590                         1  3.526361  ...                    2          2.708050\n",
              "6890                         0  3.332205  ...                    4          2.197225\n",
              "7146                         1  3.433987  ...                    2          2.639057\n",
              "1137                         1  3.610918  ...                    2          2.890372\n",
              "9587                         0  3.496508  ...                    1          2.890372\n",
              "\n",
              "[9793 rows x 18 columns]"
            ]
          },
          "metadata": {
            "tags": []
          },
          "execution_count": 39
        }
      ]
    },
    {
      "cell_type": "code",
      "metadata": {
        "colab": {
          "base_uri": "https://localhost:8080/",
          "height": 211
        },
        "id": "GlzwdrtXMXYW",
        "outputId": "f11fdeab-d6a4-4e2c-96d5-d01c408089cf"
      },
      "source": [
        "test_dff.head()"
      ],
      "execution_count": null,
      "outputs": [
        {
          "output_type": "execute_result",
          "data": {
            "text/html": [
              "<div>\n",
              "<style scoped>\n",
              "    .dataframe tbody tr th:only-of-type {\n",
              "        vertical-align: middle;\n",
              "    }\n",
              "\n",
              "    .dataframe tbody tr th {\n",
              "        vertical-align: top;\n",
              "    }\n",
              "\n",
              "    .dataframe thead th {\n",
              "        text-align: right;\n",
              "    }\n",
              "</style>\n",
              "<table border=\"1\" class=\"dataframe\">\n",
              "  <thead>\n",
              "    <tr style=\"text-align: right;\">\n",
              "      <th></th>\n",
              "      <th>LanguageOfCommunication</th>\n",
              "      <th>Age</th>\n",
              "      <th>Gender</th>\n",
              "      <th>JobProfileIDApplyingFor</th>\n",
              "      <th>HighestDegree</th>\n",
              "      <th>DegreeBranch</th>\n",
              "      <th>GraduatingInstitute</th>\n",
              "      <th>LatestDegreeCGPA</th>\n",
              "      <th>YearsOfExperince</th>\n",
              "      <th>GraduationYear</th>\n",
              "      <th>CurrentCTC</th>\n",
              "      <th>ExpectedCTC</th>\n",
              "      <th>MartialStatus</th>\n",
              "      <th>EmpScore</th>\n",
              "      <th>CurrentDesignation</th>\n",
              "      <th>CurrentCompanyType</th>\n",
              "      <th>DepartmentInCompany</th>\n",
              "      <th>TotalLeavesTaken</th>\n",
              "    </tr>\n",
              "  </thead>\n",
              "  <tbody>\n",
              "    <tr>\n",
              "      <th>1</th>\n",
              "      <td>0</td>\n",
              "      <td>26</td>\n",
              "      <td>1</td>\n",
              "      <td>4</td>\n",
              "      <td>0</td>\n",
              "      <td>0</td>\n",
              "      <td>2</td>\n",
              "      <td>7</td>\n",
              "      <td>3</td>\n",
              "      <td>9</td>\n",
              "      <td>15</td>\n",
              "      <td>19</td>\n",
              "      <td>0</td>\n",
              "      <td>5</td>\n",
              "      <td>0</td>\n",
              "      <td>1</td>\n",
              "      <td>2</td>\n",
              "      <td>6</td>\n",
              "    </tr>\n",
              "    <tr>\n",
              "      <th>10</th>\n",
              "      <td>1</td>\n",
              "      <td>29</td>\n",
              "      <td>1</td>\n",
              "      <td>3</td>\n",
              "      <td>0</td>\n",
              "      <td>0</td>\n",
              "      <td>0</td>\n",
              "      <td>7</td>\n",
              "      <td>6</td>\n",
              "      <td>6</td>\n",
              "      <td>9</td>\n",
              "      <td>16</td>\n",
              "      <td>0</td>\n",
              "      <td>3</td>\n",
              "      <td>4</td>\n",
              "      <td>0</td>\n",
              "      <td>3</td>\n",
              "      <td>6</td>\n",
              "    </tr>\n",
              "    <tr>\n",
              "      <th>13</th>\n",
              "      <td>1</td>\n",
              "      <td>27</td>\n",
              "      <td>1</td>\n",
              "      <td>3</td>\n",
              "      <td>0</td>\n",
              "      <td>1</td>\n",
              "      <td>0</td>\n",
              "      <td>5</td>\n",
              "      <td>4</td>\n",
              "      <td>8</td>\n",
              "      <td>17</td>\n",
              "      <td>26</td>\n",
              "      <td>0</td>\n",
              "      <td>2</td>\n",
              "      <td>4</td>\n",
              "      <td>0</td>\n",
              "      <td>2</td>\n",
              "      <td>20</td>\n",
              "    </tr>\n",
              "    <tr>\n",
              "      <th>17</th>\n",
              "      <td>0</td>\n",
              "      <td>34</td>\n",
              "      <td>1</td>\n",
              "      <td>2</td>\n",
              "      <td>4</td>\n",
              "      <td>2</td>\n",
              "      <td>1</td>\n",
              "      <td>7</td>\n",
              "      <td>8</td>\n",
              "      <td>4</td>\n",
              "      <td>12</td>\n",
              "      <td>18</td>\n",
              "      <td>0</td>\n",
              "      <td>5</td>\n",
              "      <td>7</td>\n",
              "      <td>0</td>\n",
              "      <td>1</td>\n",
              "      <td>16</td>\n",
              "    </tr>\n",
              "    <tr>\n",
              "      <th>22</th>\n",
              "      <td>2</td>\n",
              "      <td>34</td>\n",
              "      <td>1</td>\n",
              "      <td>4</td>\n",
              "      <td>0</td>\n",
              "      <td>4</td>\n",
              "      <td>0</td>\n",
              "      <td>7</td>\n",
              "      <td>11</td>\n",
              "      <td>1</td>\n",
              "      <td>9</td>\n",
              "      <td>15</td>\n",
              "      <td>0</td>\n",
              "      <td>3</td>\n",
              "      <td>7</td>\n",
              "      <td>0</td>\n",
              "      <td>3</td>\n",
              "      <td>18</td>\n",
              "    </tr>\n",
              "  </tbody>\n",
              "</table>\n",
              "</div>"
            ],
            "text/plain": [
              "    LanguageOfCommunication  Age  ...  DepartmentInCompany  TotalLeavesTaken\n",
              "1                         0   26  ...                    2                 6\n",
              "10                        1   29  ...                    3                 6\n",
              "13                        1   27  ...                    2                20\n",
              "17                        0   34  ...                    1                16\n",
              "22                        2   34  ...                    3                18\n",
              "\n",
              "[5 rows x 18 columns]"
            ]
          },
          "metadata": {
            "tags": []
          },
          "execution_count": 40
        }
      ]
    },
    {
      "cell_type": "code",
      "metadata": {
        "id": "l0tYzjVkMko2"
      },
      "source": [
        "test_dff['Age'] = np.log(test_dff['Age'])\n",
        "test_dff['CurrentCTC'] = np.log(test_dff['CurrentCTC'])\n",
        "test_dff['ExpectedCTC'] = np.log(test_dff['ExpectedCTC'])\n",
        "test_dff['TotalLeavesTaken'] = np.log(test_dff['TotalLeavesTaken'])"
      ],
      "execution_count": null,
      "outputs": []
    },
    {
      "cell_type": "code",
      "metadata": {
        "id": "fNnf4QitOBPk"
      },
      "source": [
        "test_dff['YearsOfExperince'] = np.log(test_dff['YearsOfExperince'])"
      ],
      "execution_count": null,
      "outputs": []
    },
    {
      "cell_type": "code",
      "metadata": {
        "id": "hBobqyoSc5Mc"
      },
      "source": [
        "biasinf_test_preds = clf.predict(test_dff)"
      ],
      "execution_count": null,
      "outputs": []
    },
    {
      "cell_type": "code",
      "metadata": {
        "colab": {
          "base_uri": "https://localhost:8080/"
        },
        "id": "6pFtEjPuc5JU",
        "outputId": "d24a6973-ecdc-4137-e7ae-a1f068c79baa"
      },
      "source": [
        "biasinf_test_preds"
      ],
      "execution_count": null,
      "outputs": [
        {
          "output_type": "execute_result",
          "data": {
            "text/plain": [
              "array([2, 0, 0, ..., 1, 2, 1])"
            ]
          },
          "metadata": {
            "tags": []
          },
          "execution_count": 44
        }
      ]
    },
    {
      "cell_type": "code",
      "metadata": {
        "colab": {
          "base_uri": "https://localhost:8080/"
        },
        "id": "uhUbivFjc5Fc",
        "outputId": "3c22965f-3d61-4784-bee8-9f4c9650f0bd"
      },
      "source": [
        "le.classes_"
      ],
      "execution_count": null,
      "outputs": [
        {
          "output_type": "execute_result",
          "data": {
            "text/plain": [
              "array(['CurrentCompanyType', 'DegreeBranch', 'EmpScore', 'Ethinicity',\n",
              "       'Gender', 'HighestDegree', 'LatestDegreeCGPA', 'MartialStatus',\n",
              "       'YearsOfExperince'], dtype=object)"
            ]
          },
          "metadata": {
            "tags": []
          },
          "execution_count": 45
        }
      ]
    },
    {
      "cell_type": "code",
      "metadata": {
        "id": "0JOIB2Inhqkm"
      },
      "source": [
        "# biasinf_test_preds = le.inverse_transform(biasinf_test_preds)"
      ],
      "execution_count": null,
      "outputs": []
    },
    {
      "cell_type": "code",
      "metadata": {
        "id": "3l_Gv4cYhy2s"
      },
      "source": [
        "# biasinf_test_preds"
      ],
      "execution_count": null,
      "outputs": []
    },
    {
      "cell_type": "code",
      "metadata": {
        "id": "U73KBS8xh-Q3"
      },
      "source": [
        "test_dff['BiasInfluentialFactor'] = biasinf_test_preds"
      ],
      "execution_count": null,
      "outputs": []
    },
    {
      "cell_type": "code",
      "metadata": {
        "id": "LvALqpP0oDfh"
      },
      "source": [
        "train_df['BiasInfluentialFactor'] = target"
      ],
      "execution_count": null,
      "outputs": []
    },
    {
      "cell_type": "code",
      "metadata": {
        "id": "8a-fIcmfj1aw"
      },
      "source": [
        "test_df['BiasInfluentialFactor'] = Y_test"
      ],
      "execution_count": null,
      "outputs": []
    },
    {
      "cell_type": "code",
      "metadata": {
        "id": "PEIg9wBn83Hd"
      },
      "source": [
        "# testt_fitment = np.log(testt_fitment)"
      ],
      "execution_count": null,
      "outputs": []
    },
    {
      "cell_type": "code",
      "metadata": {
        "colab": {
          "base_uri": "https://localhost:8080/"
        },
        "id": "X6megptQHw8T",
        "outputId": "6a807725-0623-4dd9-9eca-bc06df2c0b26"
      },
      "source": [
        "testt_fitment"
      ],
      "execution_count": null,
      "outputs": [
        {
          "output_type": "execute_result",
          "data": {
            "text/plain": [
              "array([67.09, 56.85, 41.99, ..., 33.95, 69.49, 52.9 ])"
            ]
          },
          "metadata": {
            "tags": []
          },
          "execution_count": 52
        }
      ]
    },
    {
      "cell_type": "code",
      "metadata": {
        "colab": {
          "base_uri": "https://localhost:8080/"
        },
        "id": "n-jmlK4RHyaa",
        "outputId": "058d4c90-bd96-41bf-a767-2a09ca798f4f"
      },
      "source": [
        "fitment_train"
      ],
      "execution_count": null,
      "outputs": [
        {
          "output_type": "execute_result",
          "data": {
            "text/plain": [
              "array([86.66, 68.53, 91.12, ..., 93.87, 91.65, 74.55])"
            ]
          },
          "metadata": {
            "tags": []
          },
          "execution_count": 53
        }
      ]
    },
    {
      "cell_type": "code",
      "metadata": {
        "id": "TsVKDi31H1jI"
      },
      "source": [
        "fitment_test"
      ],
      "execution_count": null,
      "outputs": []
    },
    {
      "cell_type": "code",
      "metadata": {
        "id": "ybYAgat6xXc2"
      },
      "source": [
        "test_dff['FitmentPercent'] = testt_fitment\n",
        "\n",
        "train_df['FitmentPercent'] = fitment_train\n",
        "\n",
        "test_df['FitmentPercent'] = fitment_test"
      ],
      "execution_count": null,
      "outputs": []
    },
    {
      "cell_type": "markdown",
      "metadata": {
        "id": "S_P1sTukE1RN"
      },
      "source": [
        "**This will be the training file for the regression Task**"
      ]
    },
    {
      "cell_type": "code",
      "metadata": {
        "id": "_plWOgM5j1Vb"
      },
      "source": [
        "training = pd.concat([train_df,test_df,test_dff])"
      ],
      "execution_count": null,
      "outputs": []
    },
    {
      "cell_type": "code",
      "metadata": {
        "colab": {
          "base_uri": "https://localhost:8080/"
        },
        "id": "8BS2okkwj1R0",
        "outputId": "8b324dfb-d41d-48b1-c119-ba74cded44c4"
      },
      "source": [
        "training.shape"
      ],
      "execution_count": null,
      "outputs": [
        {
          "output_type": "execute_result",
          "data": {
            "text/plain": [
              "(13645, 20)"
            ]
          },
          "metadata": {
            "tags": []
          },
          "execution_count": 57
        }
      ]
    },
    {
      "cell_type": "code",
      "metadata": {
        "colab": {
          "base_uri": "https://localhost:8080/",
          "height": 211
        },
        "id": "SicCtkBIj1L6",
        "outputId": "56058b41-4585-4f01-d4b7-61abd9bcf4d5"
      },
      "source": [
        "training.head()"
      ],
      "execution_count": null,
      "outputs": [
        {
          "output_type": "execute_result",
          "data": {
            "text/html": [
              "<div>\n",
              "<style scoped>\n",
              "    .dataframe tbody tr th:only-of-type {\n",
              "        vertical-align: middle;\n",
              "    }\n",
              "\n",
              "    .dataframe tbody tr th {\n",
              "        vertical-align: top;\n",
              "    }\n",
              "\n",
              "    .dataframe thead th {\n",
              "        text-align: right;\n",
              "    }\n",
              "</style>\n",
              "<table border=\"1\" class=\"dataframe\">\n",
              "  <thead>\n",
              "    <tr style=\"text-align: right;\">\n",
              "      <th></th>\n",
              "      <th>LanguageOfCommunication</th>\n",
              "      <th>Age</th>\n",
              "      <th>Gender</th>\n",
              "      <th>JobProfileIDApplyingFor</th>\n",
              "      <th>HighestDegree</th>\n",
              "      <th>DegreeBranch</th>\n",
              "      <th>GraduatingInstitute</th>\n",
              "      <th>LatestDegreeCGPA</th>\n",
              "      <th>YearsOfExperince</th>\n",
              "      <th>GraduationYear</th>\n",
              "      <th>CurrentCTC</th>\n",
              "      <th>ExpectedCTC</th>\n",
              "      <th>MartialStatus</th>\n",
              "      <th>EmpScore</th>\n",
              "      <th>CurrentDesignation</th>\n",
              "      <th>CurrentCompanyType</th>\n",
              "      <th>DepartmentInCompany</th>\n",
              "      <th>TotalLeavesTaken</th>\n",
              "      <th>BiasInfluentialFactor</th>\n",
              "      <th>FitmentPercent</th>\n",
              "    </tr>\n",
              "  </thead>\n",
              "  <tbody>\n",
              "    <tr>\n",
              "      <th>11805</th>\n",
              "      <td>0</td>\n",
              "      <td>3.496508</td>\n",
              "      <td>1</td>\n",
              "      <td>4</td>\n",
              "      <td>2</td>\n",
              "      <td>1</td>\n",
              "      <td>1</td>\n",
              "      <td>4</td>\n",
              "      <td>2.302585</td>\n",
              "      <td>2</td>\n",
              "      <td>3.295837</td>\n",
              "      <td>3.526361</td>\n",
              "      <td>0</td>\n",
              "      <td>4</td>\n",
              "      <td>1</td>\n",
              "      <td>0</td>\n",
              "      <td>2</td>\n",
              "      <td>2.708050</td>\n",
              "      <td>1</td>\n",
              "      <td>86.66</td>\n",
              "    </tr>\n",
              "    <tr>\n",
              "      <th>6732</th>\n",
              "      <td>0</td>\n",
              "      <td>3.332205</td>\n",
              "      <td>2</td>\n",
              "      <td>2</td>\n",
              "      <td>0</td>\n",
              "      <td>5</td>\n",
              "      <td>1</td>\n",
              "      <td>7</td>\n",
              "      <td>1.609438</td>\n",
              "      <td>7</td>\n",
              "      <td>2.197225</td>\n",
              "      <td>2.833213</td>\n",
              "      <td>0</td>\n",
              "      <td>3</td>\n",
              "      <td>4</td>\n",
              "      <td>0</td>\n",
              "      <td>1</td>\n",
              "      <td>2.397895</td>\n",
              "      <td>0</td>\n",
              "      <td>68.53</td>\n",
              "    </tr>\n",
              "    <tr>\n",
              "      <th>5769</th>\n",
              "      <td>0</td>\n",
              "      <td>3.526361</td>\n",
              "      <td>1</td>\n",
              "      <td>3</td>\n",
              "      <td>0</td>\n",
              "      <td>4</td>\n",
              "      <td>0</td>\n",
              "      <td>9</td>\n",
              "      <td>2.397895</td>\n",
              "      <td>1</td>\n",
              "      <td>3.332205</td>\n",
              "      <td>3.610918</td>\n",
              "      <td>0</td>\n",
              "      <td>4</td>\n",
              "      <td>5</td>\n",
              "      <td>0</td>\n",
              "      <td>3</td>\n",
              "      <td>2.833213</td>\n",
              "      <td>0</td>\n",
              "      <td>91.12</td>\n",
              "    </tr>\n",
              "    <tr>\n",
              "      <th>7992</th>\n",
              "      <td>0</td>\n",
              "      <td>3.178054</td>\n",
              "      <td>0</td>\n",
              "      <td>5</td>\n",
              "      <td>1</td>\n",
              "      <td>4</td>\n",
              "      <td>0</td>\n",
              "      <td>8</td>\n",
              "      <td>0.000000</td>\n",
              "      <td>11</td>\n",
              "      <td>2.397895</td>\n",
              "      <td>2.944439</td>\n",
              "      <td>0</td>\n",
              "      <td>4</td>\n",
              "      <td>7</td>\n",
              "      <td>2</td>\n",
              "      <td>2</td>\n",
              "      <td>2.833213</td>\n",
              "      <td>4</td>\n",
              "      <td>85.89</td>\n",
              "    </tr>\n",
              "    <tr>\n",
              "      <th>1791</th>\n",
              "      <td>1</td>\n",
              "      <td>3.555348</td>\n",
              "      <td>1</td>\n",
              "      <td>4</td>\n",
              "      <td>2</td>\n",
              "      <td>1</td>\n",
              "      <td>1</td>\n",
              "      <td>7</td>\n",
              "      <td>2.484907</td>\n",
              "      <td>0</td>\n",
              "      <td>3.178054</td>\n",
              "      <td>3.433987</td>\n",
              "      <td>1</td>\n",
              "      <td>3</td>\n",
              "      <td>5</td>\n",
              "      <td>2</td>\n",
              "      <td>0</td>\n",
              "      <td>2.833213</td>\n",
              "      <td>8</td>\n",
              "      <td>83.38</td>\n",
              "    </tr>\n",
              "  </tbody>\n",
              "</table>\n",
              "</div>"
            ],
            "text/plain": [
              "       LanguageOfCommunication       Age  ...  BiasInfluentialFactor  FitmentPercent\n",
              "11805                        0  3.496508  ...                      1           86.66\n",
              "6732                         0  3.332205  ...                      0           68.53\n",
              "5769                         0  3.526361  ...                      0           91.12\n",
              "7992                         0  3.178054  ...                      4           85.89\n",
              "1791                         1  3.555348  ...                      8           83.38\n",
              "\n",
              "[5 rows x 20 columns]"
            ]
          },
          "metadata": {
            "tags": []
          },
          "execution_count": 58
        }
      ]
    },
    {
      "cell_type": "markdown",
      "metadata": {
        "id": "JF6CX9amONLJ"
      },
      "source": [
        "Preparing Submission(Classification)"
      ]
    },
    {
      "cell_type": "code",
      "metadata": {
        "id": "eofcIgBwGsHF"
      },
      "source": [
        "submission = pd.read_csv(\"/content/sample submission.csv\")"
      ],
      "execution_count": null,
      "outputs": []
    },
    {
      "cell_type": "code",
      "metadata": {
        "colab": {
          "base_uri": "https://localhost:8080/"
        },
        "id": "3FUCq-pOGsDq",
        "outputId": "b98789eb-7dc2-45c7-e7a5-cfc688b48b4d"
      },
      "source": [
        "submission.shape"
      ],
      "execution_count": null,
      "outputs": [
        {
          "output_type": "execute_result",
          "data": {
            "text/plain": [
              "(7, 3)"
            ]
          },
          "metadata": {
            "tags": []
          },
          "execution_count": 60
        }
      ]
    },
    {
      "cell_type": "markdown",
      "metadata": {
        "id": "fkml3u9VIDFa"
      },
      "source": [
        "Generating predictions for the provided Test.csv"
      ]
    },
    {
      "cell_type": "code",
      "metadata": {
        "colab": {
          "base_uri": "https://localhost:8080/",
          "height": 191
        },
        "id": "LKW8WCY7Gr5W",
        "outputId": "73bdada9-3414-4110-8632-48ff8d9304ac"
      },
      "source": [
        "submission.head()"
      ],
      "execution_count": null,
      "outputs": [
        {
          "output_type": "execute_result",
          "data": {
            "text/html": [
              "<div>\n",
              "<style scoped>\n",
              "    .dataframe tbody tr th:only-of-type {\n",
              "        vertical-align: middle;\n",
              "    }\n",
              "\n",
              "    .dataframe tbody tr th {\n",
              "        vertical-align: top;\n",
              "    }\n",
              "\n",
              "    .dataframe thead th {\n",
              "        text-align: right;\n",
              "    }\n",
              "</style>\n",
              "<table border=\"1\" class=\"dataframe\">\n",
              "  <thead>\n",
              "    <tr style=\"text-align: right;\">\n",
              "      <th></th>\n",
              "      <th>EmpID</th>\n",
              "      <th>BiasInfluentialFactor</th>\n",
              "      <th>FitmentPercent</th>\n",
              "    </tr>\n",
              "  </thead>\n",
              "  <tbody>\n",
              "    <tr>\n",
              "      <th>0</th>\n",
              "      <td>5664</td>\n",
              "      <td>MaritalStatus</td>\n",
              "      <td>25.14</td>\n",
              "    </tr>\n",
              "    <tr>\n",
              "      <th>1</th>\n",
              "      <td>23568</td>\n",
              "      <td>DegreeBranch</td>\n",
              "      <td>91.44</td>\n",
              "    </tr>\n",
              "    <tr>\n",
              "      <th>2</th>\n",
              "      <td>21490</td>\n",
              "      <td>MartialStatus</td>\n",
              "      <td>76.92</td>\n",
              "    </tr>\n",
              "    <tr>\n",
              "      <th>3</th>\n",
              "      <td>8363</td>\n",
              "      <td>HighestDegree</td>\n",
              "      <td>77.92</td>\n",
              "    </tr>\n",
              "    <tr>\n",
              "      <th>4</th>\n",
              "      <td>6165</td>\n",
              "      <td>Gender</td>\n",
              "      <td>85.64</td>\n",
              "    </tr>\n",
              "  </tbody>\n",
              "</table>\n",
              "</div>"
            ],
            "text/plain": [
              "   EmpID BiasInfluentialFactor  FitmentPercent\n",
              "0   5664         MaritalStatus           25.14\n",
              "1  23568          DegreeBranch           91.44\n",
              "2  21490         MartialStatus           76.92\n",
              "3   8363         HighestDegree           77.92\n",
              "4   6165                Gender           85.64"
            ]
          },
          "metadata": {
            "tags": []
          },
          "execution_count": 61
        }
      ]
    },
    {
      "cell_type": "code",
      "metadata": {
        "id": "AiPTlf0THQT8"
      },
      "source": [
        "test_to_submit = pd.read_csv(\"/content/Test.csv\")"
      ],
      "execution_count": null,
      "outputs": []
    },
    {
      "cell_type": "code",
      "metadata": {
        "colab": {
          "base_uri": "https://localhost:8080/",
          "height": 292
        },
        "id": "kNfj7IdLJAON",
        "outputId": "1fc175a8-3c30-43dc-bed1-25a6406d5aac"
      },
      "source": [
        "test_to_submit.head()"
      ],
      "execution_count": null,
      "outputs": [
        {
          "output_type": "execute_result",
          "data": {
            "text/html": [
              "<div>\n",
              "<style scoped>\n",
              "    .dataframe tbody tr th:only-of-type {\n",
              "        vertical-align: middle;\n",
              "    }\n",
              "\n",
              "    .dataframe tbody tr th {\n",
              "        vertical-align: top;\n",
              "    }\n",
              "\n",
              "    .dataframe thead th {\n",
              "        text-align: right;\n",
              "    }\n",
              "</style>\n",
              "<table border=\"1\" class=\"dataframe\">\n",
              "  <thead>\n",
              "    <tr style=\"text-align: right;\">\n",
              "      <th></th>\n",
              "      <th>EmpID</th>\n",
              "      <th>EmpName</th>\n",
              "      <th>LanguageOfCommunication</th>\n",
              "      <th>Age</th>\n",
              "      <th>Gender</th>\n",
              "      <th>JobProfileIDApplyingFor</th>\n",
              "      <th>HighestDegree</th>\n",
              "      <th>DegreeBranch</th>\n",
              "      <th>GraduatingInstitute</th>\n",
              "      <th>LatestDegreeCGPA</th>\n",
              "      <th>YearsOfExperince</th>\n",
              "      <th>GraduationYear</th>\n",
              "      <th>CurrentCTC</th>\n",
              "      <th>ExpectedCTC</th>\n",
              "      <th>MartialStatus</th>\n",
              "      <th>EmpScore</th>\n",
              "      <th>CurrentDesignation</th>\n",
              "      <th>CurrentCompanyType</th>\n",
              "      <th>DepartmentInCompany</th>\n",
              "      <th>TotalLeavesTaken</th>\n",
              "    </tr>\n",
              "  </thead>\n",
              "  <tbody>\n",
              "    <tr>\n",
              "      <th>0</th>\n",
              "      <td>5664</td>\n",
              "      <td>Theo</td>\n",
              "      <td>Native</td>\n",
              "      <td>35</td>\n",
              "      <td>Male</td>\n",
              "      <td>JR85289</td>\n",
              "      <td>PhD</td>\n",
              "      <td>Information Technology</td>\n",
              "      <td>Tier 2</td>\n",
              "      <td>5</td>\n",
              "      <td>5</td>\n",
              "      <td>2016</td>\n",
              "      <td>27</td>\n",
              "      <td>34</td>\n",
              "      <td>Single</td>\n",
              "      <td>4</td>\n",
              "      <td>SDE</td>\n",
              "      <td>Enterprise</td>\n",
              "      <td>Finance</td>\n",
              "      <td>18</td>\n",
              "    </tr>\n",
              "    <tr>\n",
              "      <th>1</th>\n",
              "      <td>23568</td>\n",
              "      <td>Vernie</td>\n",
              "      <td>English</td>\n",
              "      <td>35</td>\n",
              "      <td>Male</td>\n",
              "      <td>JR85289</td>\n",
              "      <td>B.Tech</td>\n",
              "      <td>Information Technology</td>\n",
              "      <td>Tier 3</td>\n",
              "      <td>9</td>\n",
              "      <td>12</td>\n",
              "      <td>2009</td>\n",
              "      <td>29</td>\n",
              "      <td>33</td>\n",
              "      <td>Married</td>\n",
              "      <td>4</td>\n",
              "      <td>EM</td>\n",
              "      <td>Enterprise</td>\n",
              "      <td>Engineering</td>\n",
              "      <td>8</td>\n",
              "    </tr>\n",
              "    <tr>\n",
              "      <th>2</th>\n",
              "      <td>21490</td>\n",
              "      <td>Wendell</td>\n",
              "      <td>English</td>\n",
              "      <td>28</td>\n",
              "      <td>Male</td>\n",
              "      <td>JR87525</td>\n",
              "      <td>M.Tech</td>\n",
              "      <td>Artificial Intelligence</td>\n",
              "      <td>Tier 2</td>\n",
              "      <td>9</td>\n",
              "      <td>2</td>\n",
              "      <td>2019</td>\n",
              "      <td>18</td>\n",
              "      <td>25</td>\n",
              "      <td>Married</td>\n",
              "      <td>3</td>\n",
              "      <td>SDE</td>\n",
              "      <td>Startup</td>\n",
              "      <td>Engineering</td>\n",
              "      <td>18</td>\n",
              "    </tr>\n",
              "    <tr>\n",
              "      <th>3</th>\n",
              "      <td>8363</td>\n",
              "      <td>West</td>\n",
              "      <td>Hindi</td>\n",
              "      <td>37</td>\n",
              "      <td>Male</td>\n",
              "      <td>JR87525</td>\n",
              "      <td>MS</td>\n",
              "      <td>Computer Science</td>\n",
              "      <td>Tier 2</td>\n",
              "      <td>8</td>\n",
              "      <td>11</td>\n",
              "      <td>2010</td>\n",
              "      <td>7</td>\n",
              "      <td>12</td>\n",
              "      <td>Single</td>\n",
              "      <td>5</td>\n",
              "      <td>DS</td>\n",
              "      <td>Enterprise</td>\n",
              "      <td>Product</td>\n",
              "      <td>17</td>\n",
              "    </tr>\n",
              "    <tr>\n",
              "      <th>4</th>\n",
              "      <td>6165</td>\n",
              "      <td>Alford</td>\n",
              "      <td>Hindi</td>\n",
              "      <td>36</td>\n",
              "      <td>Female</td>\n",
              "      <td>JR85289</td>\n",
              "      <td>PhD</td>\n",
              "      <td>Artificial Intelligence</td>\n",
              "      <td>Tier 2</td>\n",
              "      <td>7</td>\n",
              "      <td>6</td>\n",
              "      <td>2015</td>\n",
              "      <td>22</td>\n",
              "      <td>32</td>\n",
              "      <td>Married</td>\n",
              "      <td>4</td>\n",
              "      <td>SDE</td>\n",
              "      <td>Startup</td>\n",
              "      <td>Engineering</td>\n",
              "      <td>9</td>\n",
              "    </tr>\n",
              "  </tbody>\n",
              "</table>\n",
              "</div>"
            ],
            "text/plain": [
              "   EmpID  EmpName  ... DepartmentInCompany  TotalLeavesTaken\n",
              "0   5664     Theo  ...             Finance                18\n",
              "1  23568   Vernie  ...         Engineering                 8\n",
              "2  21490  Wendell  ...         Engineering                18\n",
              "3   8363     West  ...             Product                17\n",
              "4   6165   Alford  ...         Engineering                 9\n",
              "\n",
              "[5 rows x 20 columns]"
            ]
          },
          "metadata": {
            "tags": []
          },
          "execution_count": 68
        }
      ]
    },
    {
      "cell_type": "code",
      "metadata": {
        "id": "k3fCMsUXJALm"
      },
      "source": [
        "EmpID = test_to_submit['EmpID'].values"
      ],
      "execution_count": null,
      "outputs": []
    },
    {
      "cell_type": "code",
      "metadata": {
        "id": "hfxc7rFsJAIz"
      },
      "source": [
        "test_to_submit .drop(columns = ['EmpID','EmpName'],inplace = True)"
      ],
      "execution_count": null,
      "outputs": []
    },
    {
      "cell_type": "code",
      "metadata": {
        "id": "plOSwvusJAGF"
      },
      "source": [
        "def encode_cat_cols(train, cat_cols): #target\n",
        "    train_df = test_to_submit.copy()\n",
        "    # test_df = test_data.copy()\n",
        "    # Making a dictionary to store all the labelencoders for categroical columns to transform them later.\n",
        "    le_dict = {}\n",
        "\n",
        "    for col in cat_cols:\n",
        "          le = LabelEncoder()\n",
        "          le.fit(train_df[col].unique().tolist())\n",
        "          train_df[col] = le.transform(train_df[[col]])\n",
        "          # test_df[col] = le.transform(test_df[[col]])\n",
        "          le_dict[col] = le\n",
        "#     train_df['Vehicle_Age'] = train_df['Vehicle_Age'].map({'< 1 Year':1,'1-2 Year':2,'> 2 Years':3})\n",
        "#     test_df['Vehicle_Age'] = test_df['Vehicle_Age'].map({'< 1 Year':1,'1-2 Year':2,'> 2 Years':3})\n",
        "    # le = LabelEncoder()\n",
        "    # train_df[label] = le.fit_transform(train_df[[label]])\n",
        "    # le_dict[label] = le\n",
        "    return train_df, le_dict\n",
        "test_to_submit, le_dict = encode_cat_cols(test_to_submit,cat_features)"
      ],
      "execution_count": null,
      "outputs": []
    },
    {
      "cell_type": "code",
      "metadata": {
        "colab": {
          "base_uri": "https://localhost:8080/",
          "height": 211
        },
        "id": "BUZ09t2tJACQ",
        "outputId": "5a14e24c-2b66-47e3-a8fc-ae2cbf54085a"
      },
      "source": [
        "test_to_submit.head()"
      ],
      "execution_count": null,
      "outputs": [
        {
          "output_type": "execute_result",
          "data": {
            "text/html": [
              "<div>\n",
              "<style scoped>\n",
              "    .dataframe tbody tr th:only-of-type {\n",
              "        vertical-align: middle;\n",
              "    }\n",
              "\n",
              "    .dataframe tbody tr th {\n",
              "        vertical-align: top;\n",
              "    }\n",
              "\n",
              "    .dataframe thead th {\n",
              "        text-align: right;\n",
              "    }\n",
              "</style>\n",
              "<table border=\"1\" class=\"dataframe\">\n",
              "  <thead>\n",
              "    <tr style=\"text-align: right;\">\n",
              "      <th></th>\n",
              "      <th>LanguageOfCommunication</th>\n",
              "      <th>Age</th>\n",
              "      <th>Gender</th>\n",
              "      <th>JobProfileIDApplyingFor</th>\n",
              "      <th>HighestDegree</th>\n",
              "      <th>DegreeBranch</th>\n",
              "      <th>GraduatingInstitute</th>\n",
              "      <th>LatestDegreeCGPA</th>\n",
              "      <th>YearsOfExperince</th>\n",
              "      <th>GraduationYear</th>\n",
              "      <th>CurrentCTC</th>\n",
              "      <th>ExpectedCTC</th>\n",
              "      <th>MartialStatus</th>\n",
              "      <th>EmpScore</th>\n",
              "      <th>CurrentDesignation</th>\n",
              "      <th>CurrentCompanyType</th>\n",
              "      <th>DepartmentInCompany</th>\n",
              "      <th>TotalLeavesTaken</th>\n",
              "    </tr>\n",
              "  </thead>\n",
              "  <tbody>\n",
              "    <tr>\n",
              "      <th>0</th>\n",
              "      <td>2</td>\n",
              "      <td>35</td>\n",
              "      <td>1</td>\n",
              "      <td>3</td>\n",
              "      <td>7</td>\n",
              "      <td>5</td>\n",
              "      <td>1</td>\n",
              "      <td>5</td>\n",
              "      <td>5</td>\n",
              "      <td>7</td>\n",
              "      <td>27</td>\n",
              "      <td>34</td>\n",
              "      <td>1</td>\n",
              "      <td>4</td>\n",
              "      <td>5</td>\n",
              "      <td>0</td>\n",
              "      <td>3</td>\n",
              "      <td>18</td>\n",
              "    </tr>\n",
              "    <tr>\n",
              "      <th>1</th>\n",
              "      <td>0</td>\n",
              "      <td>35</td>\n",
              "      <td>1</td>\n",
              "      <td>3</td>\n",
              "      <td>0</td>\n",
              "      <td>5</td>\n",
              "      <td>2</td>\n",
              "      <td>9</td>\n",
              "      <td>12</td>\n",
              "      <td>0</td>\n",
              "      <td>29</td>\n",
              "      <td>33</td>\n",
              "      <td>0</td>\n",
              "      <td>4</td>\n",
              "      <td>4</td>\n",
              "      <td>0</td>\n",
              "      <td>2</td>\n",
              "      <td>8</td>\n",
              "    </tr>\n",
              "    <tr>\n",
              "      <th>2</th>\n",
              "      <td>0</td>\n",
              "      <td>28</td>\n",
              "      <td>1</td>\n",
              "      <td>4</td>\n",
              "      <td>4</td>\n",
              "      <td>0</td>\n",
              "      <td>1</td>\n",
              "      <td>9</td>\n",
              "      <td>2</td>\n",
              "      <td>10</td>\n",
              "      <td>18</td>\n",
              "      <td>25</td>\n",
              "      <td>0</td>\n",
              "      <td>3</td>\n",
              "      <td>5</td>\n",
              "      <td>2</td>\n",
              "      <td>2</td>\n",
              "      <td>18</td>\n",
              "    </tr>\n",
              "    <tr>\n",
              "      <th>3</th>\n",
              "      <td>1</td>\n",
              "      <td>37</td>\n",
              "      <td>1</td>\n",
              "      <td>4</td>\n",
              "      <td>6</td>\n",
              "      <td>1</td>\n",
              "      <td>1</td>\n",
              "      <td>8</td>\n",
              "      <td>11</td>\n",
              "      <td>1</td>\n",
              "      <td>7</td>\n",
              "      <td>12</td>\n",
              "      <td>1</td>\n",
              "      <td>5</td>\n",
              "      <td>3</td>\n",
              "      <td>0</td>\n",
              "      <td>4</td>\n",
              "      <td>17</td>\n",
              "    </tr>\n",
              "    <tr>\n",
              "      <th>4</th>\n",
              "      <td>1</td>\n",
              "      <td>36</td>\n",
              "      <td>0</td>\n",
              "      <td>3</td>\n",
              "      <td>7</td>\n",
              "      <td>0</td>\n",
              "      <td>1</td>\n",
              "      <td>7</td>\n",
              "      <td>6</td>\n",
              "      <td>6</td>\n",
              "      <td>22</td>\n",
              "      <td>32</td>\n",
              "      <td>0</td>\n",
              "      <td>4</td>\n",
              "      <td>5</td>\n",
              "      <td>2</td>\n",
              "      <td>2</td>\n",
              "      <td>9</td>\n",
              "    </tr>\n",
              "  </tbody>\n",
              "</table>\n",
              "</div>"
            ],
            "text/plain": [
              "   LanguageOfCommunication  Age  ...  DepartmentInCompany  TotalLeavesTaken\n",
              "0                        2   35  ...                    3                18\n",
              "1                        0   35  ...                    2                 8\n",
              "2                        0   28  ...                    2                18\n",
              "3                        1   37  ...                    4                17\n",
              "4                        1   36  ...                    2                 9\n",
              "\n",
              "[5 rows x 18 columns]"
            ]
          },
          "metadata": {
            "tags": []
          },
          "execution_count": 72
        }
      ]
    },
    {
      "cell_type": "code",
      "metadata": {
        "id": "f_V5tqsNI_wr"
      },
      "source": [
        "test_to_submit['Age'] = np.log(test_to_submit['Age'])\n",
        "test_to_submit['CurrentCTC'] = np.log(test_to_submit['CurrentCTC'])\n",
        "test_to_submit['ExpectedCTC'] = np.log(test_to_submit['ExpectedCTC'])\n",
        "test_to_submit['TotalLeavesTaken'] = np.log(test_to_submit['TotalLeavesTaken'])\n",
        "test_to_submit['YearsOfExperince'] = np.log(test_to_submit['YearsOfExperince'])"
      ],
      "execution_count": null,
      "outputs": []
    },
    {
      "cell_type": "code",
      "metadata": {
        "id": "0zk2uoYTOnRl"
      },
      "source": [
        "preds = clf.predict(test_to_submit)"
      ],
      "execution_count": null,
      "outputs": []
    },
    {
      "cell_type": "code",
      "metadata": {
        "id": "H5XDN7XQOnMs"
      },
      "source": [
        "sub = pd.DataFrame(zip(EmpID,preds),columns = ['EmpID','BiasInfluentialFactor'])"
      ],
      "execution_count": null,
      "outputs": []
    },
    {
      "cell_type": "markdown",
      "metadata": {
        "id": "X0kL-9LRRq9B"
      },
      "source": [
        "LE again because le is currently initialized with some other feature column"
      ]
    },
    {
      "cell_type": "code",
      "metadata": {
        "id": "-cyLHppTRpjZ"
      },
      "source": [
        "import pandas as pd\n",
        "train_df = pd.read_csv(\"/content/Train.csv\")\n",
        "train_df = train_df.loc[train_df.BiasInfluentialFactor.notnull()]\n",
        "le = LabelEncoder()\n",
        "train_df[\"BiasInfluentialFactor\"] = le.fit_transform(train_df[[\"BiasInfluentialFactor\"]])"
      ],
      "execution_count": null,
      "outputs": []
    },
    {
      "cell_type": "code",
      "metadata": {
        "colab": {
          "base_uri": "https://localhost:8080/"
        },
        "id": "imsOJqmSSUu_",
        "outputId": "367fa7fd-837b-424a-8b2a-ad0b98c2aa50"
      },
      "source": [
        "le.classes_"
      ],
      "execution_count": null,
      "outputs": [
        {
          "output_type": "execute_result",
          "data": {
            "text/plain": [
              "array(['CurrentCompanyType', 'DegreeBranch', 'EmpScore', 'Ethinicity',\n",
              "       'Gender', 'HighestDegree', 'LatestDegreeCGPA', 'MartialStatus',\n",
              "       'YearsOfExperince'], dtype=object)"
            ]
          },
          "metadata": {
            "tags": []
          },
          "execution_count": 85
        }
      ]
    },
    {
      "cell_type": "code",
      "metadata": {
        "id": "aYrYs1VDR9vG"
      },
      "source": [
        "sub['BiasInfluentialFactor'] = le.inverse_transform(sub['BiasInfluentialFactor'] )"
      ],
      "execution_count": null,
      "outputs": []
    },
    {
      "cell_type": "code",
      "metadata": {
        "colab": {
          "base_uri": "https://localhost:8080/",
          "height": 191
        },
        "id": "Yz42vcBbQoOh",
        "outputId": "8caf1f1a-a455-4a93-c4ec-fb05d4632c37"
      },
      "source": [
        "sub.head()"
      ],
      "execution_count": null,
      "outputs": [
        {
          "output_type": "execute_result",
          "data": {
            "text/html": [
              "<div>\n",
              "<style scoped>\n",
              "    .dataframe tbody tr th:only-of-type {\n",
              "        vertical-align: middle;\n",
              "    }\n",
              "\n",
              "    .dataframe tbody tr th {\n",
              "        vertical-align: top;\n",
              "    }\n",
              "\n",
              "    .dataframe thead th {\n",
              "        text-align: right;\n",
              "    }\n",
              "</style>\n",
              "<table border=\"1\" class=\"dataframe\">\n",
              "  <thead>\n",
              "    <tr style=\"text-align: right;\">\n",
              "      <th></th>\n",
              "      <th>EmpID</th>\n",
              "      <th>BiasInfluentialFactor</th>\n",
              "    </tr>\n",
              "  </thead>\n",
              "  <tbody>\n",
              "    <tr>\n",
              "      <th>0</th>\n",
              "      <td>5664</td>\n",
              "      <td>DegreeBranch</td>\n",
              "    </tr>\n",
              "    <tr>\n",
              "      <th>1</th>\n",
              "      <td>23568</td>\n",
              "      <td>DegreeBranch</td>\n",
              "    </tr>\n",
              "    <tr>\n",
              "      <th>2</th>\n",
              "      <td>21490</td>\n",
              "      <td>MartialStatus</td>\n",
              "    </tr>\n",
              "    <tr>\n",
              "      <th>3</th>\n",
              "      <td>8363</td>\n",
              "      <td>CurrentCompanyType</td>\n",
              "    </tr>\n",
              "    <tr>\n",
              "      <th>4</th>\n",
              "      <td>6165</td>\n",
              "      <td>Gender</td>\n",
              "    </tr>\n",
              "  </tbody>\n",
              "</table>\n",
              "</div>"
            ],
            "text/plain": [
              "   EmpID BiasInfluentialFactor\n",
              "0   5664          DegreeBranch\n",
              "1  23568          DegreeBranch\n",
              "2  21490         MartialStatus\n",
              "3   8363    CurrentCompanyType\n",
              "4   6165                Gender"
            ]
          },
          "metadata": {
            "tags": []
          },
          "execution_count": 89
        }
      ]
    },
    {
      "cell_type": "markdown",
      "metadata": {
        "id": "0YroaO3ps167"
      },
      "source": [
        "# **Regression**"
      ]
    },
    {
      "cell_type": "code",
      "metadata": {
        "id": "91BB89msj1Hf"
      },
      "source": [
        "import numpy as np\n",
        "import pandas as pd\n",
        "from sklearn import datasets\n",
        "import seaborn as sns\n",
        "from sklearn.feature_selection import RFE\n",
        "from sklearn.model_selection import train_test_split\n",
        "from sklearn.model_selection import cross_val_score\n",
        "from sklearn.model_selection import KFold\n",
        "from sklearn.pipeline import Pipeline\n",
        "from sklearn.preprocessing import StandardScaler\n",
        "import matplotlib.pyplot as plt"
      ],
      "execution_count": null,
      "outputs": []
    },
    {
      "cell_type": "code",
      "metadata": {
        "id": "7zaCUogcj1Em"
      },
      "source": [
        "data = training"
      ],
      "execution_count": null,
      "outputs": []
    },
    {
      "cell_type": "code",
      "metadata": {
        "colab": {
          "base_uri": "https://localhost:8080/",
          "height": 211
        },
        "id": "WH8hiL5J64Ws",
        "outputId": "901a63f9-65b1-4dee-c894-5ce8c44c79fe"
      },
      "source": [
        "data.head()"
      ],
      "execution_count": null,
      "outputs": [
        {
          "output_type": "execute_result",
          "data": {
            "text/html": [
              "<div>\n",
              "<style scoped>\n",
              "    .dataframe tbody tr th:only-of-type {\n",
              "        vertical-align: middle;\n",
              "    }\n",
              "\n",
              "    .dataframe tbody tr th {\n",
              "        vertical-align: top;\n",
              "    }\n",
              "\n",
              "    .dataframe thead th {\n",
              "        text-align: right;\n",
              "    }\n",
              "</style>\n",
              "<table border=\"1\" class=\"dataframe\">\n",
              "  <thead>\n",
              "    <tr style=\"text-align: right;\">\n",
              "      <th></th>\n",
              "      <th>LanguageOfCommunication</th>\n",
              "      <th>Age</th>\n",
              "      <th>Gender</th>\n",
              "      <th>JobProfileIDApplyingFor</th>\n",
              "      <th>HighestDegree</th>\n",
              "      <th>DegreeBranch</th>\n",
              "      <th>GraduatingInstitute</th>\n",
              "      <th>LatestDegreeCGPA</th>\n",
              "      <th>YearsOfExperince</th>\n",
              "      <th>GraduationYear</th>\n",
              "      <th>CurrentCTC</th>\n",
              "      <th>ExpectedCTC</th>\n",
              "      <th>MartialStatus</th>\n",
              "      <th>EmpScore</th>\n",
              "      <th>CurrentDesignation</th>\n",
              "      <th>CurrentCompanyType</th>\n",
              "      <th>DepartmentInCompany</th>\n",
              "      <th>TotalLeavesTaken</th>\n",
              "      <th>BiasInfluentialFactor</th>\n",
              "      <th>FitmentPercent</th>\n",
              "    </tr>\n",
              "  </thead>\n",
              "  <tbody>\n",
              "    <tr>\n",
              "      <th>11805</th>\n",
              "      <td>0</td>\n",
              "      <td>3.496508</td>\n",
              "      <td>1</td>\n",
              "      <td>4</td>\n",
              "      <td>2</td>\n",
              "      <td>1</td>\n",
              "      <td>1</td>\n",
              "      <td>4</td>\n",
              "      <td>2.302585</td>\n",
              "      <td>2</td>\n",
              "      <td>3.295837</td>\n",
              "      <td>3.526361</td>\n",
              "      <td>0</td>\n",
              "      <td>4</td>\n",
              "      <td>1</td>\n",
              "      <td>0</td>\n",
              "      <td>2</td>\n",
              "      <td>2.708050</td>\n",
              "      <td>1</td>\n",
              "      <td>86.66</td>\n",
              "    </tr>\n",
              "    <tr>\n",
              "      <th>6732</th>\n",
              "      <td>0</td>\n",
              "      <td>3.332205</td>\n",
              "      <td>2</td>\n",
              "      <td>2</td>\n",
              "      <td>0</td>\n",
              "      <td>5</td>\n",
              "      <td>1</td>\n",
              "      <td>7</td>\n",
              "      <td>1.609438</td>\n",
              "      <td>7</td>\n",
              "      <td>2.197225</td>\n",
              "      <td>2.833213</td>\n",
              "      <td>0</td>\n",
              "      <td>3</td>\n",
              "      <td>4</td>\n",
              "      <td>0</td>\n",
              "      <td>1</td>\n",
              "      <td>2.397895</td>\n",
              "      <td>0</td>\n",
              "      <td>68.53</td>\n",
              "    </tr>\n",
              "    <tr>\n",
              "      <th>5769</th>\n",
              "      <td>0</td>\n",
              "      <td>3.526361</td>\n",
              "      <td>1</td>\n",
              "      <td>3</td>\n",
              "      <td>0</td>\n",
              "      <td>4</td>\n",
              "      <td>0</td>\n",
              "      <td>9</td>\n",
              "      <td>2.397895</td>\n",
              "      <td>1</td>\n",
              "      <td>3.332205</td>\n",
              "      <td>3.610918</td>\n",
              "      <td>0</td>\n",
              "      <td>4</td>\n",
              "      <td>5</td>\n",
              "      <td>0</td>\n",
              "      <td>3</td>\n",
              "      <td>2.833213</td>\n",
              "      <td>0</td>\n",
              "      <td>91.12</td>\n",
              "    </tr>\n",
              "    <tr>\n",
              "      <th>7992</th>\n",
              "      <td>0</td>\n",
              "      <td>3.178054</td>\n",
              "      <td>0</td>\n",
              "      <td>5</td>\n",
              "      <td>1</td>\n",
              "      <td>4</td>\n",
              "      <td>0</td>\n",
              "      <td>8</td>\n",
              "      <td>0.000000</td>\n",
              "      <td>11</td>\n",
              "      <td>2.397895</td>\n",
              "      <td>2.944439</td>\n",
              "      <td>0</td>\n",
              "      <td>4</td>\n",
              "      <td>7</td>\n",
              "      <td>2</td>\n",
              "      <td>2</td>\n",
              "      <td>2.833213</td>\n",
              "      <td>4</td>\n",
              "      <td>85.89</td>\n",
              "    </tr>\n",
              "    <tr>\n",
              "      <th>1791</th>\n",
              "      <td>1</td>\n",
              "      <td>3.555348</td>\n",
              "      <td>1</td>\n",
              "      <td>4</td>\n",
              "      <td>2</td>\n",
              "      <td>1</td>\n",
              "      <td>1</td>\n",
              "      <td>7</td>\n",
              "      <td>2.484907</td>\n",
              "      <td>0</td>\n",
              "      <td>3.178054</td>\n",
              "      <td>3.433987</td>\n",
              "      <td>1</td>\n",
              "      <td>3</td>\n",
              "      <td>5</td>\n",
              "      <td>2</td>\n",
              "      <td>0</td>\n",
              "      <td>2.833213</td>\n",
              "      <td>8</td>\n",
              "      <td>83.38</td>\n",
              "    </tr>\n",
              "  </tbody>\n",
              "</table>\n",
              "</div>"
            ],
            "text/plain": [
              "       LanguageOfCommunication       Age  ...  BiasInfluentialFactor  FitmentPercent\n",
              "11805                        0  3.496508  ...                      1           86.66\n",
              "6732                         0  3.332205  ...                      0           68.53\n",
              "5769                         0  3.526361  ...                      0           91.12\n",
              "7992                         0  3.178054  ...                      4           85.89\n",
              "1791                         1  3.555348  ...                      8           83.38\n",
              "\n",
              "[5 rows x 20 columns]"
            ]
          },
          "metadata": {
            "tags": []
          },
          "execution_count": 92
        }
      ]
    },
    {
      "cell_type": "markdown",
      "metadata": {
        "id": "x8Hd0_kKFFx0"
      },
      "source": [
        "Normalizing and then de-Normalizing helped in some perfomance gain"
      ]
    },
    {
      "cell_type": "code",
      "metadata": {
        "id": "BPKl5ZcY2BwA"
      },
      "source": [
        "\n",
        "data['FitmentPercent'] = np.log(data['FitmentPercent'])\n"
      ],
      "execution_count": null,
      "outputs": []
    },
    {
      "cell_type": "code",
      "metadata": {
        "colab": {
          "base_uri": "https://localhost:8080/",
          "height": 211
        },
        "id": "zqJPFet8-9vC",
        "outputId": "fe967f90-7bf4-41f2-ec69-7c725ca1ab82"
      },
      "source": [
        "data.head()"
      ],
      "execution_count": null,
      "outputs": [
        {
          "output_type": "execute_result",
          "data": {
            "text/html": [
              "<div>\n",
              "<style scoped>\n",
              "    .dataframe tbody tr th:only-of-type {\n",
              "        vertical-align: middle;\n",
              "    }\n",
              "\n",
              "    .dataframe tbody tr th {\n",
              "        vertical-align: top;\n",
              "    }\n",
              "\n",
              "    .dataframe thead th {\n",
              "        text-align: right;\n",
              "    }\n",
              "</style>\n",
              "<table border=\"1\" class=\"dataframe\">\n",
              "  <thead>\n",
              "    <tr style=\"text-align: right;\">\n",
              "      <th></th>\n",
              "      <th>LanguageOfCommunication</th>\n",
              "      <th>Age</th>\n",
              "      <th>Gender</th>\n",
              "      <th>JobProfileIDApplyingFor</th>\n",
              "      <th>HighestDegree</th>\n",
              "      <th>DegreeBranch</th>\n",
              "      <th>GraduatingInstitute</th>\n",
              "      <th>LatestDegreeCGPA</th>\n",
              "      <th>YearsOfExperince</th>\n",
              "      <th>GraduationYear</th>\n",
              "      <th>CurrentCTC</th>\n",
              "      <th>ExpectedCTC</th>\n",
              "      <th>MartialStatus</th>\n",
              "      <th>EmpScore</th>\n",
              "      <th>CurrentDesignation</th>\n",
              "      <th>CurrentCompanyType</th>\n",
              "      <th>DepartmentInCompany</th>\n",
              "      <th>TotalLeavesTaken</th>\n",
              "      <th>BiasInfluentialFactor</th>\n",
              "      <th>FitmentPercent</th>\n",
              "    </tr>\n",
              "  </thead>\n",
              "  <tbody>\n",
              "    <tr>\n",
              "      <th>11805</th>\n",
              "      <td>0</td>\n",
              "      <td>3.496508</td>\n",
              "      <td>1</td>\n",
              "      <td>4</td>\n",
              "      <td>2</td>\n",
              "      <td>1</td>\n",
              "      <td>1</td>\n",
              "      <td>4</td>\n",
              "      <td>2.302585</td>\n",
              "      <td>2</td>\n",
              "      <td>3.295837</td>\n",
              "      <td>3.526361</td>\n",
              "      <td>0</td>\n",
              "      <td>4</td>\n",
              "      <td>1</td>\n",
              "      <td>0</td>\n",
              "      <td>2</td>\n",
              "      <td>2.708050</td>\n",
              "      <td>1</td>\n",
              "      <td>4.461992</td>\n",
              "    </tr>\n",
              "    <tr>\n",
              "      <th>6732</th>\n",
              "      <td>0</td>\n",
              "      <td>3.332205</td>\n",
              "      <td>2</td>\n",
              "      <td>2</td>\n",
              "      <td>0</td>\n",
              "      <td>5</td>\n",
              "      <td>1</td>\n",
              "      <td>7</td>\n",
              "      <td>1.609438</td>\n",
              "      <td>7</td>\n",
              "      <td>2.197225</td>\n",
              "      <td>2.833213</td>\n",
              "      <td>0</td>\n",
              "      <td>3</td>\n",
              "      <td>4</td>\n",
              "      <td>0</td>\n",
              "      <td>1</td>\n",
              "      <td>2.397895</td>\n",
              "      <td>0</td>\n",
              "      <td>4.227272</td>\n",
              "    </tr>\n",
              "    <tr>\n",
              "      <th>5769</th>\n",
              "      <td>0</td>\n",
              "      <td>3.526361</td>\n",
              "      <td>1</td>\n",
              "      <td>3</td>\n",
              "      <td>0</td>\n",
              "      <td>4</td>\n",
              "      <td>0</td>\n",
              "      <td>9</td>\n",
              "      <td>2.397895</td>\n",
              "      <td>1</td>\n",
              "      <td>3.332205</td>\n",
              "      <td>3.610918</td>\n",
              "      <td>0</td>\n",
              "      <td>4</td>\n",
              "      <td>5</td>\n",
              "      <td>0</td>\n",
              "      <td>3</td>\n",
              "      <td>2.833213</td>\n",
              "      <td>0</td>\n",
              "      <td>4.512177</td>\n",
              "    </tr>\n",
              "    <tr>\n",
              "      <th>7992</th>\n",
              "      <td>0</td>\n",
              "      <td>3.178054</td>\n",
              "      <td>0</td>\n",
              "      <td>5</td>\n",
              "      <td>1</td>\n",
              "      <td>4</td>\n",
              "      <td>0</td>\n",
              "      <td>8</td>\n",
              "      <td>0.000000</td>\n",
              "      <td>11</td>\n",
              "      <td>2.397895</td>\n",
              "      <td>2.944439</td>\n",
              "      <td>0</td>\n",
              "      <td>4</td>\n",
              "      <td>7</td>\n",
              "      <td>2</td>\n",
              "      <td>2</td>\n",
              "      <td>2.833213</td>\n",
              "      <td>4</td>\n",
              "      <td>4.453067</td>\n",
              "    </tr>\n",
              "    <tr>\n",
              "      <th>1791</th>\n",
              "      <td>1</td>\n",
              "      <td>3.555348</td>\n",
              "      <td>1</td>\n",
              "      <td>4</td>\n",
              "      <td>2</td>\n",
              "      <td>1</td>\n",
              "      <td>1</td>\n",
              "      <td>7</td>\n",
              "      <td>2.484907</td>\n",
              "      <td>0</td>\n",
              "      <td>3.178054</td>\n",
              "      <td>3.433987</td>\n",
              "      <td>1</td>\n",
              "      <td>3</td>\n",
              "      <td>5</td>\n",
              "      <td>2</td>\n",
              "      <td>0</td>\n",
              "      <td>2.833213</td>\n",
              "      <td>8</td>\n",
              "      <td>4.423408</td>\n",
              "    </tr>\n",
              "  </tbody>\n",
              "</table>\n",
              "</div>"
            ],
            "text/plain": [
              "       LanguageOfCommunication       Age  ...  BiasInfluentialFactor  FitmentPercent\n",
              "11805                        0  3.496508  ...                      1        4.461992\n",
              "6732                         0  3.332205  ...                      0        4.227272\n",
              "5769                         0  3.526361  ...                      0        4.512177\n",
              "7992                         0  3.178054  ...                      4        4.453067\n",
              "1791                         1  3.555348  ...                      8        4.423408\n",
              "\n",
              "[5 rows x 20 columns]"
            ]
          },
          "metadata": {
            "tags": []
          },
          "execution_count": 94
        }
      ]
    },
    {
      "cell_type": "code",
      "metadata": {
        "id": "6-_xAKsFj1BG"
      },
      "source": [
        "X = data.drop('FitmentPercent', axis = 1).values\n",
        "Y = data['FitmentPercent'].values"
      ],
      "execution_count": null,
      "outputs": []
    },
    {
      "cell_type": "code",
      "metadata": {
        "colab": {
          "base_uri": "https://localhost:8080/"
        },
        "id": "PzNIW78n3vpH",
        "outputId": "7339bcb4-299f-41ba-c303-6c56d7729978"
      },
      "source": [
        "X.shape"
      ],
      "execution_count": null,
      "outputs": [
        {
          "output_type": "execute_result",
          "data": {
            "text/plain": [
              "(13645, 19)"
            ]
          },
          "metadata": {
            "tags": []
          },
          "execution_count": 96
        }
      ]
    },
    {
      "cell_type": "code",
      "metadata": {
        "colab": {
          "base_uri": "https://localhost:8080/"
        },
        "id": "T-2U17Cz3y9o",
        "outputId": "82cc3a86-1da8-48da-e921-479e93713fd7"
      },
      "source": [
        "Y.shape"
      ],
      "execution_count": null,
      "outputs": [
        {
          "output_type": "execute_result",
          "data": {
            "text/plain": [
              "(13645,)"
            ]
          },
          "metadata": {
            "tags": []
          },
          "execution_count": 97
        }
      ]
    },
    {
      "cell_type": "code",
      "metadata": {
        "id": "ILmpia-fsMDl"
      },
      "source": [
        "X_train, X_test, Y_train, Y_test = train_test_split (X, Y, test_size = 0.10, random_state=42)"
      ],
      "execution_count": null,
      "outputs": []
    },
    {
      "cell_type": "code",
      "metadata": {
        "id": "pw8WYAMz53aP"
      },
      "source": [
        ""
      ],
      "execution_count": null,
      "outputs": []
    },
    {
      "cell_type": "code",
      "metadata": {
        "colab": {
          "base_uri": "https://localhost:8080/"
        },
        "id": "K-YnpDKx31c0",
        "outputId": "96d37723-984a-4917-dde2-3984259e2c67"
      },
      "source": [
        "X_train.shape"
      ],
      "execution_count": null,
      "outputs": [
        {
          "output_type": "execute_result",
          "data": {
            "text/plain": [
              "(12280, 19)"
            ]
          },
          "metadata": {
            "tags": []
          },
          "execution_count": 99
        }
      ]
    },
    {
      "cell_type": "code",
      "metadata": {
        "colab": {
          "base_uri": "https://localhost:8080/"
        },
        "id": "Sojhr7_U4bCK",
        "outputId": "4a45f6b5-984b-4b4a-ab63-3970ae7ccc1b"
      },
      "source": [
        "X_train"
      ],
      "execution_count": null,
      "outputs": [
        {
          "output_type": "execute_result",
          "data": {
            "text/plain": [
              "array([[1.        , 3.36729583, 1.        , ..., 0.        , 2.48490665,\n",
              "        0.        ],\n",
              "       [0.        , 3.58351894, 1.        , ..., 2.        , 2.19722458,\n",
              "        8.        ],\n",
              "       [2.        , 3.36729583, 0.        , ..., 2.        , 1.79175947,\n",
              "        4.        ],\n",
              "       ...,\n",
              "       [0.        , 3.55534806, 1.        , ..., 1.        , 2.94443898,\n",
              "        0.        ],\n",
              "       [0.        , 3.52636052, 1.        , ..., 2.        , 1.79175947,\n",
              "        8.        ],\n",
              "       [1.        , 3.55534806, 0.        , ..., 4.        , 2.07944154,\n",
              "        8.        ]])"
            ]
          },
          "metadata": {
            "tags": []
          },
          "execution_count": 100
        }
      ]
    },
    {
      "cell_type": "code",
      "metadata": {
        "colab": {
          "base_uri": "https://localhost:8080/"
        },
        "id": "OWOig48s5XXV",
        "outputId": "d4ad6909-9ab1-4069-ee15-ce03c147d519"
      },
      "source": [
        "Y_train"
      ],
      "execution_count": null,
      "outputs": [
        {
          "output_type": "execute_result",
          "data": {
            "text/plain": [
              "array([4.22785512, 4.30838009, 4.5236347 , ..., 4.13548651, 4.50225113,\n",
              "       4.35169628])"
            ]
          },
          "metadata": {
            "tags": []
          },
          "execution_count": 101
        }
      ]
    },
    {
      "cell_type": "code",
      "metadata": {
        "id": "0MToAYa9sMAT"
      },
      "source": [
        "from sklearn.linear_model import LinearRegression\n",
        "from sklearn.linear_model import Lasso\n",
        "from sklearn.linear_model import ElasticNet\n",
        "from sklearn.tree import DecisionTreeRegressor\n",
        "from sklearn.neighbors import KNeighborsRegressor\n",
        "from sklearn.ensemble import GradientBoostingRegressor"
      ],
      "execution_count": null,
      "outputs": []
    },
    {
      "cell_type": "code",
      "metadata": {
        "colab": {
          "base_uri": "https://localhost:8080/"
        },
        "id": "173aAMJEsL9N",
        "outputId": "c8714ae7-165f-447d-cec1-7c17eae2b59e"
      },
      "source": [
        "pipelines = []\n",
        "pipelines.append(('ScaledLR', Pipeline([('Scaler', StandardScaler()),('LR',LinearRegression())])))\n",
        "pipelines.append(('ScaledLASSO', Pipeline([('Scaler', StandardScaler()),('LASSO', Lasso())])))\n",
        "pipelines.append(('ScaledEN', Pipeline([('Scaler', StandardScaler()),('EN', ElasticNet())])))\n",
        "pipelines.append(('ScaledKNN', Pipeline([('Scaler', StandardScaler()),('KNN', KNeighborsRegressor())])))\n",
        "pipelines.append(('ScaledCART', Pipeline([('Scaler', StandardScaler()),('CART', DecisionTreeRegressor())])))\n",
        "pipelines.append(('ScaledGBM', Pipeline([('Scaler', StandardScaler()),('GBM', GradientBoostingRegressor())])))\n",
        "\n",
        "results = []\n",
        "names = []\n",
        "for name, model in pipelines:\n",
        "  kfold = KFold(n_splits=5, random_state=21)\n",
        "  cv_results = cross_val_score(model, X_train, Y_train, cv=kfold, scoring='neg_mean_squared_error')\n",
        "  results.append(cv_results)\n",
        "  names.append(name)\n",
        "  msg = \"%s: %f (%f)\" % (name, cv_results.mean(), cv_results.std())\n",
        "  print(msg)\n"
      ],
      "execution_count": null,
      "outputs": [
        {
          "output_type": "stream",
          "text": [
            "ScaledLR: -0.038068 (0.001163)\n",
            "ScaledLASSO: -0.053238 (0.001464)\n",
            "ScaledEN: -0.053238 (0.001464)\n",
            "ScaledKNN: -0.035272 (0.001264)\n",
            "ScaledCART: -0.039640 (0.001413)\n",
            "ScaledGBM: -0.021207 (0.000661)\n"
          ],
          "name": "stdout"
        }
      ]
    },
    {
      "cell_type": "code",
      "metadata": {
        "colab": {
          "base_uri": "https://localhost:8080/"
        },
        "id": "ibl35Ljy7JIP",
        "outputId": "3421bf32-e00d-47bb-855b-e86af631c9c7"
      },
      "source": [
        "X_train.shape"
      ],
      "execution_count": null,
      "outputs": [
        {
          "output_type": "execute_result",
          "data": {
            "text/plain": [
              "(12280, 19)"
            ]
          },
          "metadata": {
            "tags": []
          },
          "execution_count": 111
        }
      ]
    },
    {
      "cell_type": "code",
      "metadata": {
        "colab": {
          "base_uri": "https://localhost:8080/"
        },
        "id": "bmJhpGXC7LBL",
        "outputId": "4922e243-d719-4126-e262-3622e715a35d"
      },
      "source": [
        "X_train"
      ],
      "execution_count": null,
      "outputs": [
        {
          "output_type": "execute_result",
          "data": {
            "text/plain": [
              "array([[1.        , 3.36729583, 1.        , ..., 0.        , 2.48490665,\n",
              "        0.        ],\n",
              "       [0.        , 3.58351894, 1.        , ..., 2.        , 2.19722458,\n",
              "        8.        ],\n",
              "       [2.        , 3.36729583, 0.        , ..., 2.        , 1.79175947,\n",
              "        4.        ],\n",
              "       ...,\n",
              "       [0.        , 3.55534806, 1.        , ..., 1.        , 2.94443898,\n",
              "        0.        ],\n",
              "       [0.        , 3.52636052, 1.        , ..., 2.        , 1.79175947,\n",
              "        8.        ],\n",
              "       [1.        , 3.55534806, 0.        , ..., 4.        , 2.07944154,\n",
              "        8.        ]])"
            ]
          },
          "metadata": {
            "tags": []
          },
          "execution_count": 112
        }
      ]
    },
    {
      "cell_type": "markdown",
      "metadata": {
        "id": "XdspNrfrU3II"
      },
      "source": [
        "As GBM out performed all other methods, I went ahead with it"
      ]
    },
    {
      "cell_type": "code",
      "metadata": {
        "colab": {
          "base_uri": "https://localhost:8080/"
        },
        "id": "Z7eZZQHSsL6G",
        "outputId": "68f5a8fe-beda-456e-a6ed-653ebee1e7fe"
      },
      "source": [
        "from sklearn.model_selection import GridSearchCV\n",
        "\n",
        "scaler = StandardScaler().fit(X_train)\n",
        "rescaledX = scaler.transform(X_train)\n",
        "param_grid = dict(n_estimators=np.array([50,100,200,300,400]))\n",
        "model = GradientBoostingRegressor(random_state=21)\n",
        "kfold = KFold(n_splits=10, random_state=21)\n",
        "grid = GridSearchCV(estimator=model, param_grid=param_grid, scoring='neg_mean_squared_error', cv=kfold)\n",
        "grid_result = grid.fit(rescaledX, Y_train)\n",
        "\n",
        "means = grid_result.cv_results_['mean_test_score']\n",
        "stds = grid_result.cv_results_['std_test_score']\n",
        "params = grid_result.cv_results_['params']\n",
        "for mean, stdev, param in zip(means, stds, params):\n",
        "    print(\"%f (%f) with: %r\" % (mean, stdev, param))\n",
        "\n",
        "print(\"Best: %f using %s\" % (grid_result.best_score_, grid_result.best_params_))"
      ],
      "execution_count": null,
      "outputs": [
        {
          "output_type": "stream",
          "text": [
            "-0.021739 (0.000820) with: {'n_estimators': 50}\n",
            "-0.021144 (0.000838) with: {'n_estimators': 100}\n",
            "-0.021052 (0.000896) with: {'n_estimators': 200}\n",
            "-0.021006 (0.000871) with: {'n_estimators': 300}\n",
            "-0.020988 (0.000893) with: {'n_estimators': 400}\n",
            "Best: -0.020988 using {'n_estimators': 400}\n"
          ],
          "name": "stdout"
        }
      ]
    },
    {
      "cell_type": "code",
      "metadata": {
        "colab": {
          "base_uri": "https://localhost:8080/"
        },
        "id": "LktlC3KlsL3D",
        "outputId": "1ab9026b-0da5-4644-bd96-ca554043f212"
      },
      "source": [
        "from sklearn.metrics import mean_squared_error\n",
        "\n",
        "scaler = StandardScaler().fit(X_train)\n",
        "rescaled_X_train = scaler.transform(X_train)\n",
        "model = GradientBoostingRegressor(random_state=21, n_estimators=300)\n",
        "model.fit(rescaled_X_train, Y_train)\n",
        "\n",
        "# transform the validation dataset\n",
        "rescaled_X_test = scaler.transform(X_test)\n",
        "predictions = model.predict(rescaled_X_test)\n",
        "print (mean_squared_error(Y_test, predictions))"
      ],
      "execution_count": null,
      "outputs": [
        {
          "output_type": "stream",
          "text": [
            "0.019529281099317366\n"
          ],
          "name": "stdout"
        }
      ]
    },
    {
      "cell_type": "code",
      "metadata": {
        "colab": {
          "base_uri": "https://localhost:8080/",
          "height": 335
        },
        "id": "xR2VAqeUsLz6",
        "outputId": "bd92746b-0088-47c5-9b20-8f4dc8b55ef4"
      },
      "source": [
        "compare = pd.DataFrame({'Prediction': np.exp(predictions), 'Test Data' : np.exp(Y_test)})\n",
        "compare.head(10)"
      ],
      "execution_count": null,
      "outputs": [
        {
          "output_type": "execute_result",
          "data": {
            "text/html": [
              "<div>\n",
              "<style scoped>\n",
              "    .dataframe tbody tr th:only-of-type {\n",
              "        vertical-align: middle;\n",
              "    }\n",
              "\n",
              "    .dataframe tbody tr th {\n",
              "        vertical-align: top;\n",
              "    }\n",
              "\n",
              "    .dataframe thead th {\n",
              "        text-align: right;\n",
              "    }\n",
              "</style>\n",
              "<table border=\"1\" class=\"dataframe\">\n",
              "  <thead>\n",
              "    <tr style=\"text-align: right;\">\n",
              "      <th></th>\n",
              "      <th>Prediction</th>\n",
              "      <th>Test Data</th>\n",
              "    </tr>\n",
              "  </thead>\n",
              "  <tbody>\n",
              "    <tr>\n",
              "      <th>0</th>\n",
              "      <td>69.337982</td>\n",
              "      <td>69.52</td>\n",
              "    </tr>\n",
              "    <tr>\n",
              "      <th>1</th>\n",
              "      <td>80.697418</td>\n",
              "      <td>93.38</td>\n",
              "    </tr>\n",
              "    <tr>\n",
              "      <th>2</th>\n",
              "      <td>82.014434</td>\n",
              "      <td>84.05</td>\n",
              "    </tr>\n",
              "    <tr>\n",
              "      <th>3</th>\n",
              "      <td>80.172821</td>\n",
              "      <td>88.16</td>\n",
              "    </tr>\n",
              "    <tr>\n",
              "      <th>4</th>\n",
              "      <td>78.545235</td>\n",
              "      <td>87.37</td>\n",
              "    </tr>\n",
              "    <tr>\n",
              "      <th>5</th>\n",
              "      <td>80.100663</td>\n",
              "      <td>95.14</td>\n",
              "    </tr>\n",
              "    <tr>\n",
              "      <th>6</th>\n",
              "      <td>80.660816</td>\n",
              "      <td>88.25</td>\n",
              "    </tr>\n",
              "    <tr>\n",
              "      <th>7</th>\n",
              "      <td>82.127080</td>\n",
              "      <td>72.36</td>\n",
              "    </tr>\n",
              "    <tr>\n",
              "      <th>8</th>\n",
              "      <td>80.928010</td>\n",
              "      <td>79.82</td>\n",
              "    </tr>\n",
              "    <tr>\n",
              "      <th>9</th>\n",
              "      <td>80.975257</td>\n",
              "      <td>83.47</td>\n",
              "    </tr>\n",
              "  </tbody>\n",
              "</table>\n",
              "</div>"
            ],
            "text/plain": [
              "   Prediction  Test Data\n",
              "0   69.337982      69.52\n",
              "1   80.697418      93.38\n",
              "2   82.014434      84.05\n",
              "3   80.172821      88.16\n",
              "4   78.545235      87.37\n",
              "5   80.100663      95.14\n",
              "6   80.660816      88.25\n",
              "7   82.127080      72.36\n",
              "8   80.928010      79.82\n",
              "9   80.975257      83.47"
            ]
          },
          "metadata": {
            "tags": []
          },
          "execution_count": 115
        }
      ]
    },
    {
      "cell_type": "code",
      "metadata": {
        "colab": {
          "base_uri": "https://localhost:8080/"
        },
        "id": "CGqgloLjBEMc",
        "outputId": "7a2a1724-1741-4983-d74e-dbfe8eef3dbb"
      },
      "source": [
        "from sklearn.metrics import mean_absolute_error\n",
        "mean_absolute_error(np.exp(Y_test), np.exp(predictions))\n"
      ],
      "execution_count": null,
      "outputs": [
        {
          "output_type": "execute_result",
          "data": {
            "text/plain": [
              "7.466170984829276"
            ]
          },
          "metadata": {
            "tags": []
          },
          "execution_count": 116
        }
      ]
    },
    {
      "cell_type": "code",
      "metadata": {
        "id": "BE8BMJhxsLqq",
        "colab": {
          "base_uri": "https://localhost:8080/",
          "height": 211
        },
        "outputId": "5d5fdf5c-df06-4619-8f19-ce00afbd21c4"
      },
      "source": [
        "test_to_submit.head()"
      ],
      "execution_count": null,
      "outputs": [
        {
          "output_type": "execute_result",
          "data": {
            "text/html": [
              "<div>\n",
              "<style scoped>\n",
              "    .dataframe tbody tr th:only-of-type {\n",
              "        vertical-align: middle;\n",
              "    }\n",
              "\n",
              "    .dataframe tbody tr th {\n",
              "        vertical-align: top;\n",
              "    }\n",
              "\n",
              "    .dataframe thead th {\n",
              "        text-align: right;\n",
              "    }\n",
              "</style>\n",
              "<table border=\"1\" class=\"dataframe\">\n",
              "  <thead>\n",
              "    <tr style=\"text-align: right;\">\n",
              "      <th></th>\n",
              "      <th>LanguageOfCommunication</th>\n",
              "      <th>Age</th>\n",
              "      <th>Gender</th>\n",
              "      <th>JobProfileIDApplyingFor</th>\n",
              "      <th>HighestDegree</th>\n",
              "      <th>DegreeBranch</th>\n",
              "      <th>GraduatingInstitute</th>\n",
              "      <th>LatestDegreeCGPA</th>\n",
              "      <th>YearsOfExperince</th>\n",
              "      <th>GraduationYear</th>\n",
              "      <th>CurrentCTC</th>\n",
              "      <th>ExpectedCTC</th>\n",
              "      <th>MartialStatus</th>\n",
              "      <th>EmpScore</th>\n",
              "      <th>CurrentDesignation</th>\n",
              "      <th>CurrentCompanyType</th>\n",
              "      <th>DepartmentInCompany</th>\n",
              "      <th>TotalLeavesTaken</th>\n",
              "    </tr>\n",
              "  </thead>\n",
              "  <tbody>\n",
              "    <tr>\n",
              "      <th>0</th>\n",
              "      <td>2</td>\n",
              "      <td>3.555348</td>\n",
              "      <td>1</td>\n",
              "      <td>3</td>\n",
              "      <td>7</td>\n",
              "      <td>5</td>\n",
              "      <td>1</td>\n",
              "      <td>5</td>\n",
              "      <td>1.609438</td>\n",
              "      <td>7</td>\n",
              "      <td>3.295837</td>\n",
              "      <td>3.526361</td>\n",
              "      <td>1</td>\n",
              "      <td>4</td>\n",
              "      <td>5</td>\n",
              "      <td>0</td>\n",
              "      <td>3</td>\n",
              "      <td>2.890372</td>\n",
              "    </tr>\n",
              "    <tr>\n",
              "      <th>1</th>\n",
              "      <td>0</td>\n",
              "      <td>3.555348</td>\n",
              "      <td>1</td>\n",
              "      <td>3</td>\n",
              "      <td>0</td>\n",
              "      <td>5</td>\n",
              "      <td>2</td>\n",
              "      <td>9</td>\n",
              "      <td>2.484907</td>\n",
              "      <td>0</td>\n",
              "      <td>3.367296</td>\n",
              "      <td>3.496508</td>\n",
              "      <td>0</td>\n",
              "      <td>4</td>\n",
              "      <td>4</td>\n",
              "      <td>0</td>\n",
              "      <td>2</td>\n",
              "      <td>2.079442</td>\n",
              "    </tr>\n",
              "    <tr>\n",
              "      <th>2</th>\n",
              "      <td>0</td>\n",
              "      <td>3.332205</td>\n",
              "      <td>1</td>\n",
              "      <td>4</td>\n",
              "      <td>4</td>\n",
              "      <td>0</td>\n",
              "      <td>1</td>\n",
              "      <td>9</td>\n",
              "      <td>0.693147</td>\n",
              "      <td>10</td>\n",
              "      <td>2.890372</td>\n",
              "      <td>3.218876</td>\n",
              "      <td>0</td>\n",
              "      <td>3</td>\n",
              "      <td>5</td>\n",
              "      <td>2</td>\n",
              "      <td>2</td>\n",
              "      <td>2.890372</td>\n",
              "    </tr>\n",
              "    <tr>\n",
              "      <th>3</th>\n",
              "      <td>1</td>\n",
              "      <td>3.610918</td>\n",
              "      <td>1</td>\n",
              "      <td>4</td>\n",
              "      <td>6</td>\n",
              "      <td>1</td>\n",
              "      <td>1</td>\n",
              "      <td>8</td>\n",
              "      <td>2.397895</td>\n",
              "      <td>1</td>\n",
              "      <td>1.945910</td>\n",
              "      <td>2.484907</td>\n",
              "      <td>1</td>\n",
              "      <td>5</td>\n",
              "      <td>3</td>\n",
              "      <td>0</td>\n",
              "      <td>4</td>\n",
              "      <td>2.833213</td>\n",
              "    </tr>\n",
              "    <tr>\n",
              "      <th>4</th>\n",
              "      <td>1</td>\n",
              "      <td>3.583519</td>\n",
              "      <td>0</td>\n",
              "      <td>3</td>\n",
              "      <td>7</td>\n",
              "      <td>0</td>\n",
              "      <td>1</td>\n",
              "      <td>7</td>\n",
              "      <td>1.791759</td>\n",
              "      <td>6</td>\n",
              "      <td>3.091042</td>\n",
              "      <td>3.465736</td>\n",
              "      <td>0</td>\n",
              "      <td>4</td>\n",
              "      <td>5</td>\n",
              "      <td>2</td>\n",
              "      <td>2</td>\n",
              "      <td>2.197225</td>\n",
              "    </tr>\n",
              "  </tbody>\n",
              "</table>\n",
              "</div>"
            ],
            "text/plain": [
              "   LanguageOfCommunication       Age  ...  DepartmentInCompany  TotalLeavesTaken\n",
              "0                        2  3.555348  ...                    3          2.890372\n",
              "1                        0  3.555348  ...                    2          2.079442\n",
              "2                        0  3.332205  ...                    2          2.890372\n",
              "3                        1  3.610918  ...                    4          2.833213\n",
              "4                        1  3.583519  ...                    2          2.197225\n",
              "\n",
              "[5 rows x 18 columns]"
            ]
          },
          "metadata": {
            "tags": []
          },
          "execution_count": 118
        }
      ]
    },
    {
      "cell_type": "code",
      "metadata": {
        "id": "Ug0ZgCf8Zv0r"
      },
      "source": [
        "import pandas as pd\n",
        "train_df = pd.read_csv(\"/content/Train.csv\")\n",
        "train_df = train_df.loc[train_df.BiasInfluentialFactor.notnull()]\n",
        "le = LabelEncoder()\n",
        "train_df[\"BiasInfluentialFactor\"] = le.fit_transform(train_df[[\"BiasInfluentialFactor\"]])"
      ],
      "execution_count": null,
      "outputs": []
    },
    {
      "cell_type": "code",
      "metadata": {
        "id": "769xbaPwsLmp"
      },
      "source": [
        "test_to_submit['BiasInfluentialFactor'] = le.transform(sub['BiasInfluentialFactor'])"
      ],
      "execution_count": null,
      "outputs": []
    },
    {
      "cell_type": "code",
      "metadata": {
        "colab": {
          "base_uri": "https://localhost:8080/",
          "height": 411
        },
        "id": "RGhI4bfxZk8u",
        "outputId": "4927b7c2-3afb-4ebd-d91e-17ff0cdd69d6"
      },
      "source": [
        "test_to_submit"
      ],
      "execution_count": null,
      "outputs": [
        {
          "output_type": "execute_result",
          "data": {
            "text/html": [
              "<div>\n",
              "<style scoped>\n",
              "    .dataframe tbody tr th:only-of-type {\n",
              "        vertical-align: middle;\n",
              "    }\n",
              "\n",
              "    .dataframe tbody tr th {\n",
              "        vertical-align: top;\n",
              "    }\n",
              "\n",
              "    .dataframe thead th {\n",
              "        text-align: right;\n",
              "    }\n",
              "</style>\n",
              "<table border=\"1\" class=\"dataframe\">\n",
              "  <thead>\n",
              "    <tr style=\"text-align: right;\">\n",
              "      <th></th>\n",
              "      <th>LanguageOfCommunication</th>\n",
              "      <th>Age</th>\n",
              "      <th>Gender</th>\n",
              "      <th>JobProfileIDApplyingFor</th>\n",
              "      <th>HighestDegree</th>\n",
              "      <th>DegreeBranch</th>\n",
              "      <th>GraduatingInstitute</th>\n",
              "      <th>LatestDegreeCGPA</th>\n",
              "      <th>YearsOfExperince</th>\n",
              "      <th>GraduationYear</th>\n",
              "      <th>CurrentCTC</th>\n",
              "      <th>ExpectedCTC</th>\n",
              "      <th>MartialStatus</th>\n",
              "      <th>EmpScore</th>\n",
              "      <th>CurrentDesignation</th>\n",
              "      <th>CurrentCompanyType</th>\n",
              "      <th>DepartmentInCompany</th>\n",
              "      <th>TotalLeavesTaken</th>\n",
              "      <th>BiasInfluentialFactor</th>\n",
              "    </tr>\n",
              "  </thead>\n",
              "  <tbody>\n",
              "    <tr>\n",
              "      <th>0</th>\n",
              "      <td>2</td>\n",
              "      <td>3.555348</td>\n",
              "      <td>1</td>\n",
              "      <td>3</td>\n",
              "      <td>7</td>\n",
              "      <td>5</td>\n",
              "      <td>1</td>\n",
              "      <td>5</td>\n",
              "      <td>1.609438</td>\n",
              "      <td>7</td>\n",
              "      <td>3.295837</td>\n",
              "      <td>3.526361</td>\n",
              "      <td>1</td>\n",
              "      <td>4</td>\n",
              "      <td>5</td>\n",
              "      <td>0</td>\n",
              "      <td>3</td>\n",
              "      <td>2.890372</td>\n",
              "      <td>1</td>\n",
              "    </tr>\n",
              "    <tr>\n",
              "      <th>1</th>\n",
              "      <td>0</td>\n",
              "      <td>3.555348</td>\n",
              "      <td>1</td>\n",
              "      <td>3</td>\n",
              "      <td>0</td>\n",
              "      <td>5</td>\n",
              "      <td>2</td>\n",
              "      <td>9</td>\n",
              "      <td>2.484907</td>\n",
              "      <td>0</td>\n",
              "      <td>3.367296</td>\n",
              "      <td>3.496508</td>\n",
              "      <td>0</td>\n",
              "      <td>4</td>\n",
              "      <td>4</td>\n",
              "      <td>0</td>\n",
              "      <td>2</td>\n",
              "      <td>2.079442</td>\n",
              "      <td>1</td>\n",
              "    </tr>\n",
              "    <tr>\n",
              "      <th>2</th>\n",
              "      <td>0</td>\n",
              "      <td>3.332205</td>\n",
              "      <td>1</td>\n",
              "      <td>4</td>\n",
              "      <td>4</td>\n",
              "      <td>0</td>\n",
              "      <td>1</td>\n",
              "      <td>9</td>\n",
              "      <td>0.693147</td>\n",
              "      <td>10</td>\n",
              "      <td>2.890372</td>\n",
              "      <td>3.218876</td>\n",
              "      <td>0</td>\n",
              "      <td>3</td>\n",
              "      <td>5</td>\n",
              "      <td>2</td>\n",
              "      <td>2</td>\n",
              "      <td>2.890372</td>\n",
              "      <td>7</td>\n",
              "    </tr>\n",
              "    <tr>\n",
              "      <th>3</th>\n",
              "      <td>1</td>\n",
              "      <td>3.610918</td>\n",
              "      <td>1</td>\n",
              "      <td>4</td>\n",
              "      <td>6</td>\n",
              "      <td>1</td>\n",
              "      <td>1</td>\n",
              "      <td>8</td>\n",
              "      <td>2.397895</td>\n",
              "      <td>1</td>\n",
              "      <td>1.945910</td>\n",
              "      <td>2.484907</td>\n",
              "      <td>1</td>\n",
              "      <td>5</td>\n",
              "      <td>3</td>\n",
              "      <td>0</td>\n",
              "      <td>4</td>\n",
              "      <td>2.833213</td>\n",
              "      <td>0</td>\n",
              "    </tr>\n",
              "    <tr>\n",
              "      <th>4</th>\n",
              "      <td>1</td>\n",
              "      <td>3.583519</td>\n",
              "      <td>0</td>\n",
              "      <td>3</td>\n",
              "      <td>7</td>\n",
              "      <td>0</td>\n",
              "      <td>1</td>\n",
              "      <td>7</td>\n",
              "      <td>1.791759</td>\n",
              "      <td>6</td>\n",
              "      <td>3.091042</td>\n",
              "      <td>3.465736</td>\n",
              "      <td>0</td>\n",
              "      <td>4</td>\n",
              "      <td>5</td>\n",
              "      <td>2</td>\n",
              "      <td>2</td>\n",
              "      <td>2.197225</td>\n",
              "      <td>4</td>\n",
              "    </tr>\n",
              "    <tr>\n",
              "      <th>...</th>\n",
              "      <td>...</td>\n",
              "      <td>...</td>\n",
              "      <td>...</td>\n",
              "      <td>...</td>\n",
              "      <td>...</td>\n",
              "      <td>...</td>\n",
              "      <td>...</td>\n",
              "      <td>...</td>\n",
              "      <td>...</td>\n",
              "      <td>...</td>\n",
              "      <td>...</td>\n",
              "      <td>...</td>\n",
              "      <td>...</td>\n",
              "      <td>...</td>\n",
              "      <td>...</td>\n",
              "      <td>...</td>\n",
              "      <td>...</td>\n",
              "      <td>...</td>\n",
              "      <td>...</td>\n",
              "    </tr>\n",
              "    <tr>\n",
              "      <th>8740</th>\n",
              "      <td>0</td>\n",
              "      <td>3.258097</td>\n",
              "      <td>0</td>\n",
              "      <td>3</td>\n",
              "      <td>0</td>\n",
              "      <td>1</td>\n",
              "      <td>0</td>\n",
              "      <td>10</td>\n",
              "      <td>1.098612</td>\n",
              "      <td>9</td>\n",
              "      <td>3.367296</td>\n",
              "      <td>3.637586</td>\n",
              "      <td>0</td>\n",
              "      <td>5</td>\n",
              "      <td>5</td>\n",
              "      <td>2</td>\n",
              "      <td>1</td>\n",
              "      <td>2.302585</td>\n",
              "      <td>4</td>\n",
              "    </tr>\n",
              "    <tr>\n",
              "      <th>8741</th>\n",
              "      <td>1</td>\n",
              "      <td>3.295837</td>\n",
              "      <td>1</td>\n",
              "      <td>3</td>\n",
              "      <td>6</td>\n",
              "      <td>2</td>\n",
              "      <td>0</td>\n",
              "      <td>10</td>\n",
              "      <td>0.000000</td>\n",
              "      <td>11</td>\n",
              "      <td>2.890372</td>\n",
              "      <td>3.258097</td>\n",
              "      <td>0</td>\n",
              "      <td>4</td>\n",
              "      <td>0</td>\n",
              "      <td>2</td>\n",
              "      <td>1</td>\n",
              "      <td>2.944439</td>\n",
              "      <td>5</td>\n",
              "    </tr>\n",
              "    <tr>\n",
              "      <th>8742</th>\n",
              "      <td>0</td>\n",
              "      <td>3.295837</td>\n",
              "      <td>1</td>\n",
              "      <td>3</td>\n",
              "      <td>0</td>\n",
              "      <td>1</td>\n",
              "      <td>1</td>\n",
              "      <td>7</td>\n",
              "      <td>1.386294</td>\n",
              "      <td>8</td>\n",
              "      <td>1.945910</td>\n",
              "      <td>2.833213</td>\n",
              "      <td>0</td>\n",
              "      <td>4</td>\n",
              "      <td>5</td>\n",
              "      <td>2</td>\n",
              "      <td>2</td>\n",
              "      <td>2.484907</td>\n",
              "      <td>1</td>\n",
              "    </tr>\n",
              "    <tr>\n",
              "      <th>8743</th>\n",
              "      <td>0</td>\n",
              "      <td>3.496508</td>\n",
              "      <td>1</td>\n",
              "      <td>1</td>\n",
              "      <td>6</td>\n",
              "      <td>3</td>\n",
              "      <td>0</td>\n",
              "      <td>7</td>\n",
              "      <td>1.945910</td>\n",
              "      <td>5</td>\n",
              "      <td>2.079442</td>\n",
              "      <td>2.890372</td>\n",
              "      <td>0</td>\n",
              "      <td>4</td>\n",
              "      <td>7</td>\n",
              "      <td>0</td>\n",
              "      <td>1</td>\n",
              "      <td>2.302585</td>\n",
              "      <td>0</td>\n",
              "    </tr>\n",
              "    <tr>\n",
              "      <th>8744</th>\n",
              "      <td>2</td>\n",
              "      <td>3.258097</td>\n",
              "      <td>2</td>\n",
              "      <td>8</td>\n",
              "      <td>2</td>\n",
              "      <td>5</td>\n",
              "      <td>1</td>\n",
              "      <td>9</td>\n",
              "      <td>1.098612</td>\n",
              "      <td>9</td>\n",
              "      <td>3.367296</td>\n",
              "      <td>3.526361</td>\n",
              "      <td>1</td>\n",
              "      <td>3</td>\n",
              "      <td>5</td>\n",
              "      <td>2</td>\n",
              "      <td>2</td>\n",
              "      <td>2.302585</td>\n",
              "      <td>6</td>\n",
              "    </tr>\n",
              "  </tbody>\n",
              "</table>\n",
              "<p>8745 rows × 19 columns</p>\n",
              "</div>"
            ],
            "text/plain": [
              "      LanguageOfCommunication  ...  BiasInfluentialFactor\n",
              "0                           2  ...                      1\n",
              "1                           0  ...                      1\n",
              "2                           0  ...                      7\n",
              "3                           1  ...                      0\n",
              "4                           1  ...                      4\n",
              "...                       ...  ...                    ...\n",
              "8740                        0  ...                      4\n",
              "8741                        1  ...                      5\n",
              "8742                        0  ...                      1\n",
              "8743                        0  ...                      0\n",
              "8744                        2  ...                      6\n",
              "\n",
              "[8745 rows x 19 columns]"
            ]
          },
          "metadata": {
            "tags": []
          },
          "execution_count": 123
        }
      ]
    },
    {
      "cell_type": "code",
      "metadata": {
        "id": "lG7T7EnKsLjK"
      },
      "source": [
        "preds_r = model.predict(test_to_submit)"
      ],
      "execution_count": null,
      "outputs": []
    },
    {
      "cell_type": "code",
      "metadata": {
        "id": "qZLLf-dNsLde"
      },
      "source": [
        "sub['FitmentPercent'] = np.exp(preds_r)"
      ],
      "execution_count": null,
      "outputs": []
    },
    {
      "cell_type": "code",
      "metadata": {
        "id": "V3dN6JVGsLZE"
      },
      "source": [
        "np.exp(preds_r)"
      ],
      "execution_count": null,
      "outputs": []
    },
    {
      "cell_type": "code",
      "metadata": {
        "id": "CGyChlMFsLUL",
        "colab": {
          "base_uri": "https://localhost:8080/",
          "height": 191
        },
        "outputId": "565bbacc-5491-47a1-be17-5123633e7755"
      },
      "source": [
        "sub.head()"
      ],
      "execution_count": null,
      "outputs": [
        {
          "output_type": "execute_result",
          "data": {
            "text/html": [
              "<div>\n",
              "<style scoped>\n",
              "    .dataframe tbody tr th:only-of-type {\n",
              "        vertical-align: middle;\n",
              "    }\n",
              "\n",
              "    .dataframe tbody tr th {\n",
              "        vertical-align: top;\n",
              "    }\n",
              "\n",
              "    .dataframe thead th {\n",
              "        text-align: right;\n",
              "    }\n",
              "</style>\n",
              "<table border=\"1\" class=\"dataframe\">\n",
              "  <thead>\n",
              "    <tr style=\"text-align: right;\">\n",
              "      <th></th>\n",
              "      <th>EmpID</th>\n",
              "      <th>BiasInfluentialFactor</th>\n",
              "      <th>FitmentPercent</th>\n",
              "    </tr>\n",
              "  </thead>\n",
              "  <tbody>\n",
              "    <tr>\n",
              "      <th>0</th>\n",
              "      <td>5664</td>\n",
              "      <td>DegreeBranch</td>\n",
              "      <td>72.335188</td>\n",
              "    </tr>\n",
              "    <tr>\n",
              "      <th>1</th>\n",
              "      <td>23568</td>\n",
              "      <td>DegreeBranch</td>\n",
              "      <td>78.667996</td>\n",
              "    </tr>\n",
              "    <tr>\n",
              "      <th>2</th>\n",
              "      <td>21490</td>\n",
              "      <td>MartialStatus</td>\n",
              "      <td>81.781927</td>\n",
              "    </tr>\n",
              "    <tr>\n",
              "      <th>3</th>\n",
              "      <td>8363</td>\n",
              "      <td>CurrentCompanyType</td>\n",
              "      <td>80.931136</td>\n",
              "    </tr>\n",
              "    <tr>\n",
              "      <th>4</th>\n",
              "      <td>6165</td>\n",
              "      <td>Gender</td>\n",
              "      <td>81.260334</td>\n",
              "    </tr>\n",
              "  </tbody>\n",
              "</table>\n",
              "</div>"
            ],
            "text/plain": [
              "   EmpID BiasInfluentialFactor  FitmentPercent\n",
              "0   5664          DegreeBranch       72.335188\n",
              "1  23568          DegreeBranch       78.667996\n",
              "2  21490         MartialStatus       81.781927\n",
              "3   8363    CurrentCompanyType       80.931136\n",
              "4   6165                Gender       81.260334"
            ]
          },
          "metadata": {
            "tags": []
          },
          "execution_count": 131
        }
      ]
    },
    {
      "cell_type": "code",
      "metadata": {
        "id": "AMVytBnMsLQg"
      },
      "source": [
        "sub.to_csv('submission.csv',index=False)"
      ],
      "execution_count": null,
      "outputs": []
    },
    {
      "cell_type": "code",
      "metadata": {
        "id": "DESmoxBEaw-e"
      },
      "source": [
        ""
      ],
      "execution_count": null,
      "outputs": []
    },
    {
      "cell_type": "code",
      "metadata": {
        "id": "doW7jaFOaw7O"
      },
      "source": [
        ""
      ],
      "execution_count": null,
      "outputs": []
    },
    {
      "cell_type": "code",
      "metadata": {
        "id": "NYyBnWhDaw4O"
      },
      "source": [
        ""
      ],
      "execution_count": null,
      "outputs": []
    },
    {
      "cell_type": "markdown",
      "metadata": {
        "id": "jVnE4H2hajJQ"
      },
      "source": [
        "Other models tries"
      ]
    },
    {
      "cell_type": "code",
      "metadata": {
        "colab": {
          "base_uri": "https://localhost:8080/",
          "height": 1000,
          "referenced_widgets": [
            "7571058826ff483d960b7c7acc141fa9",
            "db9e096ecaea43878c60e48d339d58a6",
            "5c6b24f5fc8142a0916a52fee72d56fd",
            "6f1aaab205934a2f95fdd06e75bd608a",
            "eebbc76e305240858bb4da16f643d4e7",
            "e8d0b54e20f14f488d83dc7744e1fdbd",
            "bd3605fba143407dbdf1b659c609435c",
            "a861a98f72cc4226b3cd7afa1c6fa03e"
          ]
        },
        "id": "mk7k9qtG0sdd",
        "outputId": "89db86f1-4c24-46fe-ed68-598c6702d1f3"
      },
      "source": [
        "##XGBM\n",
        "\n",
        "probs_xgb = np.zeros(shape=(len(test_df),))\n",
        "\n",
        "scores = []\n",
        "\n",
        "avg_loss = []\n",
        "\n",
        "X_train_cv,y_train_cv = train_df.copy(), target.copy()\n",
        "\n",
        "seeds = [1]\n",
        "\n",
        "for seed in tnrange(len(seeds)):\n",
        "    \n",
        "    print(' ')\n",
        "    \n",
        "    print('#'*100)\n",
        "    \n",
        "    print('Seed',seeds[seed])\n",
        "    \n",
        "    sssf = StratifiedShuffleSplit(n_splits=5, test_size = test_size ,random_state=seed)\n",
        "    \n",
        "    for i, (idxT, idxV) in enumerate(sssf.split(X_train_cv, y_train_cv)):\n",
        "\n",
        "        print('Fold',i)\n",
        "\n",
        "        print(' rows of train =',len(idxT),'rows of holdout =',len(idxV))\n",
        "\n",
        "        clf = xgb.XGBClassifier(n_estimators=1000,\n",
        "                                max_depth=6,\n",
        "                                learning_rate=0.04,\n",
        "                                subsample=0.9,\n",
        "                                colsample_bytree=0.35,\n",
        "                                objective = 'multi:softmax',\n",
        "                                random_state = 1\n",
        "                               )        \n",
        "\n",
        "\n",
        "        h = clf.fit(X_train_cv.iloc[idxT], y_train_cv.iloc[idxT], \n",
        "                    eval_set=[(X_train_cv.iloc[idxV],y_train_cv.iloc[idxV])],\n",
        "                    verbose=100,eval_metric=['merror'],\n",
        "                    early_stopping_rounds=50)\n",
        "        \n",
        "        probs_oof = clf.predict_proba(X_train_cv.iloc[idxV])\n",
        "        \n",
        "        probs_xgb +=clf.predict_proba(test_df)[:,1]\n",
        "\n",
        "        roc = roc_auc_score(to_categorical(y_train_cv.iloc[idxV]),probs_oof,multi_class='ovr')\n",
        "\n",
        "        scores.append(roc)\n",
        "        \n",
        "        avg_loss.append(clf.best_score)\n",
        "\n",
        "        print ('XGB Val OOF AUC=',roc)\n",
        "\n",
        "        print('#'*100)\n",
        "\n",
        "        if i==0:\n",
        "            \n",
        "            feature_importance(clf,X_train_cv)\n",
        "            \n",
        "print(\"Log Loss Stats {0:.5f},{1:.5f}\".format(np.array(avg_loss).mean(), np.array(avg_loss).std()))\n",
        "\n",
        "print('%.6f (%.6f)' % (np.array(scores).mean(), np.array(scores).std()))"
      ],
      "execution_count": null,
      "outputs": [
        {
          "output_type": "display_data",
          "data": {
            "application/vnd.jupyter.widget-view+json": {
              "model_id": "7571058826ff483d960b7c7acc141fa9",
              "version_minor": 0,
              "version_major": 2
            },
            "text/plain": [
              "HBox(children=(FloatProgress(value=0.0, max=1.0), HTML(value='')))"
            ]
          },
          "metadata": {
            "tags": []
          }
        },
        {
          "output_type": "stream",
          "text": [
            " \n",
            "####################################################################################################\n",
            "Seed 1\n",
            "Fold 0\n",
            " rows of train = 7834 rows of holdout = 1959\n",
            "[0]\tvalidation_0-merror:0.509444\n",
            "Will train until validation_0-merror hasn't improved in 50 rounds.\n",
            "[100]\tvalidation_0-merror:0.127616\n",
            "[200]\tvalidation_0-merror:0.111281\n",
            "[300]\tvalidation_0-merror:0.108729\n",
            "Stopping. Best iteration:\n",
            "[289]\tvalidation_0-merror:0.107198\n",
            "\n",
            "XGB Val OOF AUC= 0.9869463750501704\n",
            "####################################################################################################\n",
            "[0.00591471 0.02773813 0.38661942 0.00638668 0.05472108 0.10158391\n",
            " 0.00582348 0.02277837 0.04150558 0.0529352  0.0316784  0.01503732\n",
            " 0.01211468 0.07179228 0.00633745 0.14424887 0.00625351 0.00653095]\n"
          ],
          "name": "stdout"
        },
        {
          "output_type": "display_data",
          "data": {
            "image/png": "[encoded data removed]",
            "text/plain": [
              "<Figure size 1080x1080 with 1 Axes>"
            ]
          },
          "metadata": {
            "tags": [],
            "needs_background": "light"
          }
        },
        {
          "output_type": "stream",
          "text": [
            "Fold 1\n",
            " rows of train = 7834 rows of holdout = 1959\n",
            "[0]\tvalidation_0-merror:0.489025\n",
            "Will train until validation_0-merror hasn't improved in 50 rounds.\n",
            "[100]\tvalidation_0-merror:0.12098\n",
            "[200]\tvalidation_0-merror:0.107708\n",
            "Stopping. Best iteration:\n",
            "[210]\tvalidation_0-merror:0.105666\n",
            "\n",
            "XGB Val OOF AUC= 0.9859285456894794\n",
            "####################################################################################################\n",
            "Fold 2\n",
            " rows of train = 7834 rows of holdout = 1959\n",
            "[0]\tvalidation_0-merror:0.49413\n",
            "Will train until validation_0-merror hasn't improved in 50 rounds.\n",
            "[100]\tvalidation_0-merror:0.128127\n",
            "[200]\tvalidation_0-merror:0.114344\n",
            "Stopping. Best iteration:\n",
            "[178]\tvalidation_0-merror:0.11026\n",
            "\n",
            "XGB Val OOF AUC= 0.9864701497536961\n",
            "####################################################################################################\n",
            "Fold 3\n",
            " rows of train = 7834 rows of holdout = 1959\n",
            "[0]\tvalidation_0-merror:0.493109\n",
            "Will train until validation_0-merror hasn't improved in 50 rounds.\n",
            "[100]\tvalidation_0-merror:0.129148\n",
            "[200]\tvalidation_0-merror:0.11026\n",
            "[300]\tvalidation_0-merror:0.107198\n",
            "Stopping. Best iteration:\n",
            "[273]\tvalidation_0-merror:0.107198\n",
            "\n",
            "XGB Val OOF AUC= 0.9847177555960813\n",
            "####################################################################################################\n",
            "Fold 4\n",
            " rows of train = 7834 rows of holdout = 1959\n",
            "[0]\tvalidation_0-merror:0.486983\n",
            "Will train until validation_0-merror hasn't improved in 50 rounds.\n",
            "[100]\tvalidation_0-merror:0.122511\n",
            "[200]\tvalidation_0-merror:0.108729\n",
            "[300]\tvalidation_0-merror:0.108218\n",
            "Stopping. Best iteration:\n",
            "[252]\tvalidation_0-merror:0.104645\n",
            "\n",
            "XGB Val OOF AUC= 0.9856416930679673\n",
            "####################################################################################################\n",
            "\n",
            "Log Loss Stats 0.10699,0.00190\n",
            "0.985941 (0.000759)\n"
          ],
          "name": "stdout"
        }
      ]
    },
    {
      "cell_type": "code",
      "metadata": {
        "id": "R3XZroT74FAq"
      },
      "source": [
        "#Catboost\n",
        "probs_cb = np.zeros(shape=(len(test_df),))\n",
        "\n",
        "scores = []\n",
        "\n",
        "avg_loss = []\n",
        "\n",
        "X_train_cv,y_train_cv = train_df.copy(), target.copy()\n",
        "\n",
        "seeds = [1]\n",
        "\n",
        "for seed in tnrange(len(seeds)):\n",
        "    \n",
        "    print(' ')\n",
        "    \n",
        "    print('#'*100)\n",
        "    \n",
        "    print('Seed',seeds[seed])\n",
        "    \n",
        "    sssf = StratifiedShuffleSplit(n_splits=5, test_size = test_size ,random_state=seed)\n",
        "    \n",
        "    for i, (idxT, idxV) in enumerate(sssf.split(X_train_cv, y_train_cv)):\n",
        "\n",
        "        print('Fold',i)\n",
        "\n",
        "        print(' rows of train =',len(idxT),'rows of holdout =',len(idxV))\n",
        "\n",
        "        clf = CatBoostClassifier(iterations=10000,\n",
        "                                learning_rate=0.01,\n",
        "                                random_strength=0.1,\n",
        "                                depth=8,\n",
        "                                loss_function='MultiClass',\n",
        "                                eval_metric='MultiClass',\n",
        "                                leaf_estimation_method='Newton',\n",
        "                                random_state = 1,\n",
        "                                cat_features =cat_features,\n",
        "                                rsm = 0.8\n",
        "                                )    \n",
        "\n",
        "        h = clf.fit(X_train_cv.iloc[idxT], y_train_cv.iloc[idxT],\n",
        "                    eval_set=[(X_train_cv.iloc[idxV],y_train_cv.iloc[idxV])],\n",
        "                   early_stopping_rounds=60,verbose = 100)\n",
        "\n",
        "        probs_oof = clf.predict_proba(X_train_cv.iloc[idxV])\n",
        "        \n",
        "        probs_cb +=clf.predict_proba(test_df)[:,1]\n",
        "        \n",
        "        roc = roc_auc_score(to_categorical(y_train_cv.iloc[idxV]),probs_oof,multi_class='ovr')\n",
        "\n",
        "        scores.append(roc)\n",
        "\n",
        "        print ('CatBoost Val OOF AUC=',roc)\n",
        "\n",
        "        avg_loss.append(clf.best_score_['validation']['MultiClass'])\n",
        "\n",
        "        if i==0:\n",
        "            \n",
        "            feature_importance(clf,X_train_cv)\n",
        "\n",
        "        print('#'*100)\n",
        "\n",
        "print(\"Log Loss Stats {0:.8f},{1:.8f}\".format(np.array(avg_loss).mean(), np.array(avg_loss).std()))\n",
        "\n",
        "print('%.8f (%.8f)' % (np.array(scores).mean(), np.array(scores).std()))"
      ],
      "execution_count": null,
      "outputs": []
    },
    {
      "cell_type": "code",
      "metadata": {
        "id": "25F5eYv-8GJm"
      },
      "source": [
        ""
      ],
      "execution_count": null,
      "outputs": []
    }
  ]
}